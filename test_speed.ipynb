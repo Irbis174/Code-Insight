{
 "cells": [
  {
   "cell_type": "code",
   "execution_count": 29,
   "id": "be682a55",
   "metadata": {},
   "outputs": [],
   "source": [
    "import time\n",
    "from random import randint, seed, choice\n",
    "import numpy as np"
   ]
  },
  {
   "cell_type": "code",
   "execution_count": 42,
   "id": "ad0cacc3",
   "metadata": {},
   "outputs": [],
   "source": [
    "def quicksort(a, cnt = None):\n",
    "    if len(a) <= 1:\n",
    "        return a\n",
    "    else:\n",
    "        q = choice(a)\n",
    "        s_nums = []\n",
    "        m_nums = []\n",
    "        e_nums = []\n",
    "        for n in a:\n",
    "            if n < q:\n",
    "                s_nums.append(n)\n",
    "            elif n > q:\n",
    "                m_nums.append(n)\n",
    "            else:\n",
    "                e_nums.append(n)\n",
    "    return quicksort(s_nums) + e_nums + quicksort(m_nums)"
   ]
  },
  {
   "cell_type": "code",
   "execution_count": 39,
   "id": "3c597562",
   "metadata": {},
   "outputs": [],
   "source": [
    "def bubble_sort_first(a,cnt):\n",
    "    i = 0\n",
    "    N = cnt\n",
    "    while i < N - 1:\n",
    "        j = 0\n",
    "        while j < N - 1 - i:\n",
    "            if a[j] > a[j + 1]:\n",
    "                a[j], a[j + 1] = a[j + 1], a[j]\n",
    "            j += 1\n",
    "        i += 1"
   ]
  },
  {
   "cell_type": "code",
   "execution_count": 50,
   "id": "92b5570a",
   "metadata": {},
   "outputs": [],
   "source": [
    "def bubble_sort_second(a, cnt = None):  \n",
    "    swapped = True\n",
    "    while swapped:\n",
    "        swapped = False\n",
    "        for i in range(len(a) - 1):\n",
    "            if a[i] > a[i + 1]:\n",
    "                a[i], a[i + 1] = a[i + 1], a[i]\n",
    "                swapped = True"
   ]
  },
  {
   "cell_type": "code",
   "execution_count": 21,
   "id": "62ef754c",
   "metadata": {},
   "outputs": [],
   "source": [
    "def bubble_sort_third(a,cnt):\n",
    "    for i in range(cnt - 1):\n",
    "        for j in range(cnt - i - 1):\n",
    "            if a[j] > a[j + 1]:\n",
    "                a[j], a[j + 1] = a[j + 1], a[j]"
   ]
  },
  {
   "cell_type": "code",
   "execution_count": 22,
   "id": "b6f0136e",
   "metadata": {},
   "outputs": [],
   "source": [
    "def bubble_sort_fourth(a,cnt):\n",
    "    for i in range(cnt - 1):\n",
    "        for j in range(cnt - i - 1):\n",
    "            if a[j] > a[j + 1]:\n",
    "                buff = a[j]\n",
    "                a[j] = a[j + 1]\n",
    "                a[j + 1] = buff"
   ]
  },
  {
   "cell_type": "code",
   "execution_count": 48,
   "id": "251e7798",
   "metadata": {},
   "outputs": [],
   "source": [
    "def test(sd,cnt, f):\n",
    "    seed(sd)\n",
    "    arr = [randint(1,100000000) for i in range(cnt)]\n",
    "    time_start = time.time()\n",
    "    f(arr,cnt)\n",
    "    print(time.time() - time_start)"
   ]
  },
  {
   "cell_type": "code",
   "execution_count": 52,
   "id": "fe9f3e8c",
   "metadata": {},
   "outputs": [
    {
     "name": "stdout",
     "output_type": "stream",
     "text": [
      "19.3934006690979\n",
      "18.82937264442444\n",
      "18.882474660873413\n",
      "18.602986812591553\n"
     ]
    }
   ],
   "source": [
    "test(123,10000,bubble_sort_first)\n",
    "test(123,10000,bubble_sort_first)\n",
    "test(123,10000,bubble_sort_first)\n",
    "test(123,10000,bubble_sort_first)"
   ]
  },
  {
   "cell_type": "code",
   "execution_count": 53,
   "id": "2c74c814",
   "metadata": {},
   "outputs": [
    {
     "name": "stdout",
     "output_type": "stream",
     "text": [
      "0.036774396896362305\n",
      "0.04186058044433594\n",
      "0.03687334060668945\n",
      "0.03682565689086914\n"
     ]
    }
   ],
   "source": [
    "test(123,10000,quicksort)\n",
    "test(123,10000,quicksort)\n",
    "test(123,10000,quicksort)\n",
    "test(123,10000,quicksort)"
   ]
  },
  {
   "cell_type": "code",
   "execution_count": 54,
   "id": "2b38fd40",
   "metadata": {},
   "outputs": [
    {
     "name": "stdout",
     "output_type": "stream",
     "text": [
      "18.441393852233887\n",
      "18.276926040649414\n",
      "18.405117511749268\n",
      "18.856698751449585\n"
     ]
    }
   ],
   "source": [
    "test(123,10000,bubble_sort_second)\n",
    "test(123,10000,bubble_sort_second)\n",
    "test(123,10000,bubble_sort_second)\n",
    "test(123,10000,bubble_sort_second)"
   ]
  },
  {
   "cell_type": "code",
   "execution_count": 55,
   "id": "a7ca114b",
   "metadata": {},
   "outputs": [
    {
     "name": "stdout",
     "output_type": "stream",
     "text": [
      "11.739470958709717\n",
      "11.856914758682251\n",
      "11.829540491104126\n",
      "11.755511045455933\n"
     ]
    }
   ],
   "source": [
    "test(123,10000,bubble_sort_third)\n",
    "test(123,10000,bubble_sort_third)\n",
    "test(123,10000,bubble_sort_third)\n",
    "test(123,10000,bubble_sort_third)"
   ]
  },
  {
   "cell_type": "code",
   "execution_count": 56,
   "id": "6eb45635",
   "metadata": {},
   "outputs": [
    {
     "name": "stdout",
     "output_type": "stream",
     "text": [
      "11.915636539459229\n",
      "12.267863035202026\n",
      "11.854254961013794\n",
      "12.006880760192871\n"
     ]
    }
   ],
   "source": [
    "test(123,10000,bubble_sort_fourth)\n",
    "test(123,10000,bubble_sort_fourth)\n",
    "test(123,10000,bubble_sort_fourth)\n",
    "test(123,10000,bubble_sort_fourth)"
   ]
  },
  {
   "cell_type": "code",
   "execution_count": 57,
   "id": "43659c85",
   "metadata": {},
   "outputs": [
    {
     "name": "stdout",
     "output_type": "stream",
     "text": [
      "0.03593611717224121\n",
      "19.058418035507202\n",
      "18.67984676361084\n",
      "12.025256633758545\n",
      "12.034919261932373\n"
     ]
    }
   ],
   "source": [
    "test(123,10000,quicksort)\n",
    "test(123,10000,bubble_sort_first)\n",
    "test(123,10000,bubble_sort_second)\n",
    "test(123,10000,bubble_sort_third)\n",
    "test(123,10000,bubble_sort_fourth)"
   ]
  }
 ],
 "metadata": {
  "kernelspec": {
   "display_name": "Python 3 (ipykernel)",
   "language": "python",
   "name": "python3"
  },
  "language_info": {
   "codemirror_mode": {
    "name": "ipython",
    "version": 3
   },
   "file_extension": ".py",
   "mimetype": "text/x-python",
   "name": "python",
   "nbconvert_exporter": "python",
   "pygments_lexer": "ipython3",
   "version": "3.9.18"
  }
 },
 "nbformat": 4,
 "nbformat_minor": 5
}
