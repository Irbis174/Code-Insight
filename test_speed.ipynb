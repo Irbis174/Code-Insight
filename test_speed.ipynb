{
 "cells": [
  {
   "cell_type": "code",
   "execution_count": 1,
   "id": "be682a55",
   "metadata": {},
   "outputs": [],
   "source": [
    "import time\n",
    "from random import randint, seed, choice\n",
    "import numpy as np"
   ]
  },
  {
   "cell_type": "code",
   "execution_count": 8,
   "id": "ad0cacc3",
   "metadata": {},
   "outputs": [],
   "source": [
    "def quicksort(a, cnt = None):\n",
    "    if len(a) <= 1:\n",
    "        return a\n",
    "    else:\n",
    "        q = choice(a)\n",
    "        s_nums = []\n",
    "        m_nums = []\n",
    "        e_nums = []\n",
    "        for n in a:\n",
    "            if n < q:\n",
    "                s_nums.append(n)\n",
    "            elif n > q:\n",
    "                m_nums.append(n)\n",
    "            else:\n",
    "                e_nums.append(n)\n",
    "    return quicksort(s_nums) + e_nums + quicksort(m_nums)"
   ]
  },
  {
   "cell_type": "code",
   "execution_count": 9,
   "id": "3c597562",
   "metadata": {},
   "outputs": [],
   "source": [
    "def bubble_sort_first(a,cnt):\n",
    "    i = 0\n",
    "    N = cnt\n",
    "    while i < N - 1:\n",
    "        j = 0\n",
    "        while j < N - 1 - i:\n",
    "            if a[j] > a[j + 1]:\n",
    "                a[j], a[j + 1] = a[j + 1], a[j]\n",
    "            j += 1\n",
    "        i += 1"
   ]
  },
  {
   "cell_type": "code",
   "execution_count": 10,
   "id": "92b5570a",
   "metadata": {},
   "outputs": [],
   "source": [
    "def bubble_sort_second(a, cnt = None):  \n",
    "    swapped = True\n",
    "    while swapped:\n",
    "        swapped = False\n",
    "        for i in range(len(a) - 1):\n",
    "            if a[i] > a[i + 1]:\n",
    "                a[i], a[i + 1] = a[i + 1], a[i]\n",
    "                swapped = True"
   ]
  },
  {
   "cell_type": "code",
   "execution_count": 11,
   "id": "62ef754c",
   "metadata": {},
   "outputs": [],
   "source": [
    "def bubble_sort_third(a,cnt):\n",
    "    for i in range(cnt - 1):\n",
    "        for j in range(cnt - i - 1):\n",
    "            if a[j] > a[j + 1]:\n",
    "                a[j], a[j + 1] = a[j + 1], a[j]"
   ]
  },
  {
   "cell_type": "code",
   "execution_count": 12,
   "id": "b6f0136e",
   "metadata": {},
   "outputs": [],
   "source": [
    "def bubble_sort_fourth(a,cnt):\n",
    "    for i in range(cnt - 1):\n",
    "        for j in range(cnt - i - 1):\n",
    "            if a[j] > a[j + 1]:\n",
    "                buff = a[j]\n",
    "                a[j] = a[j + 1]\n",
    "                a[j + 1] = buff"
   ]
  },
  {
   "cell_type": "code",
   "execution_count": 13,
   "id": "251e7798",
   "metadata": {},
   "outputs": [],
   "source": [
    "def test(sd,cnt, f):\n",
    "    seed(sd)\n",
    "    arr = [randint(1,100000000) for i in range(cnt)]\n",
    "    time_start = time.time()\n",
    "    f(arr,cnt)\n",
    "    print(time.time() - time_start)"
   ]
  },
  {
   "cell_type": "code",
   "execution_count": 14,
   "id": "2c74c814",
   "metadata": {},
   "outputs": [
    {
     "name": "stdout",
     "output_type": "stream",
     "text": [
      "0.015628337860107422\n",
      "0.01624011993408203\n",
      "0.015002012252807617\n",
      "0.015002965927124023\n"
     ]
    }
   ],
   "source": [
    "test(123,10000,quicksort)\n",
    "test(123,10000,quicksort)\n",
    "test(123,10000,quicksort)\n",
    "test(123,10000,quicksort)"
   ]
  },
  {
   "cell_type": "code",
   "execution_count": 15,
   "id": "fe9f3e8c",
   "metadata": {},
   "outputs": [
    {
     "name": "stdout",
     "output_type": "stream",
     "text": [
      "8.14302682876587\n",
      "8.13437557220459\n",
      "8.268702268600464\n",
      "8.217934131622314\n"
     ]
    }
   ],
   "source": [
    "test(123,10000,bubble_sort_first)\n",
    "test(123,10000,bubble_sort_first)\n",
    "test(123,10000,bubble_sort_first)\n",
    "test(123,10000,bubble_sort_first)"
   ]
  },
  {
   "cell_type": "code",
   "execution_count": 16,
   "id": "2b38fd40",
   "metadata": {},
   "outputs": [
    {
     "name": "stdout",
     "output_type": "stream",
     "text": [
      "8.161073923110962\n",
      "8.271913290023804\n",
      "8.21333384513855\n",
      "8.229838609695435\n"
     ]
    }
   ],
   "source": [
    "test(123,10000,bubble_sort_second)\n",
    "test(123,10000,bubble_sort_second)\n",
    "test(123,10000,bubble_sort_second)\n",
    "test(123,10000,bubble_sort_second)"
   ]
  },
  {
   "cell_type": "code",
   "execution_count": 17,
   "id": "a7ca114b",
   "metadata": {},
   "outputs": [
    {
     "name": "stdout",
     "output_type": "stream",
     "text": [
      "5.162482023239136\n",
      "5.233276844024658\n",
      "5.1142497062683105\n",
      "5.099714517593384\n"
     ]
    }
   ],
   "source": [
    "test(123,10000,bubble_sort_third)\n",
    "test(123,10000,bubble_sort_third)\n",
    "test(123,10000,bubble_sort_third)\n",
    "test(123,10000,bubble_sort_third)"
   ]
  },
  {
   "cell_type": "code",
   "execution_count": 18,
   "id": "6eb45635",
   "metadata": {},
   "outputs": [
    {
     "name": "stdout",
     "output_type": "stream",
     "text": [
      "5.231604337692261\n",
      "5.260722637176514\n",
      "5.248116731643677\n",
      "5.359849214553833\n"
     ]
    }
   ],
   "source": [
    "test(123,10000,bubble_sort_fourth)\n",
    "test(123,10000,bubble_sort_fourth)\n",
    "test(123,10000,bubble_sort_fourth)\n",
    "test(123,10000,bubble_sort_fourth)"
   ]
  },
  {
   "cell_type": "code",
   "execution_count": 19,
   "id": "43659c85",
   "metadata": {},
   "outputs": [
    {
     "name": "stdout",
     "output_type": "stream",
     "text": [
      "0.015531778335571289\n",
      "8.069439172744751\n",
      "7.9975104331970215\n",
      "5.045237302780151\n",
      "5.214599609375\n"
     ]
    }
   ],
   "source": [
    "test(123,10000,quicksort)\n",
    "test(123,10000,bubble_sort_first)\n",
    "test(123,10000,bubble_sort_second)\n",
    "test(123,10000,bubble_sort_third)\n",
    "test(123,10000,bubble_sort_fourth)"
   ]
  },
  {
   "cell_type": "code",
   "execution_count": null,
   "id": "3d81cb06",
   "metadata": {},
   "outputs": [],
   "source": []
  }
 ],
 "metadata": {
  "kernelspec": {
   "display_name": "Python 3 (ipykernel)",
   "language": "python",
   "name": "python3"
  },
  "language_info": {
   "codemirror_mode": {
    "name": "ipython",
    "version": 3
   },
   "file_extension": ".py",
   "mimetype": "text/x-python",
   "name": "python",
   "nbconvert_exporter": "python",
   "pygments_lexer": "ipython3",
   "version": "3.9.18"
  }
 },
 "nbformat": 4,
 "nbformat_minor": 5
}
