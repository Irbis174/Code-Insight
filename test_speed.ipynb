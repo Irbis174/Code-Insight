{
 "cells": [
  {
   "cell_type": "code",
   "execution_count": 107,
   "id": "cc102bcf",
   "metadata": {},
   "outputs": [],
   "source": [
    "import time\n",
    "from random import randint, seed"
   ]
  },
  {
   "cell_type": "code",
   "execution_count": 141,
   "id": "3d56e889",
   "metadata": {},
   "outputs": [],
   "source": [
    "def bubble_sort_first(a,cnt):\n",
    "    i = 0\n",
    "    N = cnt\n",
    "    while i < N - 1:\n",
    "        j = 0\n",
    "        while j < N - 1 - i:\n",
    "            if a[j] > a[j + 1]:\n",
    "                a[j], a[j + 1] = a[j + 1], a[j]\n",
    "            j += 1\n",
    "        i += 1"
   ]
  },
  {
   "cell_type": "code",
   "execution_count": 159,
   "id": "aac41942",
   "metadata": {},
   "outputs": [],
   "source": [
    "def bubble_sort_second(a,cnt):  \n",
    "    swapped = True\n",
    "    while swapped:\n",
    "        swapped = False\n",
    "        for i in range(len(a) - 1):\n",
    "            if a[i] > a[i + 1]:\n",
    "                a[i], a[i + 1] = a[i + 1], a[i]\n",
    "                swapped = True"
   ]
  },
  {
   "cell_type": "code",
   "execution_count": 143,
   "id": "d03a48d2",
   "metadata": {},
   "outputs": [],
   "source": [
    "def bubble_sort_third(a,cnt):\n",
    "    for i in range(cnt - 1):\n",
    "        for j in range(cnt - i - 1):\n",
    "            if a[j] > a[j + 1]:\n",
    "                a[j], a[j + 1] = a[j + 1], a[j]"
   ]
  },
  {
   "cell_type": "code",
   "execution_count": 144,
   "id": "883cafed",
   "metadata": {},
   "outputs": [],
   "source": [
    "def bubble_sort_fourth(a,cnt):\n",
    "    for i in range(cnt - 1):\n",
    "        for j in range(cnt - i - 1):\n",
    "            if a[j] > a[j + 1]:\n",
    "                buff = a[j]\n",
    "                a[j] = a[j + 1]\n",
    "                a[j + 1] = buff"
   ]
  },
  {
   "cell_type": "code",
   "execution_count": 177,
   "id": "194253ca",
   "metadata": {},
   "outputs": [],
   "source": [
    "def test(sd,cnt, f):\n",
    "    seed(sd)\n",
    "    arr = [randint(1,100000000) for i in range(cnt)]\n",
    "    time_start = time.time()\n",
    "    f(arr,cnt)\n",
    "    print(time.time() - time_start)"
   ]
  },
  {
   "cell_type": "code",
   "execution_count": 179,
   "id": "df77f411",
   "metadata": {},
   "outputs": [
    {
     "name": "stdout",
     "output_type": "stream",
     "text": [
      "[35927022, 11701998, 54659065]\n",
      "19.482969999313354\n",
      "[35927022, 11701998, 54659065]\n",
      "19.422718048095703\n"
     ]
    }
   ],
   "source": [
    "test(123,10000,bubble_sort_first)\n",
    "test(123,10000,bubble_sort_first)"
   ]
  },
  {
   "cell_type": "code",
   "execution_count": 180,
   "id": "664920c7",
   "metadata": {},
   "outputs": [
    {
     "name": "stdout",
     "output_type": "stream",
     "text": [
      "[35927022, 11701998, 54659065]\n",
      "18.729299068450928\n",
      "[35927022, 11701998, 54659065]\n",
      "19.222047090530396\n"
     ]
    }
   ],
   "source": [
    "test(123,10000,bubble_sort_second)\n",
    "test(123,10000,bubble_sort_second)"
   ]
  },
  {
   "cell_type": "code",
   "execution_count": 181,
   "id": "dd015717",
   "metadata": {},
   "outputs": [
    {
     "name": "stdout",
     "output_type": "stream",
     "text": [
      "[35927022, 11701998, 54659065]\n",
      "11.867863416671753\n",
      "[35927022, 11701998, 54659065]\n",
      "12.025223016738892\n"
     ]
    }
   ],
   "source": [
    "test(123,10000,bubble_sort_third)\n",
    "test(123,10000,bubble_sort_third)"
   ]
  },
  {
   "cell_type": "code",
   "execution_count": 182,
   "id": "2f702f8a",
   "metadata": {},
   "outputs": [
    {
     "name": "stdout",
     "output_type": "stream",
     "text": [
      "[35927022, 11701998, 54659065]\n",
      "12.35123610496521\n",
      "[35927022, 11701998, 54659065]\n",
      "12.09038519859314\n"
     ]
    }
   ],
   "source": [
    "test(123,10000,bubble_sort_fourth)\n",
    "test(123,10000,bubble_sort_fourth)"
   ]
  },
  {
   "cell_type": "code",
   "execution_count": null,
   "id": "e7f574c1",
   "metadata": {},
   "outputs": [],
   "source": []
  }
 ],
 "metadata": {
  "kernelspec": {
   "display_name": "Python 3 (ipykernel)",
   "language": "python",
   "name": "python3"
  },
  "language_info": {
   "codemirror_mode": {
    "name": "ipython",
    "version": 3
   },
   "file_extension": ".py",
   "mimetype": "text/x-python",
   "name": "python",
   "nbconvert_exporter": "python",
   "pygments_lexer": "ipython3",
   "version": "3.9.18"
  }
 },
 "nbformat": 4,
 "nbformat_minor": 5
}
