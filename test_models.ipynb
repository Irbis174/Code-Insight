{
 "cells": [
  {
   "cell_type": "code",
   "execution_count": 1,
   "id": "7e8d9dd7",
   "metadata": {},
   "outputs": [],
   "source": [
    "import numpy as np\n",
    "from keras.models import load_model\n",
    "import tensorflow as tf\n",
    "from tensorflow.keras.preprocessing.text import Tokenizer\n",
    "from tensorflow.keras.preprocessing.sequence import pad_sequences\n",
    "\n",
    "import pickle"
   ]
  },
  {
   "cell_type": "code",
   "execution_count": 2,
   "id": "7a9b6fd1",
   "metadata": {},
   "outputs": [],
   "source": [
    "model = load_model('models\\хорошая_модель_(возможно_лучшая).h5')"
   ]
  },
  {
   "cell_type": "code",
   "execution_count": 3,
   "id": "1a634995",
   "metadata": {},
   "outputs": [],
   "source": [
    "with open('files\\\\pre_files_sort.pickle', 'rb') as file:\n",
    "    pre_files_sort = pickle.load(file)"
   ]
  },
  {
   "cell_type": "code",
   "execution_count": 4,
   "id": "72f3b653",
   "metadata": {},
   "outputs": [],
   "source": [
    "maxWord = 1000\n",
    "max_text_len = 50\n",
    "tokenizer = Tokenizer(num_words=maxWord, lower = True, split = ' ', char_level=False)\n",
    "tokenizer.fit_on_texts(pre_files_sort)\n",
    "dist = list(tokenizer.word_counts.items())\n",
    "data = tokenizer.texts_to_sequences(pre_files_sort)\n",
    "data_pad = pad_sequences(data,maxlen = max_text_len)"
   ]
  },
  {
   "cell_type": "code",
   "execution_count": 5,
   "id": "58eb0279",
   "metadata": {},
   "outputs": [
    {
     "name": "stdout",
     "output_type": "stream",
     "text": [
      "[[0.99891055 0.00108949]] 0\n"
     ]
    }
   ],
   "source": [
    "test_text = \"\"\"\n",
    "def bubble_sort(arr):\n",
    "    n = len(arr)\n",
    "    for i in range(n):\n",
    "        for j in range(0, n-i-1):\n",
    "            if arr[j] > arr[j+1]:\n",
    "                arr[j], arr[j+1] = arr[j+1], arr[j]\n",
    "    return arr\n",
    "\n",
    "arr = [64, 34, 25, 12, 22, 11, 90]\n",
    "sorted_arr = bubble_sort(arr)\n",
    "print(\"Sorted array:\", sorted_arr)\n",
    "            \"\"\".lower()\n",
    "data_test = tokenizer.texts_to_sequences([test_text])\n",
    "data_pad_test = pad_sequences(data_test, maxlen = max_text_len)\n",
    "res = model.predict(data_pad_test)\n",
    "print(res, np.argmax(res))"
   ]
  },
  {
   "cell_type": "code",
   "execution_count": 7,
   "id": "27559412",
   "metadata": {},
   "outputs": [
    {
     "name": "stdout",
     "output_type": "stream",
     "text": [
      "[[0.98924935 0.01075065]] 0\n"
     ]
    }
   ],
   "source": [
    "test_text = \"\"\"\n",
    "def quicksort(arr):\n",
    "    if len(arr) <= 1:\n",
    "        return arr\n",
    "    else:\n",
    "        pivot = arr[0]\n",
    "        less_than_pivot = [x for x in arr[1:] if x <= pivot]\n",
    "        greater_than_pivot = [x for x in arr[1:] if x > pivot]\n",
    "        return quicksort(less_than_pivot) + [pivot] + quicksort(greater_than_pivot)\n",
    "        \n",
    "\n",
    "# Пример использования:\n",
    "my_list = [3, 6, 8, 10, 1, 2, 1]\n",
    "print(\"Исходный список:\", my_list)\n",
    "sorted_list = quicksort(my_list)\n",
    "print(\"Отсортированный список:\", sorted_list)\n",
    "            \"\"\".lower()\n",
    "data_test = tokenizer.texts_to_sequences([test_text])\n",
    "data_pad_test = pad_sequences(data_test, maxlen = max_text_len)\n",
    "res = model.predict(data_pad_test)\n",
    "print(res, np.argmax(res))"
   ]
  },
  {
   "cell_type": "code",
   "execution_count": null,
   "id": "1f737253",
   "metadata": {},
   "outputs": [],
   "source": []
  }
 ],
 "metadata": {
  "kernelspec": {
   "display_name": "tfod",
   "language": "python",
   "name": "myenv"
  },
  "language_info": {
   "codemirror_mode": {
    "name": "ipython",
    "version": 3
   },
   "file_extension": ".py",
   "mimetype": "text/x-python",
   "name": "python",
   "nbconvert_exporter": "python",
   "pygments_lexer": "ipython3",
   "version": "3.9.18"
  }
 },
 "nbformat": 4,
 "nbformat_minor": 5
}
