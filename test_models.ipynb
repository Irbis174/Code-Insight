{
 "cells": [
  {
   "cell_type": "code",
   "execution_count": 1,
   "id": "7e8d9dd7",
   "metadata": {},
   "outputs": [],
   "source": [
    "import numpy as np\n",
    "from keras.models import load_model\n",
    "import tensorflow as tf\n",
    "from tensorflow.keras.preprocessing.text import Tokenizer\n",
    "from tensorflow.keras.preprocessing.sequence import pad_sequences\n",
    "\n",
    "import pickle"
   ]
  },
  {
   "cell_type": "code",
   "execution_count": 2,
   "id": "7a9b6fd1",
   "metadata": {},
   "outputs": [],
   "source": [
    "model = load_model(\"models\\\\test_4_sort(6).h5\")"
   ]
  },
  {
   "cell_type": "code",
   "execution_count": 3,
   "id": "1a634995",
   "metadata": {},
   "outputs": [],
   "source": [
    "with open('files\\\\4_sort.pickle', 'rb') as file:\n",
    "    pre_files_sort = pickle.load(file)"
   ]
  },
  {
   "cell_type": "code",
   "execution_count": 4,
   "id": "72f3b653",
   "metadata": {},
   "outputs": [],
   "source": [
    "maxWord = 15\n",
    "max_text_len = 40\n",
    "tokenizer = Tokenizer(num_words=maxWord, lower = True, split = ' ', char_level=False)\n",
    "tokenizer.fit_on_texts(pre_files_sort)\n",
    "dist = list(tokenizer.word_counts.items())\n",
    "data = tokenizer.texts_to_sequences(pre_files_sort)\n",
    "data_pad = pad_sequences(data,maxlen = max_text_len)"
   ]
  },
  {
   "cell_type": "code",
   "execution_count": 5,
   "id": "6edf8099",
   "metadata": {},
   "outputs": [],
   "source": [
    "def test_model(text,max_text_len = max_text_len,model=model):\n",
    "    test_text = text.lower()\n",
    "    data_test = tokenizer.texts_to_sequences([test_text])\n",
    "    data_pad_test = pad_sequences(data_test, maxlen = max_text_len)\n",
    "    res = model.predict(data_pad_test)\n",
    "    return res, np.argmax(res)"
   ]
  },
  {
   "cell_type": "code",
   "execution_count": 6,
   "id": "8a7e54c6",
   "metadata": {},
   "outputs": [
    {
     "data": {
      "text/plain": [
       "(array([[0.84076196, 0.02764904, 0.05954951, 0.07203955]], dtype=float32), 0)"
      ]
     },
     "execution_count": 6,
     "metadata": {},
     "output_type": "execute_result"
    }
   ],
   "source": [
    "test_model(\"\"\"def bubble_sort(arr):\n",
    "    n = len(arr)\n",
    "    for i in range(n):\n",
    "        for j in range(0, n - i - 1):\n",
    "            if arr[j] > arr[j + 1]:\n",
    "                arr[j], arr[j + 1] = arr[j + 1], arr[j]\"\"\")"
   ]
  },
  {
   "cell_type": "code",
   "execution_count": 10,
   "id": "ef278d0f",
   "metadata": {},
   "outputs": [
    {
     "data": {
      "text/plain": [
       "(array([[0.16648537, 0.5147089 , 0.14682344, 0.17198232]], dtype=float32), 1)"
      ]
     },
     "execution_count": 10,
     "metadata": {},
     "output_type": "execute_result"
    }
   ],
   "source": [
    "test_model(\"\"\"\n",
    "    def quicksort(arr):\n",
    "        if len(arr) <= 1:\n",
    "            return arr\n",
    "        else:\n",
    "            pivot = arr[0]\n",
    "            less = [x for x in arr[1:] if x <= pivot]\n",
    "            greater = [x for x in arr[1:] if x > pivot]\n",
    "            return quicksort(less) + [pivot] + quicksort(greater)\n",
    "            \"\"\")"
   ]
  },
  {
   "cell_type": "code",
   "execution_count": 11,
   "id": "0eac299a",
   "metadata": {},
   "outputs": [
    {
     "data": {
      "text/plain": [
       "(array([[0.08747803, 0.11899498, 0.69053763, 0.10298934]], dtype=float32), 2)"
      ]
     },
     "execution_count": 11,
     "metadata": {},
     "output_type": "execute_result"
    }
   ],
   "source": [
    "test_model(\"\"\"def selection_sort(arr):        \n",
    "    for i in range(len(arr)):\n",
    "        minimum = i\n",
    "        for j in range(i + 1, len(arr)):\n",
    "            if arr[j] < arr[minimum]:\n",
    "                minimum = j\n",
    "        arr[minimum], arr[i] = arr[i], arr[minimum]\n",
    "    return arr\"\"\")"
   ]
  },
  {
   "cell_type": "code",
   "execution_count": 12,
   "id": "58079e88",
   "metadata": {},
   "outputs": [
    {
     "data": {
      "text/plain": [
       "(array([[0.12176348, 0.23194884, 0.09657823, 0.54970944]], dtype=float32), 3)"
      ]
     },
     "execution_count": 12,
     "metadata": {},
     "output_type": "execute_result"
    }
   ],
   "source": [
    "test_model(\"\"\"import operator\n",
    "def merge_sort(L, compare=operator.lt):\n",
    "    if len(L) < 2:\n",
    "        return L[:]\n",
    "    else:\n",
    "        middle = int(len(L) / 2)\n",
    "        left = merge_sort(L[:middle], compare)\n",
    "        right = merge_sort(L[middle:], compare)\n",
    "        return merge(left, right, compare)\n",
    "        \n",
    "        def merge(left, right, compare):\n",
    "    result = []\n",
    "    i, j = 0, 0\n",
    "    while i < len(left) and j < len(right):\n",
    "        if compare(left[i], right[j]):\n",
    "            result.append(left[i])\n",
    "            i += 1\n",
    "        else:\n",
    "            result.append(right[j])\n",
    "            j += 1\n",
    "    while i < len(left):\n",
    "        result.append(left[i])\n",
    "        i += 1\n",
    "    while j < len(right):\n",
    "        result.append(right[j])\n",
    "        j += 1\n",
    "    return result\"\"\")"
   ]
  },
  {
   "cell_type": "code",
   "execution_count": null,
   "id": "1f737253",
   "metadata": {},
   "outputs": [],
   "source": []
  }
 ],
 "metadata": {
  "kernelspec": {
   "display_name": "tfod",
   "language": "python",
   "name": "myenv"
  },
  "language_info": {
   "codemirror_mode": {
    "name": "ipython",
    "version": 3
   },
   "file_extension": ".py",
   "mimetype": "text/x-python",
   "name": "python",
   "nbconvert_exporter": "python",
   "pygments_lexer": "ipython3",
   "version": "3.9.18"
  }
 },
 "nbformat": 4,
 "nbformat_minor": 5
}
