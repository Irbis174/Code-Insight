{
 "cells": [
  {
   "cell_type": "code",
   "execution_count": 1,
   "id": "5abb5f58",
   "metadata": {},
   "outputs": [],
   "source": [
    "import pandas as pd\n",
    "import numpy as np\n",
    "import matplotlib.pyplot as plt\n",
    "\n",
    "import os\n",
    "from os import chdir\n",
    "import tensorflow as tf\n",
    "from tensorflow.keras.preprocessing.text import Tokenizer\n",
    "from tensorflow.keras.preprocessing.sequence import pad_sequences\n",
    "from tensorflow.keras.models import Sequential\n",
    "from tensorflow.keras.optimizers import Adam\n",
    "from tensorflow.keras.layers import Dense, LSTM, Embedding\n",
    "from tensorflow.keras.layers import Dropout\n",
    "\n",
    "from sklearn.model_selection import train_test_split\n",
    "\n",
    "import pickle\n",
    "from IPython.display import clear_output"
   ]
  },
  {
   "cell_type": "code",
   "execution_count": 2,
   "id": "4155c042",
   "metadata": {},
   "outputs": [],
   "source": [
    "#планируется словарь алгоритмов для более быстрого создания всех датафреймов\n",
    "alg_dict = {'sort': ['bubble_sort', 'quick_sort'], 'find': ['binary_search']}"
   ]
  },
  {
   "cell_type": "code",
   "execution_count": 3,
   "id": "2cb304d7",
   "metadata": {},
   "outputs": [],
   "source": [
    "#создание датафрейма\n",
    "def make_df():\n",
    "    df = pd.read_csv(f'csv/dataset.csv')\n",
    "    df = df.set_index('filename')\n",
    "    del df['Unnamed: 0']\n",
    "    return df"
   ]
  },
  {
   "cell_type": "code",
   "execution_count": 4,
   "id": "c3064ccd",
   "metadata": {},
   "outputs": [],
   "source": [
    "def classification(df):\n",
    "    lst_class = []\n",
    "    for language,algorithm,algorithm_name in zip(df['language'],df['algorithm'],df['algorithm_name']):\n",
    "        algorithm_name = algorithm_name.strip()\n",
    "        if algorithm_name == 'bubble_sort':\n",
    "            lst_class.append([1,0,0])\n",
    "        elif algorithm_name == 'binary_search':\n",
    "            lst_class.append([0,1,0])\n",
    "        elif algorithm_name == 'quick_sort':\n",
    "            lst_class.append([0,0,1])\n",
    "    return df, lst_class"
   ]
  },
  {
   "cell_type": "code",
   "execution_count": 5,
   "id": "1ffa2e57",
   "metadata": {},
   "outputs": [],
   "source": [
    "def classification_sort(df):\n",
    "    cnt = 0\n",
    "    df = df[df['algorithm'] == 'sort']\n",
    "    sort_class = []\n",
    "    for language,algorithm,algorithm_name in zip(df['language'],df['algorithm'],df['algorithm_name']):\n",
    "        algorithm_name = algorithm_name.strip()\n",
    "        if algorithm_name == 'bubble_sort':\n",
    "            sort_class.append([1,0])\n",
    "            cnt += 1\n",
    "        if algorithm_name == 'quick_sort':\n",
    "            sort_class.append([0,1])\n",
    "    return df, sort_class, cnt"
   ]
  },
  {
   "cell_type": "code",
   "execution_count": 6,
   "id": "6f3a3fc8",
   "metadata": {},
   "outputs": [],
   "source": [
    "def classification_find(df):\n",
    "    df = df[df['algorithm'] == 'find']\n",
    "    find_class = []\n",
    "    for language,algorithm,algorithm_name in zip(df['language'],df['algorithm'],df['algorithm_name']):\n",
    "        algorithm_name = algorithm_name.strip()\n",
    "        if algorithm_name == 'binary_search':\n",
    "            find_class.append([1,0])\n",
    "    return df, find_class"
   ]
  },
  {
   "cell_type": "code",
   "execution_count": 7,
   "id": "e9f183e8",
   "metadata": {},
   "outputs": [],
   "source": [
    "def file_read(df):\n",
    "    new_lines = []\n",
    "    #df = df.sort_values(by='filename')\n",
    "    for index, row in df.iterrows():\n",
    "        chdir(f'dataset/{row[1]}/{row[2]}')\n",
    "        with open(str(index),'r', encoding = 'utf-8') as f:\n",
    "            lines = f.readlines()\n",
    "            lines = [line for line in lines if line.strip() != \"\"]\n",
    "        %cd ../../..\n",
    "        new_lines.append(lines)\n",
    "    #%cd ../..\n",
    "    return new_lines"
   ]
  },
  {
   "cell_type": "code",
   "execution_count": 8,
   "id": "80d50124",
   "metadata": {},
   "outputs": [],
   "source": [
    "#обработка переменной без табов, заменяя их на 2 пробела (Доработать)\n",
    "def preporcessing_files(lines):\n",
    "    new_lines = []\n",
    "    code_line = ''\n",
    "    for i in lines:\n",
    "        for j in i:\n",
    "            j = j.replace('    ', ' ')\n",
    "            code_line += j\n",
    "        new_lines.append(code_line)\n",
    "    return new_lines"
   ]
  },
  {
   "cell_type": "code",
   "execution_count": 11,
   "id": "4428e1fd",
   "metadata": {},
   "outputs": [],
   "source": [
    "df = make_df()"
   ]
  },
  {
   "cell_type": "code",
   "execution_count": 12,
   "id": "176aa9f4",
   "metadata": {},
   "outputs": [],
   "source": [
    "# #общая классификация\n",
    "# df, classes = classification(df)\n",
    "# files = file_read(df)\n",
    "# pre_files = preporcessing_files(files)\n",
    "# clear_output()"
   ]
  },
  {
   "cell_type": "code",
   "execution_count": 13,
   "id": "239c3a51",
   "metadata": {},
   "outputs": [],
   "source": [
    "#Для сортировки\n",
    "df_sort, classes_sort,cnt = classification_sort(df)\n",
    "files_sort = file_read(df_sort)\n",
    "pre_files_sort = preporcessing_files(files_sort)\n",
    "clear_output()"
   ]
  },
  {
   "cell_type": "markdown",
   "id": "6416a0d1",
   "metadata": {},
   "source": [
    "# Основная часть, построение архитектуры"
   ]
  },
  {
   "cell_type": "code",
   "execution_count": 15,
   "id": "21775e9d",
   "metadata": {},
   "outputs": [],
   "source": [
    "maxWord = 1000\n",
    "max_text_len = 50\n",
    "tokenizer = Tokenizer(num_words=maxWord, lower = True, split = ' ', char_level=False)\n",
    "tokenizer.fit_on_texts(pre_files_sort) #Меняем данные\n",
    "dist = list(tokenizer.word_counts.items())\n",
    "data = tokenizer.texts_to_sequences(pre_files_sort) #Меняем данные \n",
    "data_pad = pad_sequences(data,maxlen = max_text_len)"
   ]
  },
  {
   "cell_type": "code",
   "execution_count": 10,
   "id": "82be73d7",
   "metadata": {},
   "outputs": [],
   "source": [
    "# with open('files\\\\data.pickle', 'wb') as file:\n",
    "#     pickle.dump(data, file)"
   ]
  },
  {
   "cell_type": "code",
   "execution_count": 16,
   "id": "8c044fd2",
   "metadata": {},
   "outputs": [],
   "source": [
    "with open('files\\\\pre_files_sort.pickle', 'wb') as file:\n",
    "    pickle.dump(pre_files_sort, file)"
   ]
  },
  {
   "cell_type": "code",
   "execution_count": 17,
   "id": "096ccdc7",
   "metadata": {},
   "outputs": [],
   "source": [
    "X = data_pad\n",
    "Y = np.array(classes_sort)"
   ]
  },
  {
   "cell_type": "code",
   "execution_count": 18,
   "id": "d92fedb1",
   "metadata": {},
   "outputs": [
    {
     "data": {
      "text/plain": [
       "52"
      ]
     },
     "execution_count": 18,
     "metadata": {},
     "output_type": "execute_result"
    }
   ],
   "source": [
    "len(data_pad)"
   ]
  },
  {
   "cell_type": "code",
   "execution_count": 19,
   "id": "0bab283c",
   "metadata": {},
   "outputs": [
    {
     "data": {
      "text/plain": [
       "True"
      ]
     },
     "execution_count": 19,
     "metadata": {},
     "output_type": "execute_result"
    }
   ],
   "source": [
    "len(data_pad) == len(X) == len(Y) == len(pre_files_sort)"
   ]
  },
  {
   "cell_type": "code",
   "execution_count": 20,
   "id": "63b40580",
   "metadata": {},
   "outputs": [
    {
     "name": "stdout",
     "output_type": "stream",
     "text": [
      "Model: \"sequential\"\n",
      "_________________________________________________________________\n",
      "Layer (type)                 Output Shape              Param #   \n",
      "=================================================================\n",
      "embedding (Embedding)        (None, 50, 64)            64000     \n",
      "_________________________________________________________________\n",
      "lstm (LSTM)                  (None, 50, 128)           98816     \n",
      "_________________________________________________________________\n",
      "dropout (Dropout)            (None, 50, 128)           0         \n",
      "_________________________________________________________________\n",
      "lstm_1 (LSTM)                (None, 64)                49408     \n",
      "_________________________________________________________________\n",
      "dense (Dense)                (None, 2)                 130       \n",
      "=================================================================\n",
      "Total params: 212,354\n",
      "Trainable params: 212,354\n",
      "Non-trainable params: 0\n",
      "_________________________________________________________________\n"
     ]
    }
   ],
   "source": [
    "model = Sequential([\n",
    "    Embedding(maxWord, 64, input_length = max_text_len),\n",
    "    LSTM(128, return_sequences=True),\n",
    "    Dropout(0.2),\n",
    "    LSTM(64),\n",
    "    Dense(2, activation='softmax')\n",
    "])\n",
    "model.summary()"
   ]
  },
  {
   "cell_type": "code",
   "execution_count": 21,
   "id": "175a9a13",
   "metadata": {},
   "outputs": [],
   "source": [
    "model.compile(loss ='categorical_crossentropy', metrics = ['accuracy'], optimizer = Adam(0.0001))"
   ]
  },
  {
   "cell_type": "code",
   "execution_count": 22,
   "id": "a09caa56",
   "metadata": {},
   "outputs": [],
   "source": [
    "train_data, val_data, train_class, val_class = train_test_split(X,Y, test_size=0.2)"
   ]
  },
  {
   "cell_type": "code",
   "execution_count": 23,
   "id": "f527e821",
   "metadata": {},
   "outputs": [
    {
     "name": "stdout",
     "output_type": "stream",
     "text": [
      "Epoch 1/100\n",
      "2/2 [==============================] - 4s 22ms/step - loss: 0.6927 - accuracy: 0.4615\n",
      "Epoch 2/100\n",
      "2/2 [==============================] - 0s 22ms/step - loss: 0.6914 - accuracy: 0.4808\n",
      "Epoch 3/100\n",
      "2/2 [==============================] - 0s 21ms/step - loss: 0.6900 - accuracy: 0.5577\n",
      "Epoch 4/100\n",
      "2/2 [==============================] - 0s 24ms/step - loss: 0.6883 - accuracy: 0.6731\n",
      "Epoch 5/100\n",
      "2/2 [==============================] - 0s 20ms/step - loss: 0.6872 - accuracy: 0.7500\n",
      "Epoch 6/100\n",
      "2/2 [==============================] - 0s 23ms/step - loss: 0.6855 - accuracy: 0.7500\n",
      "Epoch 7/100\n",
      "2/2 [==============================] - 0s 23ms/step - loss: 0.6840 - accuracy: 0.7692\n",
      "Epoch 8/100\n",
      "2/2 [==============================] - 0s 20ms/step - loss: 0.6824 - accuracy: 0.7692\n",
      "Epoch 9/100\n",
      "2/2 [==============================] - 0s 21ms/step - loss: 0.6808 - accuracy: 0.7692\n",
      "Epoch 10/100\n",
      "2/2 [==============================] - 0s 22ms/step - loss: 0.6789 - accuracy: 0.7885\n",
      "Epoch 11/100\n",
      "2/2 [==============================] - 0s 17ms/step - loss: 0.6766 - accuracy: 0.7692\n",
      "Epoch 12/100\n",
      "2/2 [==============================] - 0s 18ms/step - loss: 0.6744 - accuracy: 0.7692\n",
      "Epoch 13/100\n",
      "2/2 [==============================] - 0s 19ms/step - loss: 0.6723 - accuracy: 0.7692\n",
      "Epoch 14/100\n",
      "2/2 [==============================] - 0s 13ms/step - loss: 0.6697 - accuracy: 0.7692\n",
      "Epoch 15/100\n",
      "2/2 [==============================] - 0s 14ms/step - loss: 0.6662 - accuracy: 0.7692\n",
      "Epoch 16/100\n",
      "2/2 [==============================] - 0s 10ms/step - loss: 0.6631 - accuracy: 0.7692\n",
      "Epoch 17/100\n",
      "2/2 [==============================] - 0s 14ms/step - loss: 0.6596 - accuracy: 0.7692\n",
      "Epoch 18/100\n",
      "2/2 [==============================] - 0s 12ms/step - loss: 0.6545 - accuracy: 0.7692\n",
      "Epoch 19/100\n",
      "2/2 [==============================] - 0s 15ms/step - loss: 0.6502 - accuracy: 0.7692\n",
      "Epoch 20/100\n",
      "2/2 [==============================] - 0s 14ms/step - loss: 0.6442 - accuracy: 0.7692\n",
      "Epoch 21/100\n",
      "2/2 [==============================] - 0s 13ms/step - loss: 0.6381 - accuracy: 0.7692\n",
      "Epoch 22/100\n",
      "2/2 [==============================] - 0s 13ms/step - loss: 0.6307 - accuracy: 0.7692\n",
      "Epoch 23/100\n",
      "2/2 [==============================] - 0s 11ms/step - loss: 0.6211 - accuracy: 0.7692\n",
      "Epoch 24/100\n",
      "2/2 [==============================] - 0s 17ms/step - loss: 0.6115 - accuracy: 0.7692\n",
      "Epoch 25/100\n",
      "2/2 [==============================] - 0s 13ms/step - loss: 0.6008 - accuracy: 0.7692\n",
      "Epoch 26/100\n",
      "2/2 [==============================] - 0s 11ms/step - loss: 0.5855 - accuracy: 0.7692\n",
      "Epoch 27/100\n",
      "2/2 [==============================] - 0s 11ms/step - loss: 0.5700 - accuracy: 0.7692\n",
      "Epoch 28/100\n",
      "2/2 [==============================] - 0s 12ms/step - loss: 0.5551 - accuracy: 0.7692\n",
      "Epoch 29/100\n",
      "2/2 [==============================] - 0s 10ms/step - loss: 0.5335 - accuracy: 0.7692\n",
      "Epoch 30/100\n",
      "2/2 [==============================] - 0s 11ms/step - loss: 0.5089 - accuracy: 0.7692\n",
      "Epoch 31/100\n",
      "2/2 [==============================] - 0s 14ms/step - loss: 0.4870 - accuracy: 0.7692\n",
      "Epoch 32/100\n",
      "2/2 [==============================] - 0s 12ms/step - loss: 0.4585 - accuracy: 0.7692\n",
      "Epoch 33/100\n",
      "2/2 [==============================] - 0s 10ms/step - loss: 0.4331 - accuracy: 0.7692\n",
      "Epoch 34/100\n",
      "2/2 [==============================] - 0s 11ms/step - loss: 0.3999 - accuracy: 0.7692\n",
      "Epoch 35/100\n",
      "2/2 [==============================] - 0s 13ms/step - loss: 0.3655 - accuracy: 0.7692\n",
      "Epoch 36/100\n",
      "2/2 [==============================] - 0s 10ms/step - loss: 0.3222 - accuracy: 0.7692\n",
      "Epoch 37/100\n",
      "2/2 [==============================] - 0s 9ms/step - loss: 0.2730 - accuracy: 0.8846\n",
      "Epoch 38/100\n",
      "2/2 [==============================] - 0s 11ms/step - loss: 0.2186 - accuracy: 0.9615\n",
      "Epoch 39/100\n",
      "2/2 [==============================] - 0s 10ms/step - loss: 0.1774 - accuracy: 0.9615\n",
      "Epoch 40/100\n",
      "2/2 [==============================] - 0s 9ms/step - loss: 0.1512 - accuracy: 0.9615\n",
      "Epoch 41/100\n",
      "2/2 [==============================] - 0s 10ms/step - loss: 0.1342 - accuracy: 0.9615\n",
      "Epoch 42/100\n",
      "2/2 [==============================] - 0s 10ms/step - loss: 0.1243 - accuracy: 0.9615\n",
      "Epoch 43/100\n",
      "2/2 [==============================] - 0s 11ms/step - loss: 0.1227 - accuracy: 0.9615\n",
      "Epoch 44/100\n",
      "2/2 [==============================] - 0s 11ms/step - loss: 0.1191 - accuracy: 0.9615\n",
      "Epoch 45/100\n",
      "2/2 [==============================] - 0s 13ms/step - loss: 0.1082 - accuracy: 0.9615\n",
      "Epoch 46/100\n",
      "2/2 [==============================] - 0s 10ms/step - loss: 0.0957 - accuracy: 0.9615\n",
      "Epoch 47/100\n",
      "2/2 [==============================] - 0s 11ms/step - loss: 0.0727 - accuracy: 0.9615\n",
      "Epoch 48/100\n",
      "2/2 [==============================] - 0s 10ms/step - loss: 0.0665 - accuracy: 0.9808\n",
      "Epoch 49/100\n",
      "2/2 [==============================] - 0s 14ms/step - loss: 0.0622 - accuracy: 1.0000\n",
      "Epoch 50/100\n",
      "2/2 [==============================] - 0s 10ms/step - loss: 0.0531 - accuracy: 1.0000\n",
      "Epoch 51/100\n",
      "2/2 [==============================] - 0s 10ms/step - loss: 0.0406 - accuracy: 1.0000\n",
      "Epoch 52/100\n",
      "2/2 [==============================] - 0s 11ms/step - loss: 0.0327 - accuracy: 1.0000\n",
      "Epoch 53/100\n",
      "2/2 [==============================] - 0s 9ms/step - loss: 0.0279 - accuracy: 1.0000\n",
      "Epoch 54/100\n",
      "2/2 [==============================] - 0s 10ms/step - loss: 0.0242 - accuracy: 1.0000\n",
      "Epoch 55/100\n",
      "2/2 [==============================] - 0s 10ms/step - loss: 0.0194 - accuracy: 1.0000\n",
      "Epoch 56/100\n",
      "2/2 [==============================] - 0s 16ms/step - loss: 0.0149 - accuracy: 1.0000\n",
      "Epoch 57/100\n",
      "2/2 [==============================] - 0s 12ms/step - loss: 0.0128 - accuracy: 1.0000\n",
      "Epoch 58/100\n",
      "2/2 [==============================] - 0s 10ms/step - loss: 0.0106 - accuracy: 1.0000\n",
      "Epoch 59/100\n",
      "2/2 [==============================] - 0s 10ms/step - loss: 0.0092 - accuracy: 1.0000\n",
      "Epoch 60/100\n",
      "2/2 [==============================] - 0s 14ms/step - loss: 0.0082 - accuracy: 1.0000\n",
      "Epoch 61/100\n",
      "2/2 [==============================] - 0s 12ms/step - loss: 0.0071 - accuracy: 1.0000\n",
      "Epoch 62/100\n",
      "2/2 [==============================] - 0s 11ms/step - loss: 0.0063 - accuracy: 1.0000\n",
      "Epoch 63/100\n",
      "2/2 [==============================] - 0s 10ms/step - loss: 0.0056 - accuracy: 1.0000\n",
      "Epoch 64/100\n",
      "2/2 [==============================] - 0s 15ms/step - loss: 0.0052 - accuracy: 1.0000\n",
      "Epoch 65/100\n",
      "2/2 [==============================] - 0s 12ms/step - loss: 0.0047 - accuracy: 1.0000\n",
      "Epoch 66/100\n",
      "2/2 [==============================] - 0s 9ms/step - loss: 0.0043 - accuracy: 1.0000\n",
      "Epoch 67/100\n",
      "2/2 [==============================] - 0s 10ms/step - loss: 0.0041 - accuracy: 1.0000\n",
      "Epoch 68/100\n",
      "2/2 [==============================] - 0s 10ms/step - loss: 0.0038 - accuracy: 1.0000\n",
      "Epoch 69/100\n",
      "2/2 [==============================] - 0s 11ms/step - loss: 0.0036 - accuracy: 1.0000\n",
      "Epoch 70/100\n",
      "2/2 [==============================] - 0s 10ms/step - loss: 0.0034 - accuracy: 1.0000\n",
      "Epoch 71/100\n",
      "2/2 [==============================] - 0s 12ms/step - loss: 0.0032 - accuracy: 1.0000\n",
      "Epoch 72/100\n",
      "2/2 [==============================] - 0s 10ms/step - loss: 0.0031 - accuracy: 1.0000\n",
      "Epoch 73/100\n",
      "2/2 [==============================] - 0s 11ms/step - loss: 0.0030 - accuracy: 1.0000\n",
      "Epoch 74/100\n",
      "2/2 [==============================] - 0s 17ms/step - loss: 0.0029 - accuracy: 1.0000\n",
      "Epoch 75/100\n",
      "2/2 [==============================] - 0s 12ms/step - loss: 0.0028 - accuracy: 1.0000\n",
      "Epoch 76/100\n",
      "2/2 [==============================] - 0s 10ms/step - loss: 0.0027 - accuracy: 1.0000\n",
      "Epoch 77/100\n",
      "2/2 [==============================] - 0s 10ms/step - loss: 0.0025 - accuracy: 1.0000\n",
      "Epoch 78/100\n",
      "2/2 [==============================] - 0s 15ms/step - loss: 0.0025 - accuracy: 1.0000\n",
      "Epoch 79/100\n",
      "2/2 [==============================] - 0s 10ms/step - loss: 0.0024 - accuracy: 1.0000\n",
      "Epoch 80/100\n",
      "2/2 [==============================] - 0s 12ms/step - loss: 0.0023 - accuracy: 1.0000\n",
      "Epoch 81/100\n",
      "2/2 [==============================] - 0s 9ms/step - loss: 0.0023 - accuracy: 1.0000\n",
      "Epoch 82/100\n",
      "2/2 [==============================] - 0s 16ms/step - loss: 0.0022 - accuracy: 1.0000\n",
      "Epoch 83/100\n"
     ]
    },
    {
     "name": "stdout",
     "output_type": "stream",
     "text": [
      "2/2 [==============================] - 0s 12ms/step - loss: 0.0021 - accuracy: 1.0000\n",
      "Epoch 84/100\n",
      "2/2 [==============================] - 0s 12ms/step - loss: 0.0021 - accuracy: 1.0000\n",
      "Epoch 85/100\n",
      "2/2 [==============================] - 0s 11ms/step - loss: 0.0020 - accuracy: 1.0000\n",
      "Epoch 86/100\n",
      "2/2 [==============================] - 0s 10ms/step - loss: 0.0020 - accuracy: 1.0000\n",
      "Epoch 87/100\n",
      "2/2 [==============================] - 0s 11ms/step - loss: 0.0019 - accuracy: 1.0000\n",
      "Epoch 88/100\n",
      "2/2 [==============================] - 0s 10ms/step - loss: 0.0019 - accuracy: 1.0000\n",
      "Epoch 89/100\n",
      "2/2 [==============================] - 0s 13ms/step - loss: 0.0018 - accuracy: 1.0000\n",
      "Epoch 90/100\n",
      "2/2 [==============================] - 0s 11ms/step - loss: 0.0018 - accuracy: 1.0000\n",
      "Epoch 91/100\n",
      "2/2 [==============================] - 0s 10ms/step - loss: 0.0017 - accuracy: 1.0000\n",
      "Epoch 92/100\n",
      "2/2 [==============================] - 0s 12ms/step - loss: 0.0017 - accuracy: 1.0000\n",
      "Epoch 93/100\n",
      "2/2 [==============================] - 0s 10ms/step - loss: 0.0017 - accuracy: 1.0000\n",
      "Epoch 94/100\n",
      "2/2 [==============================] - 0s 10ms/step - loss: 0.0016 - accuracy: 1.0000\n",
      "Epoch 95/100\n",
      "2/2 [==============================] - 0s 12ms/step - loss: 0.0016 - accuracy: 1.0000\n",
      "Epoch 96/100\n",
      "2/2 [==============================] - 0s 9ms/step - loss: 0.0015 - accuracy: 1.0000\n",
      "Epoch 97/100\n",
      "2/2 [==============================] - 0s 10ms/step - loss: 0.0015 - accuracy: 1.0000\n",
      "Epoch 98/100\n",
      "2/2 [==============================] - 0s 15ms/step - loss: 0.0015 - accuracy: 1.0000\n",
      "Epoch 99/100\n",
      "2/2 [==============================] - 0s 12ms/step - loss: 0.0015 - accuracy: 1.0000\n",
      "Epoch 100/100\n",
      "2/2 [==============================] - 0s 10ms/step - loss: 0.0014 - accuracy: 1.0000\n"
     ]
    }
   ],
   "source": [
    "history = model.fit(X,Y, batch_size = 32, epochs = 100)"
   ]
  },
  {
   "cell_type": "code",
   "execution_count": 24,
   "id": "a436bb4c",
   "metadata": {},
   "outputs": [
    {
     "data": {
      "image/png": "[encoded data removed]",
      "text/plain": [
       "<Figure size 640x480 with 1 Axes>"
      ]
     },
     "metadata": {},
     "output_type": "display_data"
    }
   ],
   "source": [
    "plt.plot(history.history['accuracy'],\n",
    "         label='обучающий набор')\n",
    "# plt.plot(history.history['val_accuracy'],\n",
    "#          label='проверочный набор')\n",
    "plt.xlabel('Эпоха обучения')\n",
    "plt.ylabel('Доля верных ответов')\n",
    "plt.legend()\n",
    "plt.show()"
   ]
  },
  {
   "cell_type": "markdown",
   "id": "1ce40e70",
   "metadata": {},
   "source": [
    "# Тест моделей"
   ]
  },
  {
   "cell_type": "code",
   "execution_count": 36,
   "id": "9165f09f",
   "metadata": {},
   "outputs": [],
   "source": [
    "# reverse_word_map = dict(map(reversed, tokenizer.word_index.items()))\n",
    "# def seqence_to_text(list_of_indices):\n",
    "#     return [reverse_word_map.get(letter) for letter in list_of_indices]"
   ]
  },
  {
   "cell_type": "code",
   "execution_count": 26,
   "id": "1a85fd8b",
   "metadata": {},
   "outputs": [],
   "source": [
    "test_text = \"\"\"\n",
    "def bubble_sort(arr):\n",
    "    n = len(arr)\n",
    "    for i in range(n):\n",
    "        for j in range(0, n-i-1):\n",
    "            if arr[j] > arr[j+1]:\n",
    "                arr[j], arr[j+1] = arr[j+1], arr[j]\n",
    "    return arr\n",
    "\n",
    "arr = [64, 34, 25, 12, 22, 11, 90]\n",
    "sorted_arr = bubble_sort(arr)\n",
    "print(\"Sorted array:\", sorted_arr)\n",
    "            \"\"\".lower()\n",
    "data_test = tokenizer.texts_to_sequences([test_text])\n",
    "data_pad_test = pad_sequences(data_test, maxlen = max_text_len)\n",
    "#print(seqence_to_text(data_test[0]))"
   ]
  },
  {
   "cell_type": "code",
   "execution_count": 27,
   "id": "9703bf8a",
   "metadata": {},
   "outputs": [
    {
     "name": "stdout",
     "output_type": "stream",
     "text": [
      "[[0.99891055 0.00108949]] 0\n"
     ]
    }
   ],
   "source": [
    "res = model.predict(data_pad_test)\n",
    "print(res, np.argmax(res))"
   ]
  },
  {
   "cell_type": "code",
   "execution_count": 28,
   "id": "0e303714",
   "metadata": {},
   "outputs": [],
   "source": [
    "test_text = \"\"\"\n",
    "def quicksort(arr):\n",
    "    if len(arr) <= 1:\n",
    "        return arr\n",
    "    else:\n",
    "        pivot = arr[0]\n",
    "        less_than_pivot = [x for x in arr[1:] if x <= pivot]\n",
    "        greater_than_pivot = [x for x in arr[1:] if x > pivot]\n",
    "        return quicksort(less_than_pivot) + [pivot] + quicksort(greater_than_pivot)\n",
    "\n",
    "# Пример использования:\n",
    "my_list = [3, 6, 8, 10, 1, 2, 1]\n",
    "print(\"Исходный список:\", my_list)\n",
    "sorted_list = quicksort(my_list)\n",
    "print(\"Отсортированный список:\", sorted_list)\n",
    "            \"\"\".lower()\n",
    "data_test = tokenizer.texts_to_sequences([test_text])\n",
    "data_pad_test = pad_sequences(data_test, maxlen = max_text_len)"
   ]
  },
  {
   "cell_type": "code",
   "execution_count": 29,
   "id": "f989df95",
   "metadata": {},
   "outputs": [
    {
     "name": "stdout",
     "output_type": "stream",
     "text": [
      "[[0.03377044 0.96622956]] 1\n"
     ]
    }
   ],
   "source": [
    "res = model.predict(data_pad_test)\n",
    "print(res, np.argmax(res))"
   ]
  },
  {
   "cell_type": "code",
   "execution_count": 30,
   "id": "4ca07765",
   "metadata": {},
   "outputs": [],
   "source": [
    "model.save('models\\\\хорошая_модель_(возможно_лучшая).h5')"
   ]
  },
  {
   "cell_type": "markdown",
   "id": "e342f483",
   "metadata": {},
   "source": [
    "# Вспомогательные функции"
   ]
  },
  {
   "cell_type": "code",
   "execution_count": 12,
   "id": "9e29476e",
   "metadata": {},
   "outputs": [
    {
     "data": {
      "text/plain": [
       "'C:\\\\Users\\\\Matvey\\\\Анализ кода\\\\Code-Insight\\\\dataset'"
      ]
     },
     "execution_count": 12,
     "metadata": {},
     "output_type": "execute_result"
    }
   ],
   "source": [
    "pwd"
   ]
  },
  {
   "cell_type": "code",
   "execution_count": 22,
   "id": "9aa15bf9",
   "metadata": {},
   "outputs": [
    {
     "name": "stdout",
     "output_type": "stream",
     "text": [
      "C:\\Users\\Matvey\\Анализ кода\\Code-Insight\n"
     ]
    }
   ],
   "source": [
    "%cd Анализ кода/Code-Insight"
   ]
  },
  {
   "cell_type": "code",
   "execution_count": 82,
   "id": "1cc6850b",
   "metadata": {},
   "outputs": [
    {
     "name": "stdout",
     "output_type": "stream",
     "text": [
      "C:\\Users\\Matvey\\Анализ кода\\Code-Insight\n"
     ]
    }
   ],
   "source": [
    "%cd ../.."
   ]
  },
  {
   "cell_type": "code",
   "execution_count": null,
   "id": "836ebc3c",
   "metadata": {},
   "outputs": [],
   "source": [
    "%cd ../"
   ]
  },
  {
   "cell_type": "code",
   "execution_count": null,
   "id": "099c2b34",
   "metadata": {},
   "outputs": [],
   "source": [
    "%cd ../../.."
   ]
  }
 ],
 "metadata": {
  "kernelspec": {
   "display_name": "tfod",
   "language": "python",
   "name": "myenv"
  },
  "language_info": {
   "codemirror_mode": {
    "name": "ipython",
    "version": 3
   },
   "file_extension": ".py",
   "mimetype": "text/x-python",
   "name": "python",
   "nbconvert_exporter": "python",
   "pygments_lexer": "ipython3",
   "version": "3.9.18"
  }
 },
 "nbformat": 4,
 "nbformat_minor": 5
}
