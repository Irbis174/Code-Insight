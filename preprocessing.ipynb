{
 "cells": [
  {
   "cell_type": "code",
   "execution_count": 1,
   "id": "5abb5f58",
   "metadata": {},
   "outputs": [],
   "source": [
    "import pandas as pd\n",
    "import numpy as np\n",
    "import matplotlib.pyplot as plt\n",
    "\n",
    "import os\n",
    "from os import chdir\n",
    "import tensorflow as tf\n",
    "from tensorflow.keras.preprocessing.text import Tokenizer\n",
    "from tensorflow.keras.preprocessing.sequence import pad_sequences\n",
    "from tensorflow.keras.models import Sequential\n",
    "from tensorflow.keras.optimizers import Adam\n",
    "from tensorflow.keras.layers import Dense, LSTM, Embedding, GRU\n",
    "from tensorflow.keras.layers import Dropout\n",
    "\n",
    "from sklearn.model_selection import train_test_split\n",
    "\n",
    "import pickle\n",
    "from IPython.display import clear_output"
   ]
  },
  {
   "cell_type": "code",
   "execution_count": 2,
   "id": "4155c042",
   "metadata": {},
   "outputs": [],
   "source": [
    "#планируется словарь алгоритмов для более быстрого создания всех датафреймов\n",
    "alg_dict = {'sort': ['bubble_sort', 'quick_sort','selection_sort','merge_sort','insertion_sort'], 'find': ['binary_search']}"
   ]
  },
  {
   "cell_type": "code",
   "execution_count": 3,
   "id": "2cb304d7",
   "metadata": {},
   "outputs": [],
   "source": [
    "#создание датафрейма\n",
    "def make_df():\n",
    "    df = pd.read_csv('csv\\dataset_test_5_sort.csv')\n",
    "    df = df.set_index('filename')\n",
    "    del df['Unnamed: 0']\n",
    "    return df"
   ]
  },
  {
   "cell_type": "code",
   "execution_count": 4,
   "id": "1ffa2e57",
   "metadata": {},
   "outputs": [],
   "source": [
    "def classification_sort(df):\n",
    "    cnt = 0\n",
    "    df = df[df['algorithm'] == 'sort']\n",
    "    sort_class = []\n",
    "    for language,algorithm,algorithm_name in zip(df['language'],df['algorithm'],df['algorithm_name']):\n",
    "        algorithm_name = algorithm_name.strip()\n",
    "        if algorithm_name == 'bubble_sort':\n",
    "            sort_class.append([1,0,0,0,0])\n",
    "        if algorithm_name == 'quick_sort':\n",
    "            sort_class.append([0,1,0,0,0])\n",
    "        if algorithm_name == 'selection_sort':\n",
    "            sort_class.append([0,0,1,0,0])\n",
    "        if algorithm_name == 'merge_sort':\n",
    "            sort_class.append([0,0,0,1,0])\n",
    "        if algorithm_name == 'insertion_sort':\n",
    "            sort_class.append([0,0,0,0,1])\n",
    "    return df, np.array(sort_class)"
   ]
  },
  {
   "cell_type": "code",
   "execution_count": 5,
   "id": "6f3a3fc8",
   "metadata": {},
   "outputs": [],
   "source": [
    "def classification_find(df):\n",
    "    df = df[df['algorithm'] == 'find']\n",
    "    find_class = []\n",
    "    for language,algorithm,algorithm_name in zip(df['language'],df['algorithm'],df['algorithm_name']):\n",
    "        algorithm_name = algorithm_name.strip()\n",
    "        if algorithm_name == 'binary_search':\n",
    "            find_class.append([1,0])\n",
    "    return df, find_class"
   ]
  },
  {
   "cell_type": "code",
   "execution_count": 6,
   "id": "e9f183e8",
   "metadata": {},
   "outputs": [],
   "source": [
    "def file_read(df):\n",
    "    new_lines = []\n",
    "    #df = df.sort_values(by='filename')\n",
    "    for index, row in df.iterrows():\n",
    "        chdir(f'dataset/{row[1]}/{row[2]}')\n",
    "        with open(str(index),'r', encoding = 'utf-8') as f:\n",
    "            lines = f.readlines()\n",
    "            lines = [line for line in lines if line.strip() != \"\"]\n",
    "        %cd ../../..\n",
    "        new_lines.append(lines)\n",
    "    #%cd ../..\n",
    "    return new_lines"
   ]
  },
  {
   "cell_type": "code",
   "execution_count": 7,
   "id": "80d50124",
   "metadata": {},
   "outputs": [],
   "source": [
    "#обработка переменной без табов, заменяя их на 2 пробела (Доработать)\n",
    "def preporcessing_files(lines):\n",
    "    new_lines = []\n",
    "    code_line = ''\n",
    "    for i in lines:\n",
    "        for j in i:\n",
    "            j = j.replace('    ', ' ')\n",
    "            code_line += j\n",
    "        new_lines.append(code_line)\n",
    "    return new_lines"
   ]
  },
  {
   "cell_type": "code",
   "execution_count": 8,
   "id": "4428e1fd",
   "metadata": {},
   "outputs": [],
   "source": [
    "df = make_df()"
   ]
  },
  {
   "cell_type": "code",
   "execution_count": 9,
   "id": "239c3a51",
   "metadata": {},
   "outputs": [],
   "source": [
    "#Для сортировки\n",
    "df_sort, classes_sort = classification_sort(df)\n",
    "files_sort = file_read(df_sort)\n",
    "pre_files_sort = preporcessing_files(files_sort)\n",
    "clear_output()"
   ]
  },
  {
   "cell_type": "code",
   "execution_count": 10,
   "id": "42a4238a",
   "metadata": {},
   "outputs": [
    {
     "data": {
      "text/html": [
       "<div>\n",
       "<style scoped>\n",
       "    .dataframe tbody tr th:only-of-type {\n",
       "        vertical-align: middle;\n",
       "    }\n",
       "\n",
       "    .dataframe tbody tr th {\n",
       "        vertical-align: top;\n",
       "    }\n",
       "\n",
       "    .dataframe thead th {\n",
       "        text-align: right;\n",
       "    }\n",
       "</style>\n",
       "<table border=\"1\" class=\"dataframe\">\n",
       "  <thead>\n",
       "    <tr style=\"text-align: right;\">\n",
       "      <th></th>\n",
       "      <th>language</th>\n",
       "      <th>algorithm</th>\n",
       "      <th>algorithm_name</th>\n",
       "    </tr>\n",
       "    <tr>\n",
       "      <th>filename</th>\n",
       "      <th></th>\n",
       "      <th></th>\n",
       "      <th></th>\n",
       "    </tr>\n",
       "  </thead>\n",
       "  <tbody>\n",
       "    <tr>\n",
       "      <th>bubble_sort.py</th>\n",
       "      <td>py</td>\n",
       "      <td>sort</td>\n",
       "      <td>bubble_sort</td>\n",
       "    </tr>\n",
       "    <tr>\n",
       "      <th>bubble_sort.py</th>\n",
       "      <td>py</td>\n",
       "      <td>sort</td>\n",
       "      <td>bubble_sort</td>\n",
       "    </tr>\n",
       "    <tr>\n",
       "      <th>bubble_sort.py</th>\n",
       "      <td>py</td>\n",
       "      <td>sort</td>\n",
       "      <td>bubble_sort</td>\n",
       "    </tr>\n",
       "    <tr>\n",
       "      <th>bubble_sort.py</th>\n",
       "      <td>py</td>\n",
       "      <td>sort</td>\n",
       "      <td>bubble_sort</td>\n",
       "    </tr>\n",
       "    <tr>\n",
       "      <th>bubble_sort.py</th>\n",
       "      <td>py</td>\n",
       "      <td>sort</td>\n",
       "      <td>bubble_sort</td>\n",
       "    </tr>\n",
       "    <tr>\n",
       "      <th>...</th>\n",
       "      <td>...</td>\n",
       "      <td>...</td>\n",
       "      <td>...</td>\n",
       "    </tr>\n",
       "    <tr>\n",
       "      <th>insertion_sort.py</th>\n",
       "      <td>py</td>\n",
       "      <td>sort</td>\n",
       "      <td>insertion_sort</td>\n",
       "    </tr>\n",
       "    <tr>\n",
       "      <th>insertion_sort.py</th>\n",
       "      <td>py</td>\n",
       "      <td>sort</td>\n",
       "      <td>insertion_sort</td>\n",
       "    </tr>\n",
       "    <tr>\n",
       "      <th>insertion_sort.py</th>\n",
       "      <td>py</td>\n",
       "      <td>sort</td>\n",
       "      <td>insertion_sort</td>\n",
       "    </tr>\n",
       "    <tr>\n",
       "      <th>insertion_sort.py</th>\n",
       "      <td>py</td>\n",
       "      <td>sort</td>\n",
       "      <td>insertion_sort</td>\n",
       "    </tr>\n",
       "    <tr>\n",
       "      <th>insertion_sort.py</th>\n",
       "      <td>py</td>\n",
       "      <td>sort</td>\n",
       "      <td>insertion_sort</td>\n",
       "    </tr>\n",
       "  </tbody>\n",
       "</table>\n",
       "<p>505 rows × 3 columns</p>\n",
       "</div>"
      ],
      "text/plain": [
       "                  language algorithm  algorithm_name\n",
       "filename                                            \n",
       "bubble_sort.py          py      sort     bubble_sort\n",
       "bubble_sort.py          py      sort     bubble_sort\n",
       "bubble_sort.py          py      sort     bubble_sort\n",
       "bubble_sort.py          py      sort     bubble_sort\n",
       "bubble_sort.py          py      sort     bubble_sort\n",
       "...                    ...       ...             ...\n",
       "insertion_sort.py       py      sort  insertion_sort\n",
       "insertion_sort.py       py      sort  insertion_sort\n",
       "insertion_sort.py       py      sort  insertion_sort\n",
       "insertion_sort.py       py      sort  insertion_sort\n",
       "insertion_sort.py       py      sort  insertion_sort\n",
       "\n",
       "[505 rows x 3 columns]"
      ]
     },
     "execution_count": 10,
     "metadata": {},
     "output_type": "execute_result"
    }
   ],
   "source": [
    "df_sort"
   ]
  },
  {
   "cell_type": "markdown",
   "id": "6416a0d1",
   "metadata": {},
   "source": [
    "# Основная часть, построение архитектуры"
   ]
  },
  {
   "cell_type": "code",
   "execution_count": 11,
   "id": "21775e9d",
   "metadata": {},
   "outputs": [],
   "source": [
    "maxWord = 10\n",
    "max_text_len = 400\n",
    "tokenizer = Tokenizer(num_words=maxWord, lower = True, split = ' ', char_level=False)\n",
    "tokenizer.fit_on_texts(pre_files_sort) #Меняем данные\n",
    "dist = list(tokenizer.word_counts.items())\n",
    "data = tokenizer.texts_to_sequences(pre_files_sort) #Меняем данные \n",
    "data_pad = pad_sequences(data,maxlen = max_text_len)\n",
    "X = data_pad\n",
    "Y = classes_sort"
   ]
  },
  {
   "cell_type": "code",
   "execution_count": 12,
   "id": "8c044fd2",
   "metadata": {},
   "outputs": [],
   "source": [
    "# with open('files\\\\5_sort.pickle', 'wb') as file:\n",
    "#     pickle.dump(pre_files_sort, file)"
   ]
  },
  {
   "cell_type": "code",
   "execution_count": 12,
   "id": "0bab283c",
   "metadata": {},
   "outputs": [
    {
     "data": {
      "text/plain": [
       "True"
      ]
     },
     "execution_count": 12,
     "metadata": {},
     "output_type": "execute_result"
    }
   ],
   "source": [
    "len(data_pad) == len(X) == len(Y) == len(pre_files_sort)"
   ]
  },
  {
   "cell_type": "code",
   "execution_count": 13,
   "id": "63b40580",
   "metadata": {},
   "outputs": [
    {
     "name": "stdout",
     "output_type": "stream",
     "text": [
      "Model: \"sequential\"\n",
      "_________________________________________________________________\n",
      "Layer (type)                 Output Shape              Param #   \n",
      "=================================================================\n",
      "embedding (Embedding)        (None, 400, 64)           640       \n",
      "_________________________________________________________________\n",
      "lstm (LSTM)                  (None, 400, 32)           12416     \n",
      "_________________________________________________________________\n",
      "lstm_1 (LSTM)                (None, 8)                 1312      \n",
      "_________________________________________________________________\n",
      "dense (Dense)                (None, 5)                 45        \n",
      "=================================================================\n",
      "Total params: 14,413\n",
      "Trainable params: 14,413\n",
      "Non-trainable params: 0\n",
      "_________________________________________________________________\n"
     ]
    }
   ],
   "source": [
    "model = Sequential([\n",
    "    Embedding(maxWord, 64, input_length = max_text_len),\n",
    "    LSTM(32, return_sequences=True),\n",
    "    LSTM(8),\n",
    "    Dense(5, activation='softmax')\n",
    "])\n",
    "model.summary()"
   ]
  },
  {
   "cell_type": "code",
   "execution_count": 14,
   "id": "175a9a13",
   "metadata": {},
   "outputs": [],
   "source": [
    "model.compile(loss ='categorical_crossentropy', metrics = ['accuracy'], optimizer = Adam(0.0001))"
   ]
  },
  {
   "cell_type": "code",
   "execution_count": 55,
   "id": "a09caa56",
   "metadata": {},
   "outputs": [],
   "source": [
    "train_data, val_data, train_class, val_class = train_test_split(X,Y, test_size=0.2)"
   ]
  },
  {
   "cell_type": "code",
   "execution_count": 56,
   "id": "1a7cc6e0",
   "metadata": {},
   "outputs": [
    {
     "name": "stdout",
     "output_type": "stream",
     "text": [
      "21\n",
      "19\n",
      "22\n",
      "19\n",
      "20\n"
     ]
    }
   ],
   "source": [
    "print(np.sum(np.all(val_class == np.array([0,0,0,0,1]), axis=1)))\n",
    "print(np.sum(np.all(val_class == np.array([0,0,0,1,0]), axis=1)))\n",
    "print(np.sum(np.all(val_class == np.array([0,0,1,0,0]), axis=1)))\n",
    "print(np.sum(np.all(val_class == np.array([0,1,0,0,0]), axis=1)))\n",
    "print(np.sum(np.all(val_class == np.array([1,0,0,0,0]), axis=1)))"
   ]
  },
  {
   "cell_type": "code",
   "execution_count": 59,
   "id": "f527e821",
   "metadata": {
    "scrolled": true
   },
   "outputs": [
    {
     "name": "stdout",
     "output_type": "stream",
     "text": [
      "Epoch 1/100\n",
      "1/1 [==============================] - 0s 299ms/step - loss: 0.9776 - accuracy: 0.7946 - val_loss: 0.9908 - val_accuracy: 0.7624\n",
      "Epoch 2/100\n",
      "1/1 [==============================] - 0s 71ms/step - loss: 0.9756 - accuracy: 0.7946 - val_loss: 0.9889 - val_accuracy: 0.7624\n",
      "Epoch 3/100\n",
      "1/1 [==============================] - 0s 70ms/step - loss: 0.9738 - accuracy: 0.7946 - val_loss: 0.9869 - val_accuracy: 0.7624\n",
      "Epoch 4/100\n",
      "1/1 [==============================] - 0s 67ms/step - loss: 0.9719 - accuracy: 0.7970 - val_loss: 0.9850 - val_accuracy: 0.7624\n",
      "Epoch 5/100\n",
      "1/1 [==============================] - 0s 70ms/step - loss: 0.9700 - accuracy: 0.7970 - val_loss: 0.9831 - val_accuracy: 0.7624\n",
      "Epoch 6/100\n",
      "1/1 [==============================] - 0s 66ms/step - loss: 0.9682 - accuracy: 0.7970 - val_loss: 0.9812 - val_accuracy: 0.7624\n",
      "Epoch 7/100\n",
      "1/1 [==============================] - 0s 59ms/step - loss: 0.9664 - accuracy: 0.7970 - val_loss: 0.9792 - val_accuracy: 0.9802\n",
      "Epoch 8/100\n",
      "1/1 [==============================] - 0s 55ms/step - loss: 0.9645 - accuracy: 0.9752 - val_loss: 0.9774 - val_accuracy: 0.9802\n",
      "Epoch 9/100\n",
      "1/1 [==============================] - 0s 59ms/step - loss: 0.9627 - accuracy: 0.9752 - val_loss: 0.9755 - val_accuracy: 0.9802\n",
      "Epoch 10/100\n",
      "1/1 [==============================] - 0s 56ms/step - loss: 0.9609 - accuracy: 0.9752 - val_loss: 0.9737 - val_accuracy: 0.9802\n",
      "Epoch 11/100\n",
      "1/1 [==============================] - 0s 56ms/step - loss: 0.9591 - accuracy: 0.9752 - val_loss: 0.9718 - val_accuracy: 0.9703\n",
      "Epoch 12/100\n",
      "1/1 [==============================] - 0s 55ms/step - loss: 0.9573 - accuracy: 0.9728 - val_loss: 0.9700 - val_accuracy: 0.9703\n",
      "Epoch 13/100\n",
      "1/1 [==============================] - 0s 56ms/step - loss: 0.9555 - accuracy: 0.9728 - val_loss: 0.9683 - val_accuracy: 0.9703\n",
      "Epoch 14/100\n",
      "1/1 [==============================] - 0s 59ms/step - loss: 0.9538 - accuracy: 0.9728 - val_loss: 0.9665 - val_accuracy: 0.9703\n",
      "Epoch 15/100\n",
      "1/1 [==============================] - 0s 56ms/step - loss: 0.9520 - accuracy: 0.9728 - val_loss: 0.9647 - val_accuracy: 0.9703\n",
      "Epoch 16/100\n",
      "1/1 [==============================] - 0s 58ms/step - loss: 0.9503 - accuracy: 0.9728 - val_loss: 0.9629 - val_accuracy: 0.9703\n",
      "Epoch 17/100\n",
      "1/1 [==============================] - 0s 56ms/step - loss: 0.9485 - accuracy: 0.9728 - val_loss: 0.9611 - val_accuracy: 0.9703\n",
      "Epoch 18/100\n",
      "1/1 [==============================] - 0s 65ms/step - loss: 0.9467 - accuracy: 0.9728 - val_loss: 0.9593 - val_accuracy: 0.9703\n",
      "Epoch 19/100\n",
      "1/1 [==============================] - 0s 56ms/step - loss: 0.9450 - accuracy: 0.9728 - val_loss: 0.9575 - val_accuracy: 0.9703\n",
      "Epoch 20/100\n",
      "1/1 [==============================] - 0s 59ms/step - loss: 0.9433 - accuracy: 0.9728 - val_loss: 0.9558 - val_accuracy: 0.9703\n",
      "Epoch 21/100\n",
      "1/1 [==============================] - 0s 56ms/step - loss: 0.9415 - accuracy: 0.9728 - val_loss: 0.9540 - val_accuracy: 0.9703\n",
      "Epoch 22/100\n",
      "1/1 [==============================] - 0s 55ms/step - loss: 0.9398 - accuracy: 0.9728 - val_loss: 0.9523 - val_accuracy: 0.9703\n",
      "Epoch 23/100\n",
      "1/1 [==============================] - 0s 57ms/step - loss: 0.9381 - accuracy: 0.9728 - val_loss: 0.9505 - val_accuracy: 0.9703\n",
      "Epoch 24/100\n",
      "1/1 [==============================] - 0s 55ms/step - loss: 0.9363 - accuracy: 0.9728 - val_loss: 0.9487 - val_accuracy: 0.9703\n",
      "Epoch 25/100\n",
      "1/1 [==============================] - 0s 70ms/step - loss: 0.9345 - accuracy: 0.9728 - val_loss: 0.9469 - val_accuracy: 0.9703\n",
      "Epoch 26/100\n",
      "1/1 [==============================] - 0s 61ms/step - loss: 0.9329 - accuracy: 0.9728 - val_loss: 0.9452 - val_accuracy: 0.9703\n",
      "Epoch 27/100\n",
      "1/1 [==============================] - 0s 65ms/step - loss: 0.9311 - accuracy: 0.9728 - val_loss: 0.9433 - val_accuracy: 0.9703\n",
      "Epoch 28/100\n",
      "1/1 [==============================] - 0s 60ms/step - loss: 0.9294 - accuracy: 0.9728 - val_loss: 0.9415 - val_accuracy: 0.9703\n",
      "Epoch 29/100\n",
      "1/1 [==============================] - 0s 55ms/step - loss: 0.9276 - accuracy: 0.9728 - val_loss: 0.9397 - val_accuracy: 0.9703\n",
      "Epoch 30/100\n",
      "1/1 [==============================] - 0s 56ms/step - loss: 0.9259 - accuracy: 0.9728 - val_loss: 0.9378 - val_accuracy: 0.9703\n",
      "Epoch 31/100\n",
      "1/1 [==============================] - 0s 68ms/step - loss: 0.9241 - accuracy: 0.9728 - val_loss: 0.9360 - val_accuracy: 0.9703\n",
      "Epoch 32/100\n",
      "1/1 [==============================] - 0s 61ms/step - loss: 0.9224 - accuracy: 0.9728 - val_loss: 0.9342 - val_accuracy: 0.9703\n",
      "Epoch 33/100\n",
      "1/1 [==============================] - 0s 57ms/step - loss: 0.9207 - accuracy: 0.9728 - val_loss: 0.9323 - val_accuracy: 0.9703\n",
      "Epoch 34/100\n",
      "1/1 [==============================] - 0s 62ms/step - loss: 0.9189 - accuracy: 0.9728 - val_loss: 0.9305 - val_accuracy: 0.9703\n",
      "Epoch 35/100\n",
      "1/1 [==============================] - 0s 54ms/step - loss: 0.9172 - accuracy: 0.9728 - val_loss: 0.9286 - val_accuracy: 0.9703\n",
      "Epoch 36/100\n",
      "1/1 [==============================] - 0s 59ms/step - loss: 0.9154 - accuracy: 0.9728 - val_loss: 0.9266 - val_accuracy: 0.9703\n",
      "Epoch 37/100\n",
      "1/1 [==============================] - 0s 58ms/step - loss: 0.9136 - accuracy: 0.9728 - val_loss: 0.9248 - val_accuracy: 0.9703\n",
      "Epoch 38/100\n",
      "1/1 [==============================] - 0s 60ms/step - loss: 0.9118 - accuracy: 0.9728 - val_loss: 0.9229 - val_accuracy: 0.9703\n",
      "Epoch 39/100\n",
      "1/1 [==============================] - 0s 60ms/step - loss: 0.9101 - accuracy: 0.9728 - val_loss: 0.9209 - val_accuracy: 0.9703\n",
      "Epoch 40/100\n",
      "1/1 [==============================] - 0s 60ms/step - loss: 0.9082 - accuracy: 0.9728 - val_loss: 0.9190 - val_accuracy: 0.9703\n",
      "Epoch 41/100\n",
      "1/1 [==============================] - 0s 62ms/step - loss: 0.9064 - accuracy: 0.9728 - val_loss: 0.9170 - val_accuracy: 0.9703\n",
      "Epoch 42/100\n",
      "1/1 [==============================] - 0s 64ms/step - loss: 0.9046 - accuracy: 0.9728 - val_loss: 0.9150 - val_accuracy: 0.9703\n",
      "Epoch 43/100\n",
      "1/1 [==============================] - 0s 57ms/step - loss: 0.9027 - accuracy: 0.9728 - val_loss: 0.9131 - val_accuracy: 0.9802\n",
      "Epoch 44/100\n",
      "1/1 [==============================] - 0s 59ms/step - loss: 0.9010 - accuracy: 0.9728 - val_loss: 0.9109 - val_accuracy: 0.9802\n",
      "Epoch 45/100\n",
      "1/1 [==============================] - 0s 62ms/step - loss: 0.8990 - accuracy: 0.9728 - val_loss: 0.9090 - val_accuracy: 0.9802\n",
      "Epoch 46/100\n",
      "1/1 [==============================] - 0s 61ms/step - loss: 0.8972 - accuracy: 0.9728 - val_loss: 0.9070 - val_accuracy: 0.9802\n",
      "Epoch 47/100\n",
      "1/1 [==============================] - 0s 57ms/step - loss: 0.8953 - accuracy: 0.9728 - val_loss: 0.9048 - val_accuracy: 0.9802\n",
      "Epoch 48/100\n",
      "1/1 [==============================] - 0s 60ms/step - loss: 0.8934 - accuracy: 0.9728 - val_loss: 0.9028 - val_accuracy: 0.9802\n",
      "Epoch 49/100\n",
      "1/1 [==============================] - 0s 59ms/step - loss: 0.8915 - accuracy: 0.9728 - val_loss: 0.9007 - val_accuracy: 0.9802\n",
      "Epoch 50/100\n",
      "1/1 [==============================] - 0s 60ms/step - loss: 0.8896 - accuracy: 0.9728 - val_loss: 0.8985 - val_accuracy: 0.9802\n",
      "Epoch 51/100\n",
      "1/1 [==============================] - 0s 55ms/step - loss: 0.8876 - accuracy: 0.9728 - val_loss: 0.8963 - val_accuracy: 0.9802\n",
      "Epoch 52/100\n",
      "1/1 [==============================] - 0s 64ms/step - loss: 0.8856 - accuracy: 0.9728 - val_loss: 0.8941 - val_accuracy: 0.9802\n",
      "Epoch 53/100\n",
      "1/1 [==============================] - 0s 60ms/step - loss: 0.8837 - accuracy: 0.9728 - val_loss: 0.8919 - val_accuracy: 0.9802\n",
      "Epoch 54/100\n",
      "1/1 [==============================] - 0s 56ms/step - loss: 0.8816 - accuracy: 0.9728 - val_loss: 0.8896 - val_accuracy: 0.9802\n",
      "Epoch 55/100\n",
      "1/1 [==============================] - 0s 63ms/step - loss: 0.8795 - accuracy: 0.9728 - val_loss: 0.8873 - val_accuracy: 0.9802\n",
      "Epoch 56/100\n",
      "1/1 [==============================] - 0s 55ms/step - loss: 0.8774 - accuracy: 0.9728 - val_loss: 0.8850 - val_accuracy: 0.9802\n",
      "Epoch 57/100\n",
      "1/1 [==============================] - 0s 55ms/step - loss: 0.8754 - accuracy: 0.9728 - val_loss: 0.8826 - val_accuracy: 0.9802\n",
      "Epoch 58/100\n",
      "1/1 [==============================] - 0s 60ms/step - loss: 0.8733 - accuracy: 0.9728 - val_loss: 0.8803 - val_accuracy: 0.9802\n",
      "Epoch 59/100\n"
     ]
    },
    {
     "name": "stdout",
     "output_type": "stream",
     "text": [
      "1/1 [==============================] - 0s 57ms/step - loss: 0.8712 - accuracy: 0.9752 - val_loss: 0.8779 - val_accuracy: 0.9802\n",
      "Epoch 60/100\n",
      "1/1 [==============================] - 0s 59ms/step - loss: 0.8691 - accuracy: 0.9777 - val_loss: 0.8754 - val_accuracy: 0.9802\n",
      "Epoch 61/100\n",
      "1/1 [==============================] - 0s 61ms/step - loss: 0.8669 - accuracy: 0.9777 - val_loss: 0.8730 - val_accuracy: 0.9802\n",
      "Epoch 62/100\n",
      "1/1 [==============================] - 0s 63ms/step - loss: 0.8647 - accuracy: 0.9777 - val_loss: 0.8706 - val_accuracy: 0.9802\n",
      "Epoch 63/100\n",
      "1/1 [==============================] - 0s 60ms/step - loss: 0.8626 - accuracy: 0.9777 - val_loss: 0.8680 - val_accuracy: 0.9901\n",
      "Epoch 64/100\n",
      "1/1 [==============================] - 0s 70ms/step - loss: 0.8603 - accuracy: 0.9777 - val_loss: 0.8654 - val_accuracy: 0.9901\n",
      "Epoch 65/100\n",
      "1/1 [==============================] - 0s 56ms/step - loss: 0.8580 - accuracy: 0.9777 - val_loss: 0.8628 - val_accuracy: 0.9901\n",
      "Epoch 66/100\n",
      "1/1 [==============================] - 0s 63ms/step - loss: 0.8557 - accuracy: 0.9777 - val_loss: 0.8602 - val_accuracy: 0.9901\n",
      "Epoch 67/100\n",
      "1/1 [==============================] - 0s 60ms/step - loss: 0.8535 - accuracy: 0.9777 - val_loss: 0.8575 - val_accuracy: 0.9901\n",
      "Epoch 68/100\n",
      "1/1 [==============================] - 0s 61ms/step - loss: 0.8511 - accuracy: 0.9777 - val_loss: 0.8549 - val_accuracy: 0.9901\n",
      "Epoch 69/100\n",
      "1/1 [==============================] - 0s 62ms/step - loss: 0.8488 - accuracy: 0.9777 - val_loss: 0.8523 - val_accuracy: 0.9901\n",
      "Epoch 70/100\n",
      "1/1 [==============================] - 0s 62ms/step - loss: 0.8466 - accuracy: 0.9777 - val_loss: 0.8496 - val_accuracy: 0.9901\n",
      "Epoch 71/100\n",
      "1/1 [==============================] - 0s 60ms/step - loss: 0.8441 - accuracy: 0.9777 - val_loss: 0.8469 - val_accuracy: 0.9901\n",
      "Epoch 72/100\n",
      "1/1 [==============================] - 0s 57ms/step - loss: 0.8418 - accuracy: 0.9777 - val_loss: 0.8441 - val_accuracy: 0.9901\n",
      "Epoch 73/100\n",
      "1/1 [==============================] - 0s 56ms/step - loss: 0.8394 - accuracy: 0.9777 - val_loss: 0.8413 - val_accuracy: 0.9901\n",
      "Epoch 74/100\n",
      "1/1 [==============================] - 0s 59ms/step - loss: 0.8369 - accuracy: 0.9777 - val_loss: 0.8385 - val_accuracy: 0.9901\n",
      "Epoch 75/100\n",
      "1/1 [==============================] - 0s 60ms/step - loss: 0.8346 - accuracy: 0.9777 - val_loss: 0.8358 - val_accuracy: 0.9901\n",
      "Epoch 76/100\n",
      "1/1 [==============================] - 0s 59ms/step - loss: 0.8321 - accuracy: 0.9777 - val_loss: 0.8329 - val_accuracy: 0.9901\n",
      "Epoch 77/100\n",
      "1/1 [==============================] - 0s 60ms/step - loss: 0.8296 - accuracy: 0.9802 - val_loss: 0.8301 - val_accuracy: 0.9901\n",
      "Epoch 78/100\n",
      "1/1 [==============================] - 0s 56ms/step - loss: 0.8272 - accuracy: 0.9802 - val_loss: 0.8274 - val_accuracy: 0.9901\n",
      "Epoch 79/100\n",
      "1/1 [==============================] - 0s 60ms/step - loss: 0.8248 - accuracy: 0.9802 - val_loss: 0.8245 - val_accuracy: 0.9901\n",
      "Epoch 80/100\n",
      "1/1 [==============================] - 0s 56ms/step - loss: 0.8222 - accuracy: 0.9802 - val_loss: 0.8217 - val_accuracy: 0.9901\n",
      "Epoch 81/100\n",
      "1/1 [==============================] - 0s 61ms/step - loss: 0.8198 - accuracy: 0.9802 - val_loss: 0.8190 - val_accuracy: 0.9901\n",
      "Epoch 82/100\n",
      "1/1 [==============================] - 0s 54ms/step - loss: 0.8174 - accuracy: 0.9802 - val_loss: 0.8161 - val_accuracy: 0.9901\n",
      "Epoch 83/100\n",
      "1/1 [==============================] - 0s 60ms/step - loss: 0.8148 - accuracy: 0.9802 - val_loss: 0.8132 - val_accuracy: 0.9901\n",
      "Epoch 84/100\n",
      "1/1 [==============================] - 0s 65ms/step - loss: 0.8123 - accuracy: 0.9802 - val_loss: 0.8107 - val_accuracy: 0.9901\n",
      "Epoch 85/100\n",
      "1/1 [==============================] - 0s 57ms/step - loss: 0.8100 - accuracy: 0.9802 - val_loss: 0.8078 - val_accuracy: 0.9901\n",
      "Epoch 86/100\n",
      "1/1 [==============================] - 0s 57ms/step - loss: 0.8075 - accuracy: 0.9802 - val_loss: 0.8051 - val_accuracy: 0.9901\n",
      "Epoch 87/100\n",
      "1/1 [==============================] - 0s 63ms/step - loss: 0.8051 - accuracy: 0.9802 - val_loss: 0.8023 - val_accuracy: 0.9901\n",
      "Epoch 88/100\n",
      "1/1 [==============================] - 0s 54ms/step - loss: 0.8026 - accuracy: 0.9802 - val_loss: 0.7995 - val_accuracy: 0.9901\n",
      "Epoch 89/100\n",
      "1/1 [==============================] - 0s 59ms/step - loss: 0.8002 - accuracy: 0.9802 - val_loss: 0.7969 - val_accuracy: 0.9901\n",
      "Epoch 90/100\n",
      "1/1 [==============================] - 0s 62ms/step - loss: 0.7977 - accuracy: 0.9802 - val_loss: 0.7941 - val_accuracy: 0.9901\n",
      "Epoch 91/100\n",
      "1/1 [==============================] - 0s 59ms/step - loss: 0.7954 - accuracy: 0.9777 - val_loss: 0.7915 - val_accuracy: 0.9901\n",
      "Epoch 92/100\n",
      "1/1 [==============================] - 0s 57ms/step - loss: 0.7930 - accuracy: 0.9777 - val_loss: 0.7888 - val_accuracy: 0.9901\n",
      "Epoch 93/100\n",
      "1/1 [==============================] - 0s 58ms/step - loss: 0.7905 - accuracy: 0.9777 - val_loss: 0.7862 - val_accuracy: 0.9901\n",
      "Epoch 94/100\n",
      "1/1 [==============================] - 0s 56ms/step - loss: 0.7882 - accuracy: 0.9777 - val_loss: 0.7837 - val_accuracy: 0.9901\n",
      "Epoch 95/100\n",
      "1/1 [==============================] - 0s 58ms/step - loss: 0.7859 - accuracy: 0.9777 - val_loss: 0.7812 - val_accuracy: 0.9901\n",
      "Epoch 96/100\n",
      "1/1 [==============================] - 0s 66ms/step - loss: 0.7836 - accuracy: 0.9777 - val_loss: 0.7785 - val_accuracy: 0.9901\n",
      "Epoch 97/100\n",
      "1/1 [==============================] - 0s 60ms/step - loss: 0.7813 - accuracy: 0.9777 - val_loss: 0.7760 - val_accuracy: 0.9901\n",
      "Epoch 98/100\n",
      "1/1 [==============================] - 0s 59ms/step - loss: 0.7790 - accuracy: 0.9777 - val_loss: 0.7735 - val_accuracy: 0.9901\n",
      "Epoch 99/100\n",
      "1/1 [==============================] - 0s 58ms/step - loss: 0.7767 - accuracy: 0.9777 - val_loss: 0.7711 - val_accuracy: 0.9901\n",
      "Epoch 100/100\n",
      "1/1 [==============================] - 0s 57ms/step - loss: 0.7745 - accuracy: 0.9777 - val_loss: 0.7686 - val_accuracy: 0.9901\n"
     ]
    }
   ],
   "source": [
    "history = model.fit(train_data,train_class, validation_data=(val_data,val_class), batch_size = 512, epochs = 100)"
   ]
  },
  {
   "cell_type": "code",
   "execution_count": 60,
   "id": "a436bb4c",
   "metadata": {},
   "outputs": [
    {
     "data": {
      "image/png": "[encoded data removed]",
      "text/plain": [
       "<Figure size 640x480 with 1 Axes>"
      ]
     },
     "metadata": {},
     "output_type": "display_data"
    }
   ],
   "source": [
    "plt.plot(history.history['accuracy'],\n",
    "         label='обучающий набор')\n",
    "plt.plot(history.history['val_accuracy'],\n",
    "         label='проверочный набор')\n",
    "plt.xlabel('Эпоха обучения')\n",
    "plt.ylabel('Доля верных ответов')\n",
    "plt.legend()\n",
    "plt.show()"
   ]
  },
  {
   "cell_type": "markdown",
   "id": "1ce40e70",
   "metadata": {},
   "source": [
    "# Тест моделей"
   ]
  },
  {
   "cell_type": "code",
   "execution_count": 61,
   "id": "d708fbc4",
   "metadata": {},
   "outputs": [],
   "source": [
    "def test_model(text,max_text_len = max_text_len,model=model):\n",
    "    test_text = text.lower()\n",
    "    data_test = tokenizer.texts_to_sequences([test_text])\n",
    "    data_pad_test = pad_sequences(data_test, maxlen = max_text_len)\n",
    "    res = model.predict(data_pad_test)\n",
    "    return res, np.argmax(res)"
   ]
  },
  {
   "cell_type": "code",
   "execution_count": 62,
   "id": "b1c97b21",
   "metadata": {},
   "outputs": [
    {
     "data": {
      "text/plain": [
       "(array([[0.4914528 , 0.10405684, 0.2090128 , 0.10777248, 0.08770508]],\n",
       "       dtype=float32),\n",
       " 0)"
      ]
     },
     "execution_count": 62,
     "metadata": {},
     "output_type": "execute_result"
    }
   ],
   "source": [
    "test_model(\"\"\"def bubble_sort(arr):\n",
    "    n = len(arr)\n",
    "    for i in range(n):\n",
    "        for j in range(0, n - i - 1):\n",
    "            if arr[j] > arr[j + 1]:\n",
    "                arr[j], arr[j + 1] = arr[j + 1], arr[j]\n",
    "    return arr\"\"\")"
   ]
  },
  {
   "cell_type": "code",
   "execution_count": 63,
   "id": "65d5c5e6",
   "metadata": {},
   "outputs": [
    {
     "data": {
      "text/plain": [
       "(array([[0.38142234, 0.13802646, 0.27789634, 0.090442  , 0.11221289]],\n",
       "       dtype=float32),\n",
       " 0)"
      ]
     },
     "execution_count": 63,
     "metadata": {},
     "output_type": "execute_result"
    }
   ],
   "source": [
    "test_model(\"\"\"def quicksort(arr):\n",
    "        if len(arr) <= 1:\n",
    "            return arr\n",
    "        else:\n",
    "            pivot = arr[0]\n",
    "            less = [x for x in arr[1:] if x <= pivot]\n",
    "            greater = [x for x in arr[1:] if x > pivot]\n",
    "            return quicksort(less) + [pivot] + quicksort(greater)\n",
    "            \"\"\")"
   ]
  },
  {
   "cell_type": "code",
   "execution_count": 64,
   "id": "0a1b223b",
   "metadata": {},
   "outputs": [
    {
     "data": {
      "text/plain": [
       "(array([[0.35057703, 0.08988616, 0.40114072, 0.08016559, 0.07823058]],\n",
       "       dtype=float32),\n",
       " 2)"
      ]
     },
     "execution_count": 64,
     "metadata": {},
     "output_type": "execute_result"
    }
   ],
   "source": [
    "test_model(\"\"\"def selection_sort(arr):        \n",
    "    for i in range(len(arr)):\n",
    "        minimum = i\n",
    "        for j in range(i + 1, len(arr)):\n",
    "            if arr[j] < arr[minimum]:\n",
    "                minimum = j\n",
    "        arr[minimum], arr[i] = arr[i], arr[minimum]\n",
    "    return arr\"\"\")"
   ]
  },
  {
   "cell_type": "code",
   "execution_count": 65,
   "id": "fca2662d",
   "metadata": {},
   "outputs": [
    {
     "data": {
      "text/plain": [
       "(array([[0.10859567, 0.1012047 , 0.10687285, 0.56894284, 0.11438391]],\n",
       "       dtype=float32),\n",
       " 3)"
      ]
     },
     "execution_count": 65,
     "metadata": {},
     "output_type": "execute_result"
    }
   ],
   "source": [
    "test_model(\"\"\"import operator\n",
    "def merge_sort(L, compare=operator.lt):\n",
    "    if len(L) < 2:\n",
    "        return L[:]\n",
    "    else:\n",
    "        middle = int(len(L) / 2)\n",
    "        left = merge_sort(L[:middle], compare)\n",
    "        right = merge_sort(L[middle:], compare)\n",
    "        return merge(left, right, compare)\n",
    "        \n",
    "        def merge(left, right, compare):\n",
    "    result = []\n",
    "    i, j = 0, 0\n",
    "    while i < len(left) and j < len(right):\n",
    "        if compare(left[i], right[j]):\n",
    "            result.append(left[i])\n",
    "            i += 1\n",
    "        else:\n",
    "            result.append(right[j])\n",
    "            j += 1\n",
    "    while i < len(left):\n",
    "        result.append(left[i])\n",
    "        i += 1\n",
    "    while j < len(right):\n",
    "        result.append(right[j])\n",
    "        j += 1\n",
    "    return result\"\"\")"
   ]
  },
  {
   "cell_type": "code",
   "execution_count": 99,
   "id": "3985657b",
   "metadata": {},
   "outputs": [
    {
     "data": {
      "text/plain": [
       "(array([[0.21668047, 0.28920454, 0.23970933, 0.04386024, 0.21054535]],\n",
       "       dtype=float32),\n",
       " 1)"
      ]
     },
     "execution_count": 99,
     "metadata": {},
     "output_type": "execute_result"
    }
   ],
   "source": [
    "test_model(\"\"\"\n",
    "def partition(arr, low, high):\n",
    "    pivot = arr[high]\n",
    "    i = low - 1\n",
    "    \n",
    "    for j in range(low, high):\n",
    "        if arr[j] <= pivot:\n",
    "            i += 1\n",
    "            arr[i], arr[j] = arr[j], arr[i]\n",
    "\n",
    "    arr[i + 1], arr[high] = arr[high], arr[i + 1]\n",
    "    return i + 1\n",
    "\n",
    "def quicksort(arr, low=0, high=None):\n",
    "    if high is None:\n",
    "        high = len(arr) - 1\n",
    "\n",
    "    if low < high:\n",
    "        pivot_index = partition(arr, low, high)\n",
    "\n",
    "        quicksort(arr, low, pivot_index - 1)\n",
    "        quicksort(arr, pivot_index + 1, high)\n",
    "\n",
    "    return arr\n",
    "\n",
    "    \"\"\")"
   ]
  },
  {
   "cell_type": "code",
   "execution_count": 101,
   "id": "4ca07765",
   "metadata": {},
   "outputs": [],
   "source": [
    "# model.save('models\\\\test_5_sort.h5).h5')"
   ]
  },
  {
   "cell_type": "code",
   "execution_count": null,
   "id": "5990a9fa",
   "metadata": {},
   "outputs": [],
   "source": [
    "# models\\\\test_4_sort(3).h5\n",
    "# maxWord = 30\n",
    "# max_text_len = 50"
   ]
  },
  {
   "cell_type": "code",
   "execution_count": 36,
   "id": "e694307a",
   "metadata": {},
   "outputs": [],
   "source": [
    "# models\\\\test_4_sort(4).h5\n",
    "# maxWord = 30\n",
    "# max_text_len = 100"
   ]
  },
  {
   "cell_type": "code",
   "execution_count": null,
   "id": "57653bf8",
   "metadata": {},
   "outputs": [],
   "source": [
    "# model.save('models\\\\test_4_sort(5).h5')\n",
    "# maxWord = 15\n",
    "# max_text_len = 30"
   ]
  },
  {
   "cell_type": "code",
   "execution_count": null,
   "id": "29b485d9",
   "metadata": {},
   "outputs": [],
   "source": [
    "# model.save('models\\\\test_4_sort(6).h5')\n",
    "# maxWord = 15\n",
    "# max_text_len = 40"
   ]
  },
  {
   "cell_type": "code",
   "execution_count": null,
   "id": "f5235a24",
   "metadata": {},
   "outputs": [],
   "source": [
    "# model.save('models\\\\test_4_sort(7).h5')\n",
    "# maxWord = 15\n",
    "# max_text_len = 40"
   ]
  },
  {
   "cell_type": "code",
   "execution_count": null,
   "id": "49bd536d",
   "metadata": {},
   "outputs": [],
   "source": [
    "# model.save('models\\\\test_4_sort(8).h5')\n",
    "# maxWord = 25\n",
    "# max_text_len = 30"
   ]
  },
  {
   "cell_type": "code",
   "execution_count": null,
   "id": "2bd11169",
   "metadata": {},
   "outputs": [],
   "source": [
    "# model.save('models\\\\test_5_sort.h5')\n",
    "# maxWord = 25\n",
    "# max_text_len = 400"
   ]
  },
  {
   "cell_type": "markdown",
   "id": "e342f483",
   "metadata": {},
   "source": [
    "# Вспомогательные функции"
   ]
  },
  {
   "cell_type": "code",
   "execution_count": 19,
   "id": "9e29476e",
   "metadata": {},
   "outputs": [
    {
     "data": {
      "text/plain": [
       "'C:\\\\Users\\\\Matvey\\\\Анализ кода\\\\Code-Insight\\\\dataset'"
      ]
     },
     "execution_count": 19,
     "metadata": {},
     "output_type": "execute_result"
    }
   ],
   "source": [
    "pwd"
   ]
  },
  {
   "cell_type": "code",
   "execution_count": 22,
   "id": "9aa15bf9",
   "metadata": {},
   "outputs": [
    {
     "name": "stdout",
     "output_type": "stream",
     "text": [
      "C:\\Users\\Matvey\\Анализ кода\\Code-Insight\n"
     ]
    }
   ],
   "source": [
    "%cd Анализ кода/Code-Insight"
   ]
  },
  {
   "cell_type": "code",
   "execution_count": 18,
   "id": "1cc6850b",
   "metadata": {},
   "outputs": [
    {
     "name": "stdout",
     "output_type": "stream",
     "text": [
      "C:\\Users\\Matvey\\Анализ кода\\Code-Insight\\dataset\n"
     ]
    }
   ],
   "source": [
    "%cd ../.."
   ]
  },
  {
   "cell_type": "code",
   "execution_count": 20,
   "id": "836ebc3c",
   "metadata": {},
   "outputs": [
    {
     "name": "stdout",
     "output_type": "stream",
     "text": [
      "C:\\Users\\Matvey\\Анализ кода\\Code-Insight\n"
     ]
    }
   ],
   "source": [
    "%cd ../"
   ]
  },
  {
   "cell_type": "code",
   "execution_count": null,
   "id": "099c2b34",
   "metadata": {},
   "outputs": [],
   "source": [
    "%cd ../../.."
   ]
  }
 ],
 "metadata": {
  "kernelspec": {
   "display_name": "tfod",
   "language": "python",
   "name": "myenv"
  },
  "language_info": {
   "codemirror_mode": {
    "name": "ipython",
    "version": 3
   },
   "file_extension": ".py",
   "mimetype": "text/x-python",
   "name": "python",
   "nbconvert_exporter": "python",
   "pygments_lexer": "ipython3",
   "version": "3.9.18"
  }
 },
 "nbformat": 4,
 "nbformat_minor": 5
}
