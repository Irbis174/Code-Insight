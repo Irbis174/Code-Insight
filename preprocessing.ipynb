{
 "cells": [
  {
   "cell_type": "code",
   "execution_count": 1,
   "id": "5abb5f58",
   "metadata": {},
   "outputs": [],
   "source": [
    "import tensorflow as tf\n",
    "import pandas as pd\n",
    "import numpy as np\n",
    "import os\n",
    "from os import chdir"
   ]
  },
  {
   "cell_type": "code",
   "execution_count": 3,
   "id": "4155c042",
   "metadata": {},
   "outputs": [],
   "source": [
    "#планируется словарь алгоритмов для более быстрого создания всех датафреймов\n",
    "alg_dict = {'sort': ['bubble_sort', 'quicksort'], 'find': 'binary_search'}"
   ]
  },
  {
   "cell_type": "code",
   "execution_count": 1,
   "id": "8b79e459",
   "metadata": {},
   "outputs": [
    {
     "ename": "KeyError",
     "evalue": "2",
     "output_type": "error",
     "traceback": [
      "\u001b[1;31m---------------------------------------------------------------------------\u001b[0m",
      "\u001b[1;31mKeyError\u001b[0m                                  Traceback (most recent call last)",
      "Cell \u001b[1;32mIn[1], line 4\u001b[0m\n\u001b[0;32m      1\u001b[0m colors \u001b[38;5;241m=\u001b[39m {}\n\u001b[0;32m      3\u001b[0m colors[\u001b[38;5;241m1\u001b[39m] \u001b[38;5;241m=\u001b[39m []\n\u001b[1;32m----> 4\u001b[0m \u001b[43mcolors\u001b[49m\u001b[43m[\u001b[49m\u001b[38;5;241;43m2\u001b[39;49m\u001b[43m]\u001b[49m\u001b[38;5;241m.\u001b[39mappend(\u001b[38;5;124m'\u001b[39m\u001b[38;5;124mбелый\u001b[39m\u001b[38;5;124m'\u001b[39m)\n\u001b[0;32m      5\u001b[0m colors[\u001b[38;5;241m3\u001b[39m]\u001b[38;5;241m.\u001b[39mappend(\u001b[38;5;124m'\u001b[39m\u001b[38;5;124mсиний\u001b[39m\u001b[38;5;124m'\u001b[39m)\n\u001b[0;32m      6\u001b[0m colors[\u001b[38;5;241m4\u001b[39m]\u001b[38;5;241m.\u001b[39mappend(\u001b[38;5;124m'\u001b[39m\u001b[38;5;124mкрасный\u001b[39m\u001b[38;5;124m'\u001b[39m)\n",
      "\u001b[1;31mKeyError\u001b[0m: 2"
     ]
    }
   ],
   "source": [
    "colors = {}\n",
    "\n",
    "colors = []\n",
    "colors[0].append('белый')\n",
    "colors[2].append('синий')\n",
    "colors[4].append('красный')"
   ]
  },
  {
   "cell_type": "code",
   "execution_count": null,
   "id": "f5f9bdd7",
   "metadata": {},
   "outputs": [],
   "source": []
  },
  {
   "cell_type": "code",
   "execution_count": 3,
   "id": "2cb304d7",
   "metadata": {},
   "outputs": [],
   "source": [
    "#создание датафрейма\n",
    "def make_df(alg,filename):\n",
    "    df = pd.read_csv(f'csv/{alg}/{filename}.csv')\n",
    "    df = df.set_index('filename')\n",
    "    del df['Unnamed: 0']\n",
    "    return df"
   ]
  },
  {
   "cell_type": "code",
   "execution_count": 9,
   "id": "388f781e",
   "metadata": {},
   "outputs": [],
   "source": [
    "#чтение и преобразование файла\n",
    "def file_read(alg,data_alg,df):\n",
    "    chdir('dataset/'+alg+'/'+data_alg)\n",
    "    new_lines = []\n",
    "    for index, row in df.iterrows():\n",
    "        with open(str(index),'r', encoding = 'utf-8') as f:\n",
    "            lines = f.readlines()\n",
    "            lines = [line for line in lines if line.strip() != \"\"]\n",
    "            #lines = lines\n",
    "        new_lines.append(lines)\n",
    "    %cd ../..\n",
    "    return new_lines"
   ]
  },
  {
   "cell_type": "code",
   "execution_count": 10,
   "id": "80d50124",
   "metadata": {},
   "outputs": [],
   "source": [
    "#обработка переменной без табов, заменяя их на 2 пробела (Доработать)\n",
    "def preporcessing_file(lines):\n",
    "    new_lines = []\n",
    "    code_line = ''\n",
    "    for i in lines:\n",
    "        for j in i:\n",
    "            j = j.replace('    ',' ')\n",
    "            code_line +=j+''\n",
    "            new_lines.append(code_line)\n",
    "        code_line = ''\n",
    "    return new_lines"
   ]
  },
  {
   "cell_type": "code",
   "execution_count": 11,
   "id": "c715cf05",
   "metadata": {},
   "outputs": [
    {
     "name": "stdout",
     "output_type": "stream",
     "text": [
      "C:\\Users\\Matvey\\Анализ кода\\Code-Insight\\dataset\n"
     ]
    }
   ],
   "source": [
    "df_bubble_sort = make_df('sort','buble_sort')\n",
    "file = file_read('sort','dataset_bubble_sort',df_bubble_sort)"
   ]
  },
  {
   "cell_type": "code",
   "execution_count": 12,
   "id": "0c63c7ae",
   "metadata": {},
   "outputs": [
    {
     "data": {
      "text/plain": [
       "[['def bubble_sort(list1):\\n',\n",
       "  '    has_swapped = True\\n',\n",
       "  '    total_iteration = 0\\n',\n",
       "  '    while (has_swapped):\\n',\n",
       "  '        has_swapped = False\\n',\n",
       "  '        for i in range(len(list1) - total_iteration - 1):\\n',\n",
       "  '            if list1[i] > list1[i + 1]:\\n',\n",
       "  '                # Swap\\n',\n",
       "  '                list1[i], list1[i + 1] = list1[i + 1], list1[i]\\n',\n",
       "  '                has_swapped = True\\n',\n",
       "  '        total_iteration += 1\\n',\n",
       "  '    print(\"The number of iteraton: \", total_iteration)\\n',\n",
       "  '    return list1\\n'],\n",
       " ['def bubble_sort(list1):\\n',\n",
       "  '    # We can stop the iteration once the swap has done\\n',\n",
       "  '    has_swapped = True\\n',\n",
       "  '    while (has_swapped):\\n',\n",
       "  '        has_swapped = False\\n',\n",
       "  '        for i in range(len(list1) - 1):\\n',\n",
       "  '            if list1[i] > list1[i + 1]:\\n',\n",
       "  '                # Swap\\n',\n",
       "  '                list1[i], list1[i + 1] = list1[i + 1], list1[i]\\n',\n",
       "  '                has_swapped = True\\n',\n",
       "  '    return list1\\n'],\n",
       " ['def bubble_sort(list1):\\n',\n",
       "  '    # Outer loop for traverse the entire list\\n',\n",
       "  '    for i in range(0, len(list1) - 1):\\n',\n",
       "  '        for j in range(len(list1) - 1):\\n',\n",
       "  '            if (list1[j] > list1[j + 1]):\\n',\n",
       "  '                # here we are not using temp variable\\n',\n",
       "  '                list1[j], list1[j + 1] = list1[j + 1], list1[j]\\n',\n",
       "  '    return list1\\n',\n",
       "  'list1 = [5, 3, 8, 6, 7, 2]\\n',\n",
       "  'print(\"The unsorted list is: \", list1)\\n',\n",
       "  '# Calling the bubble sort function\\n',\n",
       "  'print(\"The sorted list is: \", bubble_sort(list1))\\n'],\n",
       " ['# Creating a bubble sort function\\n',\n",
       "  'def bubble_sort(list1):\\n',\n",
       "  '    # Outer loop for traverse the entire list\\n',\n",
       "  '    for i in range(0, len(list1) - 1):\\n',\n",
       "  '        for j in range(len(list1) - 1):\\n',\n",
       "  '            if (list1[j] > list1[j + 1]):\\n',\n",
       "  '                temp = list1[j]\\n',\n",
       "  '                list1[j] = list1[j + 1]\\n',\n",
       "  '                list1[j + 1] = temp\\n',\n",
       "  '    return list1\\n',\n",
       "  'list1 = [5, 3, 8, 6, 7, 2]\\n',\n",
       "  'print(\"The unsorted list is: \", list1)\\n',\n",
       "  '# Calling the bubble sort function\\n',\n",
       "  'print(\"The sorted list is: \", bubble_sort(list1))\\n'],\n",
       " ['from random import randint\\n',\n",
       "  'def bubble(array):\\n',\n",
       "  '    for i in range(N - 1):\\n',\n",
       "  '        for j in range(N - i - 1):\\n',\n",
       "  '            if array[j] > array[j + 1]:\\n',\n",
       "  '                buff = array[j]\\n',\n",
       "  '                array[j] = array[j + 1]\\n',\n",
       "  '                array[j + 1] = buff\\n',\n",
       "  'N = 10\\n',\n",
       "  'a = []\\n',\n",
       "  'for i in range(N):\\n',\n",
       "  '    a.append(randint(1, 99))\\n',\n",
       "  'print(a)\\n',\n",
       "  'bubble(a)\\n',\n",
       "  'print(a)'],\n",
       " ['from random import randint\\n',\n",
       "  'N = 10\\n',\n",
       "  'a = []\\n',\n",
       "  'for i in range(N):\\n',\n",
       "  '    a.append(randint(1, 99))\\n',\n",
       "  'print(a)\\n',\n",
       "  'for i in range(N - 1):\\n',\n",
       "  '    for j in range(N - i - 1):\\n',\n",
       "  '        if a[j] > a[j + 1]:\\n',\n",
       "  '            a[j], a[j + 1] = a[j + 1], a[j]\\n',\n",
       "  'print(a)'],\n",
       " ['def bubble_sort(nums):  \\n',\n",
       "  '    # Устанавливаем swapped в True, чтобы цикл запустился хотя бы один раз\\n',\n",
       "  '    swapped = True\\n',\n",
       "  '    while swapped:\\n',\n",
       "  '        swapped = False\\n',\n",
       "  '        for i in range(len(nums) - 1):\\n',\n",
       "  '            if nums[i] > nums[i + 1]:\\n',\n",
       "  '                # Меняем элементы\\n',\n",
       "  '                nums[i], nums[i + 1] = nums[i + 1], nums[i]\\n',\n",
       "  '                # Устанавливаем swapped в True для следующей итерации\\n',\n",
       "  '                swapped = True\\n',\n",
       "  '# Проверяем, что оно работает\\n',\n",
       "  'random_list_of_nums = [5, 2, 1, 8, 4]  \\n',\n",
       "  'bubble_sort(random_list_of_nums)  \\n',\n",
       "  'print(random_list_of_nums)'],\n",
       " ['from random import randint\\n',\n",
       "  'N = 10\\n',\n",
       "  'a = []\\n',\n",
       "  'for i in range(N):\\n',\n",
       "  '    a.append(randint(1, 99))\\n',\n",
       "  'print(a)\\n',\n",
       "  'i = 0\\n',\n",
       "  'while i < N - 1:\\n',\n",
       "  '    j = 0\\n',\n",
       "  '    while j < N - 1 - i:\\n',\n",
       "  '        if a[j] > a[j + 1]:\\n',\n",
       "  '            a[j], a[j + 1] = a[j + 1], a[j]\\n',\n",
       "  '        j += 1\\n',\n",
       "  '    i += 1\\n',\n",
       "  'print(a)']]"
      ]
     },
     "execution_count": 12,
     "metadata": {},
     "output_type": "execute_result"
    }
   ],
   "source": [
    "file"
   ]
  },
  {
   "cell_type": "markdown",
   "id": "2f475ce4",
   "metadata": {},
   "source": [
    "# Вспомогательные функции"
   ]
  },
  {
   "cell_type": "code",
   "execution_count": 12,
   "id": "9e29476e",
   "metadata": {},
   "outputs": [
    {
     "data": {
      "text/plain": [
       "'C:\\\\Users\\\\Matvey\\\\Анализ кода\\\\Code-Insight\\\\dataset'"
      ]
     },
     "execution_count": 12,
     "metadata": {},
     "output_type": "execute_result"
    }
   ],
   "source": [
    "pwd"
   ]
  },
  {
   "cell_type": "code",
   "execution_count": 22,
   "id": "9aa15bf9",
   "metadata": {},
   "outputs": [
    {
     "name": "stdout",
     "output_type": "stream",
     "text": [
      "C:\\Users\\Matvey\\Анализ кода\\Code-Insight\n"
     ]
    }
   ],
   "source": [
    "%cd Анализ кода/Code-Insight"
   ]
  },
  {
   "cell_type": "code",
   "execution_count": 82,
   "id": "1cc6850b",
   "metadata": {},
   "outputs": [
    {
     "name": "stdout",
     "output_type": "stream",
     "text": [
      "C:\\Users\\Matvey\\Анализ кода\\Code-Insight\n"
     ]
    }
   ],
   "source": [
    "%cd ../.."
   ]
  },
  {
   "cell_type": "code",
   "execution_count": null,
   "id": "836ebc3c",
   "metadata": {},
   "outputs": [],
   "source": [
    "%cd ../"
   ]
  },
  {
   "cell_type": "code",
   "execution_count": null,
   "id": "099c2b34",
   "metadata": {},
   "outputs": [],
   "source": [
    "%cd ../../.."
   ]
  }
 ],
 "metadata": {
  "kernelspec": {
   "display_name": "tfod",
   "language": "python",
   "name": "myenv"
  },
  "language_info": {
   "codemirror_mode": {
    "name": "ipython",
    "version": 3
   },
   "file_extension": ".py",
   "mimetype": "text/x-python",
   "name": "python",
   "nbconvert_exporter": "python",
   "pygments_lexer": "ipython3",
   "version": "3.9.18"
  }
 },
 "nbformat": 4,
 "nbformat_minor": 5
}
