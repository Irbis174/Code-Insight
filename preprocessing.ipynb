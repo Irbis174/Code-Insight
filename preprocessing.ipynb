{
 "cells": [
  {
   "cell_type": "code",
   "execution_count": 1,
   "id": "5abb5f58",
   "metadata": {},
   "outputs": [],
   "source": [
    "import pandas as pd\n",
    "import numpy as np\n",
    "import matplotlib.pyplot as plt\n",
    "\n",
    "import os\n",
    "from os import chdir\n",
    "import tensorflow as tf\n",
    "from tensorflow.keras.preprocessing.text import Tokenizer\n",
    "from tensorflow.keras.preprocessing.sequence import pad_sequences\n",
    "from tensorflow.keras.models import Sequential\n",
    "from tensorflow.keras.optimizers import Adam\n",
    "from tensorflow.keras.layers import Dense, LSTM, Embedding\n",
    "from tensorflow.keras.layers import Dropout\n",
    "\n",
    "from sklearn.model_selection import train_test_split\n",
    "\n",
    "import pickle\n",
    "from IPython.display import clear_output"
   ]
  },
  {
   "cell_type": "code",
   "execution_count": 2,
   "id": "4155c042",
   "metadata": {},
   "outputs": [],
   "source": [
    "#планируется словарь алгоритмов для более быстрого создания всех датафреймов\n",
    "alg_dict = {'sort': ['bubble_sort', 'quick_sort'], 'find': ['binary_search']}"
   ]
  },
  {
   "cell_type": "code",
   "execution_count": 3,
   "id": "2cb304d7",
   "metadata": {},
   "outputs": [],
   "source": [
    "#создание датафрейма\n",
    "def make_df():\n",
    "    df = pd.read_csv('csv\\dataset.csv')\n",
    "    df = df.set_index('filename')\n",
    "    del df['Unnamed: 0']\n",
    "    return df"
   ]
  },
  {
   "cell_type": "code",
   "execution_count": 4,
   "id": "c3064ccd",
   "metadata": {},
   "outputs": [],
   "source": [
    "def classification(df):\n",
    "    lst_class = []\n",
    "    for language,algorithm,algorithm_name in zip(df['language'],df['algorithm'],df['algorithm_name']):\n",
    "        algorithm_name = algorithm_name.strip()\n",
    "        if algorithm_name == 'bubble_sort':\n",
    "            lst_class.append([1,0,0])\n",
    "        elif algorithm_name == 'binary_search':\n",
    "            lst_class.append([0,1,0])\n",
    "        elif algorithm_name == 'quick_sort':\n",
    "            lst_class.append([0,0,1])\n",
    "    return df, lst_class"
   ]
  },
  {
   "cell_type": "code",
   "execution_count": 5,
   "id": "1ffa2e57",
   "metadata": {},
   "outputs": [],
   "source": [
    "def classification_sort(df):\n",
    "    cnt = 0\n",
    "    df = df[df['algorithm'] == 'sort']\n",
    "    sort_class = []\n",
    "    for language,algorithm,algorithm_name in zip(df['language'],df['algorithm'],df['algorithm_name']):\n",
    "        algorithm_name = algorithm_name.strip()\n",
    "        if algorithm_name == 'bubble_sort':\n",
    "            sort_class.append([1,0])\n",
    "            cnt += 1\n",
    "        if algorithm_name == 'quick_sort':\n",
    "            sort_class.append([0,1])\n",
    "    return df, sort_class, cnt"
   ]
  },
  {
   "cell_type": "code",
   "execution_count": 6,
   "id": "6f3a3fc8",
   "metadata": {},
   "outputs": [],
   "source": [
    "def classification_find(df):\n",
    "    df = df[df['algorithm'] == 'find']\n",
    "    find_class = []\n",
    "    for language,algorithm,algorithm_name in zip(df['language'],df['algorithm'],df['algorithm_name']):\n",
    "        algorithm_name = algorithm_name.strip()\n",
    "        if algorithm_name == 'binary_search':\n",
    "            find_class.append([1,0])\n",
    "    return df, find_class"
   ]
  },
  {
   "cell_type": "code",
   "execution_count": 7,
   "id": "e9f183e8",
   "metadata": {},
   "outputs": [],
   "source": [
    "def file_read(df):\n",
    "    new_lines = []\n",
    "    #df = df.sort_values(by='filename')\n",
    "    for index, row in df.iterrows():\n",
    "        chdir(f'dataset/{row[1]}/{row[2]}')\n",
    "        with open(str(index),'r', encoding = 'utf-8') as f:\n",
    "            lines = f.readlines()\n",
    "            lines = [line for line in lines if line.strip() != \"\"]\n",
    "        %cd ../../..\n",
    "        new_lines.append(lines)\n",
    "    #%cd ../..\n",
    "    return new_lines"
   ]
  },
  {
   "cell_type": "code",
   "execution_count": 8,
   "id": "80d50124",
   "metadata": {},
   "outputs": [],
   "source": [
    "#обработка переменной без табов, заменяя их на 2 пробела (Доработать)\n",
    "def preporcessing_files(lines):\n",
    "    new_lines = []\n",
    "    code_line = ''\n",
    "    for i in lines:\n",
    "        for j in i:\n",
    "            j = j.replace('    ', ' ')\n",
    "            code_line += j\n",
    "        new_lines.append(code_line)\n",
    "    return new_lines"
   ]
  },
  {
   "cell_type": "code",
   "execution_count": 9,
   "id": "4428e1fd",
   "metadata": {},
   "outputs": [],
   "source": [
    "df = make_df()"
   ]
  },
  {
   "cell_type": "code",
   "execution_count": 10,
   "id": "176aa9f4",
   "metadata": {},
   "outputs": [],
   "source": [
    "# #общая классификация\n",
    "# df, classes = classification(df)\n",
    "# files = file_read(df)\n",
    "# pre_files = preporcessing_files(files)\n",
    "# clear_output()"
   ]
  },
  {
   "cell_type": "code",
   "execution_count": 10,
   "id": "239c3a51",
   "metadata": {},
   "outputs": [],
   "source": [
    "#Для сортировки\n",
    "df_sort, classes_sort,cnt = classification_sort(df)\n",
    "files_sort = file_read(df_sort)\n",
    "pre_files_sort = preporcessing_files(files_sort)\n",
    "clear_output()"
   ]
  },
  {
   "cell_type": "markdown",
   "id": "6416a0d1",
   "metadata": {},
   "source": [
    "# Основная часть, построение архитектуры"
   ]
  },
  {
   "cell_type": "code",
   "execution_count": 11,
   "id": "21775e9d",
   "metadata": {},
   "outputs": [],
   "source": [
    "maxWord = 1000\n",
    "max_text_len = 50\n",
    "tokenizer = Tokenizer(num_words=maxWord, lower = True, split = ' ', char_level=False)\n",
    "tokenizer.fit_on_texts(pre_files_sort) #Меняем данные\n",
    "dist = list(tokenizer.word_counts.items())\n",
    "data = tokenizer.texts_to_sequences(pre_files_sort) #Меняем данные \n",
    "data_pad = pad_sequences(data,maxlen = max_text_len)"
   ]
  },
  {
   "cell_type": "code",
   "execution_count": 10,
   "id": "82be73d7",
   "metadata": {},
   "outputs": [],
   "source": [
    "# with open('files\\\\data.pickle', 'wb') as file:\n",
    "#     pickle.dump(data, file)"
   ]
  },
  {
   "cell_type": "code",
   "execution_count": 146,
   "id": "8c044fd2",
   "metadata": {},
   "outputs": [],
   "source": [
    "with open('files\\\\тест_модель_1.pickle', 'wb') as file:\n",
    "    pickle.dump(pre_files_sort, file)"
   ]
  },
  {
   "cell_type": "code",
   "execution_count": 12,
   "id": "096ccdc7",
   "metadata": {},
   "outputs": [],
   "source": [
    "X = data_pad\n",
    "Y = np.array(classes_sort)"
   ]
  },
  {
   "cell_type": "code",
   "execution_count": 13,
   "id": "d92fedb1",
   "metadata": {},
   "outputs": [
    {
     "data": {
      "text/plain": [
       "824"
      ]
     },
     "execution_count": 13,
     "metadata": {},
     "output_type": "execute_result"
    }
   ],
   "source": [
    "len(data_pad)"
   ]
  },
  {
   "cell_type": "code",
   "execution_count": 14,
   "id": "0bab283c",
   "metadata": {},
   "outputs": [
    {
     "data": {
      "text/plain": [
       "True"
      ]
     },
     "execution_count": 14,
     "metadata": {},
     "output_type": "execute_result"
    }
   ],
   "source": [
    "len(data_pad) == len(X) == len(Y) == len(pre_files_sort)"
   ]
  },
  {
   "cell_type": "code",
   "execution_count": 22,
   "id": "63b40580",
   "metadata": {},
   "outputs": [
    {
     "name": "stdout",
     "output_type": "stream",
     "text": [
      "Model: \"sequential_1\"\n",
      "_________________________________________________________________\n",
      "Layer (type)                 Output Shape              Param #   \n",
      "=================================================================\n",
      "embedding_1 (Embedding)      (None, 50, 64)            64000     \n",
      "_________________________________________________________________\n",
      "lstm_2 (LSTM)                (None, 50, 32)            12416     \n",
      "_________________________________________________________________\n",
      "dropout_1 (Dropout)          (None, 50, 32)            0         \n",
      "_________________________________________________________________\n",
      "lstm_3 (LSTM)                (None, 16)                3136      \n",
      "_________________________________________________________________\n",
      "dense_1 (Dense)              (None, 2)                 34        \n",
      "=================================================================\n",
      "Total params: 79,586\n",
      "Trainable params: 79,586\n",
      "Non-trainable params: 0\n",
      "_________________________________________________________________\n"
     ]
    }
   ],
   "source": [
    "model = Sequential([\n",
    "    Embedding(maxWord, 64, input_length = max_text_len),\n",
    "    LSTM(32, return_sequences=True),\n",
    "    Dropout(0.2),\n",
    "    LSTM(16),\n",
    "    Dense(2, activation='softmax')\n",
    "])\n",
    "model.summary()"
   ]
  },
  {
   "cell_type": "code",
   "execution_count": 32,
   "id": "175a9a13",
   "metadata": {},
   "outputs": [],
   "source": [
    "model.compile(loss ='binary_crossentropy', metrics = ['accuracy'], optimizer = Adam(0.0001))"
   ]
  },
  {
   "cell_type": "code",
   "execution_count": 33,
   "id": "a09caa56",
   "metadata": {},
   "outputs": [],
   "source": [
    "train_data, val_data, train_class, val_class = train_test_split(X,Y, test_size=0.2)"
   ]
  },
  {
   "cell_type": "code",
   "execution_count": 34,
   "id": "4dd30437",
   "metadata": {},
   "outputs": [
    {
     "name": "stdout",
     "output_type": "stream",
     "text": [
      "Epoch 1/10\n",
      "26/26 [==============================] - 2s 19ms/step - loss: 0.2391 - accuracy: 1.0000\n",
      "Epoch 2/10\n",
      "26/26 [==============================] - 0s 15ms/step - loss: 0.2143 - accuracy: 1.0000\n",
      "Epoch 3/10\n",
      "26/26 [==============================] - 0s 13ms/step - loss: 0.1964 - accuracy: 1.0000\n",
      "Epoch 4/10\n",
      "26/26 [==============================] - 0s 13ms/step - loss: 0.1801 - accuracy: 1.0000\n",
      "Epoch 5/10\n",
      "26/26 [==============================] - 0s 13ms/step - loss: 0.1655 - accuracy: 1.0000\n",
      "Epoch 6/10\n",
      "26/26 [==============================] - 0s 12ms/step - loss: 0.1517 - accuracy: 1.0000\n",
      "Epoch 7/10\n",
      "26/26 [==============================] - 0s 10ms/step - loss: 0.1392 - accuracy: 1.0000\n",
      "Epoch 8/10\n",
      "26/26 [==============================] - 0s 10ms/step - loss: 0.1278 - accuracy: 1.0000\n",
      "Epoch 9/10\n",
      "26/26 [==============================] - 0s 9ms/step - loss: 0.1179 - accuracy: 1.0000\n",
      "Epoch 10/10\n",
      "26/26 [==============================] - 0s 10ms/step - loss: 0.1103 - accuracy: 1.0000\n"
     ]
    }
   ],
   "source": [
    "history = model.fit(X,Y, batch_size = 32, epochs = 10)"
   ]
  },
  {
   "cell_type": "code",
   "execution_count": 117,
   "id": "f527e821",
   "metadata": {},
   "outputs": [
    {
     "name": "stdout",
     "output_type": "stream",
     "text": [
      "Epoch 1/10\n",
      "21/21 [==============================] - 0s 18ms/step - loss: 5.3127e-05 - accuracy: 1.0000 - val_loss: 5.0147e-05 - val_accuracy: 1.0000\n",
      "Epoch 2/10\n",
      "21/21 [==============================] - 0s 10ms/step - loss: 5.0591e-05 - accuracy: 1.0000 - val_loss: 4.8020e-05 - val_accuracy: 1.0000\n",
      "Epoch 3/10\n",
      "21/21 [==============================] - 0s 10ms/step - loss: 4.8964e-05 - accuracy: 1.0000 - val_loss: 4.6057e-05 - val_accuracy: 1.0000\n",
      "Epoch 4/10\n",
      "21/21 [==============================] - 0s 10ms/step - loss: 4.7121e-05 - accuracy: 1.0000 - val_loss: 4.4215e-05 - val_accuracy: 1.0000\n",
      "Epoch 5/10\n",
      "21/21 [==============================] - 0s 10ms/step - loss: 4.4824e-05 - accuracy: 1.0000 - val_loss: 4.2450e-05 - val_accuracy: 1.0000\n",
      "Epoch 6/10\n",
      "21/21 [==============================] - 0s 9ms/step - loss: 4.3695e-05 - accuracy: 1.0000 - val_loss: 4.0860e-05 - val_accuracy: 1.0000\n",
      "Epoch 7/10\n",
      "21/21 [==============================] - 0s 10ms/step - loss: 4.1276e-05 - accuracy: 1.0000 - val_loss: 3.9456e-05 - val_accuracy: 1.0000\n",
      "Epoch 8/10\n",
      "21/21 [==============================] - 0s 10ms/step - loss: 4.0072e-05 - accuracy: 1.0000 - val_loss: 3.8116e-05 - val_accuracy: 1.0000\n",
      "Epoch 9/10\n",
      "21/21 [==============================] - 0s 9ms/step - loss: 3.9099e-05 - accuracy: 1.0000 - val_loss: 3.6768e-05 - val_accuracy: 1.0000\n",
      "Epoch 10/10\n",
      "21/21 [==============================] - 0s 9ms/step - loss: 3.7283e-05 - accuracy: 1.0000 - val_loss: 3.5486e-05 - val_accuracy: 1.0000\n"
     ]
    }
   ],
   "source": [
    "history = model.fit(train_data,train_class, validation_data=(val_data,val_class), batch_size = 32, epochs = 10)"
   ]
  },
  {
   "cell_type": "code",
   "execution_count": 110,
   "id": "a436bb4c",
   "metadata": {},
   "outputs": [
    {
     "data": {
      "image/png": "[encoded data removed]",
      "text/plain": [
       "<Figure size 640x480 with 1 Axes>"
      ]
     },
     "metadata": {},
     "output_type": "display_data"
    }
   ],
   "source": [
    "plt.plot(history.history['accuracy'],\n",
    "         label='обучающий набор')\n",
    "plt.plot(history.history['val_accuracy'],\n",
    "         label='проверочный набор')\n",
    "plt.xlabel('Эпоха обучения')\n",
    "plt.ylabel('Доля верных ответов')\n",
    "plt.legend()\n",
    "plt.show()"
   ]
  },
  {
   "cell_type": "markdown",
   "id": "1ce40e70",
   "metadata": {},
   "source": [
    "# Тест моделей"
   ]
  },
  {
   "cell_type": "code",
   "execution_count": 36,
   "id": "9165f09f",
   "metadata": {},
   "outputs": [],
   "source": [
    "# reverse_word_map = dict(map(reversed, tokenizer.word_index.items()))\n",
    "# def seqence_to_text(list_of_indices):\n",
    "#     return [reverse_word_map.get(letter) for letter in list_of_indices]"
   ]
  },
  {
   "cell_type": "code",
   "execution_count": 36,
   "id": "1a85fd8b",
   "metadata": {},
   "outputs": [
    {
     "name": "stdout",
     "output_type": "stream",
     "text": [
      "[[0.9900546  0.00994533]] 0\n"
     ]
    }
   ],
   "source": [
    "test_text = \"\"\"\n",
    "def bubble_sort(arr):\n",
    "    n = len(arr)\n",
    "    for i in range(n):\n",
    "        for j in range(0, n - i - 1):\n",
    "            if arr[j] > arr[j + 1]:\n",
    "                arr[j], arr[j + 1] = arr[j + 1], arr[j]\n",
    "\n",
    "# Пример использования:\n",
    "arr = [3, 6, 8, 10, 1, 2, 1]\n",
    "print(\"Исходный массив:\", arr)\n",
    "sorted_arr = bubble_sort(arr)\n",
    "print(\"Отсортированный массив:\", sorted_arr)\n",
    "            \"\"\".lower()\n",
    "data_test = tokenizer.texts_to_sequences([test_text])\n",
    "data_pad_test = pad_sequences(data_test, maxlen = max_text_len)\n",
    "res = model.predict(data_pad_test)\n",
    "print(res, np.argmax(res))"
   ]
  },
  {
   "cell_type": "code",
   "execution_count": 44,
   "id": "0e303714",
   "metadata": {},
   "outputs": [
    {
     "name": "stdout",
     "output_type": "stream",
     "text": [
      "[[0.01434759 0.98565245]] 1\n"
     ]
    }
   ],
   "source": [
    "test_text = \"\"\"\n",
    "def quicksort(arr):\n",
    "    if len(arr) <= 1:\n",
    "        return arr\n",
    "    else:\n",
    "        pivot = arr[0]\n",
    "        less = [x for x in arr[1:] if x <= pivot]\n",
    "        greater = [x for x in arr[1:] if x > pivot]\n",
    "        return quicksort(less) + [pivot] + quicksort(greater)\n",
    "\n",
    "# Пример использования:\n",
    "arr = [3, 6, 8, 10, 1, 2, 1]\n",
    "print(\"Исходный массив:\", arr)\n",
    "sorted_arr = quicksort(arr)\n",
    "print(\"Отсортированный массив:\", sorted_arr)\n",
    "            \"\"\".lower()\n",
    "data_test = tokenizer.texts_to_sequences([test_text])\n",
    "data_pad_test = pad_sequences(data_test, maxlen = max_text_len)\n",
    "res = model.predict(data_pad_test)\n",
    "print(res, np.argmax(res))"
   ]
  },
  {
   "cell_type": "code",
   "execution_count": 35,
   "id": "4ca07765",
   "metadata": {},
   "outputs": [],
   "source": [
    "model.save('models\\\\бинарная_кроссентропия.h5')"
   ]
  },
  {
   "cell_type": "markdown",
   "id": "e342f483",
   "metadata": {},
   "source": [
    "# Вспомогательные функции"
   ]
  },
  {
   "cell_type": "code",
   "execution_count": 12,
   "id": "9e29476e",
   "metadata": {},
   "outputs": [
    {
     "data": {
      "text/plain": [
       "'C:\\\\Users\\\\Matvey\\\\Анализ кода\\\\Code-Insight\\\\dataset'"
      ]
     },
     "execution_count": 12,
     "metadata": {},
     "output_type": "execute_result"
    }
   ],
   "source": [
    "pwd"
   ]
  },
  {
   "cell_type": "code",
   "execution_count": 22,
   "id": "9aa15bf9",
   "metadata": {},
   "outputs": [
    {
     "name": "stdout",
     "output_type": "stream",
     "text": [
      "C:\\Users\\Matvey\\Анализ кода\\Code-Insight\n"
     ]
    }
   ],
   "source": [
    "%cd Анализ кода/Code-Insight"
   ]
  },
  {
   "cell_type": "code",
   "execution_count": 82,
   "id": "1cc6850b",
   "metadata": {},
   "outputs": [
    {
     "name": "stdout",
     "output_type": "stream",
     "text": [
      "C:\\Users\\Matvey\\Анализ кода\\Code-Insight\n"
     ]
    }
   ],
   "source": [
    "%cd ../.."
   ]
  },
  {
   "cell_type": "code",
   "execution_count": null,
   "id": "836ebc3c",
   "metadata": {},
   "outputs": [],
   "source": [
    "%cd ../"
   ]
  },
  {
   "cell_type": "code",
   "execution_count": null,
   "id": "099c2b34",
   "metadata": {},
   "outputs": [],
   "source": [
    "%cd ../../.."
   ]
  }
 ],
 "metadata": {
  "kernelspec": {
   "display_name": "tfod",
   "language": "python",
   "name": "myenv"
  },
  "language_info": {
   "codemirror_mode": {
    "name": "ipython",
    "version": 3
   },
   "file_extension": ".py",
   "mimetype": "text/x-python",
   "name": "python",
   "nbconvert_exporter": "python",
   "pygments_lexer": "ipython3",
   "version": "3.9.18"
  }
 },
 "nbformat": 4,
 "nbformat_minor": 5
}
