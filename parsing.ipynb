{
 "cells": [
  {
   "cell_type": "code",
   "execution_count": 1,
   "id": "ace49613",
   "metadata": {},
   "outputs": [],
   "source": [
    "import pandas as pd\n",
    "import numpy as np\n",
    "import tensorflow as tf\n",
    "import os\n",
    "import re"
   ]
  },
  {
   "cell_type": "code",
   "execution_count": 2,
   "id": "65a84dc9",
   "metadata": {},
   "outputs": [],
   "source": [
    "#планируется словарь алгоритмов для более быстрого создания всех датафреймов\n",
    "alg_dict = {'sort': ['bubble_sort', 'quick_sort','selection_sort','merge_sort','insertion_sort'], 'find': ['binary_search', 'linear_search', 'quick_select']}"
   ]
  },
  {
   "cell_type": "code",
   "execution_count": 3,
   "id": "d1586d12",
   "metadata": {},
   "outputs": [],
   "source": [
    "def natural_sort_key(s):\n",
    "    return [int(t) if t.isdigit() else t for t in re.split(r'(\\d+)', s)]\n",
    "\n",
    "def remove_chars(string):\n",
    "    chars_to_remove = '()0123456789 '\n",
    "    return ''.join(char for char in string if char not in chars_to_remove)\n",
    "\n",
    "def make_df(alg_dict):\n",
    "    df = pd.DataFrame(columns = ['filename','language','algorithm','algorithm_name'])\n",
    "    for key, values in alg_dict.items():\n",
    "        for value in values:\n",
    "            file_path = f'dataset\\{key}\\{value}'\n",
    "            file_list = sorted(os.listdir(file_path), key=natural_sort_key)\n",
    "            for file_name in file_list:\n",
    "                file_alg = remove_chars(file_name)\n",
    "                if file_name[-2:] != ').py':\n",
    "                    df.loc[len(df)] = [file_name, file_name[-2:],key, file_alg[:-3]]\n",
    "    return df"
   ]
  },
  {
   "cell_type": "code",
   "execution_count": 4,
   "id": "0165568a",
   "metadata": {},
   "outputs": [],
   "source": [
    "df = make_df(alg_dict)"
   ]
  },
  {
   "cell_type": "code",
   "execution_count": 5,
   "id": "3720a9ee",
   "metadata": {},
   "outputs": [
    {
     "data": {
      "text/plain": [
       "'C:\\\\Users\\\\Matvey\\\\Анализ кода\\\\Code-Insight'"
      ]
     },
     "execution_count": 5,
     "metadata": {},
     "output_type": "execute_result"
    }
   ],
   "source": [
    "pwd"
   ]
  },
  {
   "cell_type": "code",
   "execution_count": 8,
   "id": "9824e0be",
   "metadata": {},
   "outputs": [
    {
     "data": {
      "text/html": [
       "<div>\n",
       "<style scoped>\n",
       "    .dataframe tbody tr th:only-of-type {\n",
       "        vertical-align: middle;\n",
       "    }\n",
       "\n",
       "    .dataframe tbody tr th {\n",
       "        vertical-align: top;\n",
       "    }\n",
       "\n",
       "    .dataframe thead th {\n",
       "        text-align: right;\n",
       "    }\n",
       "</style>\n",
       "<table border=\"1\" class=\"dataframe\">\n",
       "  <thead>\n",
       "    <tr style=\"text-align: right;\">\n",
       "      <th></th>\n",
       "      <th>filename</th>\n",
       "      <th>language</th>\n",
       "      <th>algorithm</th>\n",
       "      <th>algorithm_name</th>\n",
       "    </tr>\n",
       "  </thead>\n",
       "  <tbody>\n",
       "    <tr>\n",
       "      <th>0</th>\n",
       "      <td>bubble_sort (1).py</td>\n",
       "      <td>py</td>\n",
       "      <td>sort</td>\n",
       "      <td>bubble_sort</td>\n",
       "    </tr>\n",
       "    <tr>\n",
       "      <th>1</th>\n",
       "      <td>bubble_sort (2).py</td>\n",
       "      <td>py</td>\n",
       "      <td>sort</td>\n",
       "      <td>bubble_sort</td>\n",
       "    </tr>\n",
       "    <tr>\n",
       "      <th>2</th>\n",
       "      <td>bubble_sort (3).py</td>\n",
       "      <td>py</td>\n",
       "      <td>sort</td>\n",
       "      <td>bubble_sort</td>\n",
       "    </tr>\n",
       "    <tr>\n",
       "      <th>3</th>\n",
       "      <td>bubble_sort (4).py</td>\n",
       "      <td>py</td>\n",
       "      <td>sort</td>\n",
       "      <td>bubble_sort</td>\n",
       "    </tr>\n",
       "    <tr>\n",
       "      <th>4</th>\n",
       "      <td>bubble_sort (5).py</td>\n",
       "      <td>py</td>\n",
       "      <td>sort</td>\n",
       "      <td>bubble_sort</td>\n",
       "    </tr>\n",
       "    <tr>\n",
       "      <th>...</th>\n",
       "      <td>...</td>\n",
       "      <td>...</td>\n",
       "      <td>...</td>\n",
       "      <td>...</td>\n",
       "    </tr>\n",
       "    <tr>\n",
       "      <th>651</th>\n",
       "      <td>quick_select (47).py</td>\n",
       "      <td>py</td>\n",
       "      <td>find</td>\n",
       "      <td>quick_select</td>\n",
       "    </tr>\n",
       "    <tr>\n",
       "      <th>652</th>\n",
       "      <td>quick_select (48).py</td>\n",
       "      <td>py</td>\n",
       "      <td>find</td>\n",
       "      <td>quick_select</td>\n",
       "    </tr>\n",
       "    <tr>\n",
       "      <th>653</th>\n",
       "      <td>quick_select (49).py</td>\n",
       "      <td>py</td>\n",
       "      <td>find</td>\n",
       "      <td>quick_select</td>\n",
       "    </tr>\n",
       "    <tr>\n",
       "      <th>654</th>\n",
       "      <td>quick_select (50).py</td>\n",
       "      <td>py</td>\n",
       "      <td>find</td>\n",
       "      <td>quick_select</td>\n",
       "    </tr>\n",
       "    <tr>\n",
       "      <th>655</th>\n",
       "      <td>quick_select.py</td>\n",
       "      <td>py</td>\n",
       "      <td>find</td>\n",
       "      <td>quick_select</td>\n",
       "    </tr>\n",
       "  </tbody>\n",
       "</table>\n",
       "<p>656 rows × 4 columns</p>\n",
       "</div>"
      ],
      "text/plain": [
       "                 filename language algorithm algorithm_name\n",
       "0      bubble_sort (1).py       py      sort    bubble_sort\n",
       "1      bubble_sort (2).py       py      sort    bubble_sort\n",
       "2      bubble_sort (3).py       py      sort    bubble_sort\n",
       "3      bubble_sort (4).py       py      sort    bubble_sort\n",
       "4      bubble_sort (5).py       py      sort    bubble_sort\n",
       "..                    ...      ...       ...            ...\n",
       "651  quick_select (47).py       py      find   quick_select\n",
       "652  quick_select (48).py       py      find   quick_select\n",
       "653  quick_select (49).py       py      find   quick_select\n",
       "654  quick_select (50).py       py      find   quick_select\n",
       "655       quick_select.py       py      find   quick_select\n",
       "\n",
       "[656 rows x 4 columns]"
      ]
     },
     "execution_count": 8,
     "metadata": {},
     "output_type": "execute_result"
    }
   ],
   "source": [
    "df"
   ]
  },
  {
   "cell_type": "code",
   "execution_count": 7,
   "id": "6f0c5c0f",
   "metadata": {},
   "outputs": [],
   "source": [
    "df.to_csv('csv/dataset_5_sort_3_find.csv', encoding='utf-8')"
   ]
  },
  {
   "cell_type": "code",
   "execution_count": null,
   "id": "f9a72eff",
   "metadata": {},
   "outputs": [],
   "source": []
  },
  {
   "cell_type": "code",
   "execution_count": null,
   "id": "406b563b",
   "metadata": {},
   "outputs": [],
   "source": []
  }
 ],
 "metadata": {
  "kernelspec": {
   "display_name": "Python 3 (ipykernel)",
   "language": "python",
   "name": "python3"
  },
  "language_info": {
   "codemirror_mode": {
    "name": "ipython",
    "version": 3
   },
   "file_extension": ".py",
   "mimetype": "text/x-python",
   "name": "python",
   "nbconvert_exporter": "python",
   "pygments_lexer": "ipython3",
   "version": "3.9.18"
  }
 },
 "nbformat": 4,
 "nbformat_minor": 5
}
