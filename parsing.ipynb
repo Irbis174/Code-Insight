{
 "cells": [
  {
   "cell_type": "code",
   "execution_count": 3,
   "id": "ace49613",
   "metadata": {},
   "outputs": [],
   "source": [
    "import pandas as pd\n",
    "import numpy as np\n",
    "import tensorflow as tf\n",
    "import os"
   ]
  },
  {
   "cell_type": "code",
   "execution_count": 26,
   "id": "95dcc6f6",
   "metadata": {},
   "outputs": [],
   "source": [
    "def get_key_by_value(dictionary, value):\n",
    "    for key, val in dictionary.items():\n",
    "        if isinstance(val, list) and value in val:\n",
    "            return key\n",
    "    return None"
   ]
  },
  {
   "cell_type": "code",
   "execution_count": 44,
   "id": "65a84dc9",
   "metadata": {},
   "outputs": [],
   "source": [
    "#планируется словарь алгоритмов для более быстрого создания всех датафреймов\n",
    "alg_dict = {'sort': ['bubble_sort', 'quicksort']} #'find': 'binary_search'}"
   ]
  },
  {
   "cell_type": "code",
   "execution_count": 28,
   "id": "b8516c72",
   "metadata": {},
   "outputs": [],
   "source": [
    "df = pd.DataFrame({'filename': os.listdir('dataset/sort/dataset_bubble_sort'), 'language': os.listdir('dataset/sort/dataset_bubble_sort')[2][-2:],'algorithm': 'sort' ,'algorithm_name': 'bubble_sort',})"
   ]
  },
  {
   "cell_type": "code",
   "execution_count": 24,
   "id": "4436015b",
   "metadata": {},
   "outputs": [],
   "source": [
    "df = pd.DataFrame({'filename': os.listdir(f\"dataset/sort/dataset_{alg_dict['sort'][0]}\"), 'language': os.listdir(f\"dataset/{get_key_by_value(alg_dict, alg_dict['sort'][0])}/dataset_{alg_dict['sort'][0]}\")[2][-2:], 'algorithm': 'sort', 'algorithm_name': alg_dict['sort'][0]})"
   ]
  },
  {
   "cell_type": "code",
   "execution_count": 19,
   "id": "654fc9da",
   "metadata": {},
   "outputs": [],
   "source": [
    "df_test = pd.DataFrame(columns = ['filename','language','algorithm','algorithm_name'])"
   ]
  },
  {
   "cell_type": "code",
   "execution_count": 25,
   "id": "6a61a2bd",
   "metadata": {},
   "outputs": [
    {
     "data": {
      "text/html": [
       "<div>\n",
       "<style scoped>\n",
       "    .dataframe tbody tr th:only-of-type {\n",
       "        vertical-align: middle;\n",
       "    }\n",
       "\n",
       "    .dataframe tbody tr th {\n",
       "        vertical-align: top;\n",
       "    }\n",
       "\n",
       "    .dataframe thead th {\n",
       "        text-align: right;\n",
       "    }\n",
       "</style>\n",
       "<table border=\"1\" class=\"dataframe\">\n",
       "  <thead>\n",
       "    <tr style=\"text-align: right;\">\n",
       "      <th></th>\n",
       "      <th>filename</th>\n",
       "      <th>language</th>\n",
       "      <th>algorithm</th>\n",
       "      <th>algorithm_name</th>\n",
       "    </tr>\n",
       "  </thead>\n",
       "  <tbody>\n",
       "    <tr>\n",
       "      <th>0</th>\n",
       "      <td>bubble_sort (2).py</td>\n",
       "      <td>py</td>\n",
       "      <td>sort</td>\n",
       "      <td>bubble_sort</td>\n",
       "    </tr>\n",
       "    <tr>\n",
       "      <th>1</th>\n",
       "      <td>bubble_sort (3).py</td>\n",
       "      <td>py</td>\n",
       "      <td>sort</td>\n",
       "      <td>bubble_sort</td>\n",
       "    </tr>\n",
       "    <tr>\n",
       "      <th>2</th>\n",
       "      <td>bubble_sort (4).py</td>\n",
       "      <td>py</td>\n",
       "      <td>sort</td>\n",
       "      <td>bubble_sort</td>\n",
       "    </tr>\n",
       "    <tr>\n",
       "      <th>3</th>\n",
       "      <td>bubble_sort (5).py</td>\n",
       "      <td>py</td>\n",
       "      <td>sort</td>\n",
       "      <td>bubble_sort</td>\n",
       "    </tr>\n",
       "    <tr>\n",
       "      <th>4</th>\n",
       "      <td>bubble_sort (6).py</td>\n",
       "      <td>py</td>\n",
       "      <td>sort</td>\n",
       "      <td>bubble_sort</td>\n",
       "    </tr>\n",
       "    <tr>\n",
       "      <th>5</th>\n",
       "      <td>bubble_sort (7).py</td>\n",
       "      <td>py</td>\n",
       "      <td>sort</td>\n",
       "      <td>bubble_sort</td>\n",
       "    </tr>\n",
       "    <tr>\n",
       "      <th>6</th>\n",
       "      <td>bubble_sort (8).py</td>\n",
       "      <td>py</td>\n",
       "      <td>sort</td>\n",
       "      <td>bubble_sort</td>\n",
       "    </tr>\n",
       "    <tr>\n",
       "      <th>7</th>\n",
       "      <td>bubble_sort.py</td>\n",
       "      <td>py</td>\n",
       "      <td>sort</td>\n",
       "      <td>bubble_sort</td>\n",
       "    </tr>\n",
       "  </tbody>\n",
       "</table>\n",
       "</div>"
      ],
      "text/plain": [
       "             filename language algorithm algorithm_name\n",
       "0  bubble_sort (2).py       py      sort    bubble_sort\n",
       "1  bubble_sort (3).py       py      sort    bubble_sort\n",
       "2  bubble_sort (4).py       py      sort    bubble_sort\n",
       "3  bubble_sort (5).py       py      sort    bubble_sort\n",
       "4  bubble_sort (6).py       py      sort    bubble_sort\n",
       "5  bubble_sort (7).py       py      sort    bubble_sort\n",
       "6  bubble_sort (8).py       py      sort    bubble_sort\n",
       "7      bubble_sort.py       py      sort    bubble_sort"
      ]
     },
     "execution_count": 25,
     "metadata": {},
     "output_type": "execute_result"
    }
   ],
   "source": [
    "df"
   ]
  },
  {
   "cell_type": "code",
   "execution_count": 58,
   "id": "2a613fd7",
   "metadata": {},
   "outputs": [
    {
     "name": "stdout",
     "output_type": "stream",
     "text": [
      "dataset/sort/dataset_bubble_sort\\bubble_sort (2).py\n",
      "dataset/sort/dataset_bubble_sort\\bubble_sort (3).py\n",
      "dataset/sort/dataset_bubble_sort\\bubble_sort (4).py\n",
      "dataset/sort/dataset_bubble_sort\\bubble_sort (5).py\n",
      "dataset/sort/dataset_bubble_sort\\bubble_sort (6).py\n",
      "dataset/sort/dataset_bubble_sort\\bubble_sort (7).py\n",
      "dataset/sort/dataset_bubble_sort\\bubble_sort (8).py\n",
      "dataset/sort/dataset_bubble_sort\\bubble_sort.py\n",
      "dataset/sort/dataset_quicksort\\quicksort (2).py\n",
      "dataset/sort/dataset_quicksort\\quicksort (3).py\n",
      "dataset/sort/dataset_quicksort\\quicksort (4).py\n",
      "dataset/sort/dataset_quicksort\\quicksort.py\n"
     ]
    }
   ],
   "source": [
    "for key, values in alg_dict.items():\n",
    "    for value in values:\n",
    "        file_path = f'dataset/{key}/dataset_{value}'\n",
    "        for file_name in os.listdir(file_path):\n",
    "            full_file_path = os.path.join(file_path, file_name)\n",
    "            print(full_file_path)"
   ]
  },
  {
   "cell_type": "code",
   "execution_count": 16,
   "id": "d93face7",
   "metadata": {},
   "outputs": [
    {
     "data": {
      "text/html": [
       "<div>\n",
       "<style scoped>\n",
       "    .dataframe tbody tr th:only-of-type {\n",
       "        vertical-align: middle;\n",
       "    }\n",
       "\n",
       "    .dataframe tbody tr th {\n",
       "        vertical-align: top;\n",
       "    }\n",
       "\n",
       "    .dataframe thead th {\n",
       "        text-align: right;\n",
       "    }\n",
       "</style>\n",
       "<table border=\"1\" class=\"dataframe\">\n",
       "  <thead>\n",
       "    <tr style=\"text-align: right;\">\n",
       "      <th></th>\n",
       "      <th>filename</th>\n",
       "      <th>language</th>\n",
       "      <th>algorithm</th>\n",
       "      <th>algorithm_name</th>\n",
       "    </tr>\n",
       "  </thead>\n",
       "  <tbody>\n",
       "    <tr>\n",
       "      <th>0</th>\n",
       "      <td>bubble_sort (2).py</td>\n",
       "      <td>py</td>\n",
       "      <td>sort</td>\n",
       "      <td>bubble_sort</td>\n",
       "    </tr>\n",
       "    <tr>\n",
       "      <th>1</th>\n",
       "      <td>bubble_sort (3).py</td>\n",
       "      <td>py</td>\n",
       "      <td>sort</td>\n",
       "      <td>bubble_sort</td>\n",
       "    </tr>\n",
       "    <tr>\n",
       "      <th>2</th>\n",
       "      <td>bubble_sort (4).py</td>\n",
       "      <td>py</td>\n",
       "      <td>sort</td>\n",
       "      <td>bubble_sort</td>\n",
       "    </tr>\n",
       "    <tr>\n",
       "      <th>3</th>\n",
       "      <td>bubble_sort (5).py</td>\n",
       "      <td>py</td>\n",
       "      <td>sort</td>\n",
       "      <td>bubble_sort</td>\n",
       "    </tr>\n",
       "    <tr>\n",
       "      <th>4</th>\n",
       "      <td>bubble_sort (6).py</td>\n",
       "      <td>py</td>\n",
       "      <td>sort</td>\n",
       "      <td>bubble_sort</td>\n",
       "    </tr>\n",
       "    <tr>\n",
       "      <th>5</th>\n",
       "      <td>bubble_sort (7).py</td>\n",
       "      <td>py</td>\n",
       "      <td>sort</td>\n",
       "      <td>bubble_sort</td>\n",
       "    </tr>\n",
       "    <tr>\n",
       "      <th>6</th>\n",
       "      <td>bubble_sort (8).py</td>\n",
       "      <td>py</td>\n",
       "      <td>sort</td>\n",
       "      <td>bubble_sort</td>\n",
       "    </tr>\n",
       "    <tr>\n",
       "      <th>7</th>\n",
       "      <td>bubble_sort.py</td>\n",
       "      <td>py</td>\n",
       "      <td>sort</td>\n",
       "      <td>bubble_sort</td>\n",
       "    </tr>\n",
       "  </tbody>\n",
       "</table>\n",
       "</div>"
      ],
      "text/plain": [
       "             filename language algorithm algorithm_name\n",
       "0  bubble_sort (2).py       py      sort    bubble_sort\n",
       "1  bubble_sort (3).py       py      sort    bubble_sort\n",
       "2  bubble_sort (4).py       py      sort    bubble_sort\n",
       "3  bubble_sort (5).py       py      sort    bubble_sort\n",
       "4  bubble_sort (6).py       py      sort    bubble_sort\n",
       "5  bubble_sort (7).py       py      sort    bubble_sort\n",
       "6  bubble_sort (8).py       py      sort    bubble_sort\n",
       "7      bubble_sort.py       py      sort    bubble_sort"
      ]
     },
     "execution_count": 16,
     "metadata": {},
     "output_type": "execute_result"
    }
   ],
   "source": [
    "df"
   ]
  },
  {
   "cell_type": "code",
   "execution_count": 6,
   "id": "3d2a0280",
   "metadata": {},
   "outputs": [
    {
     "data": {
      "text/plain": [
       "'py'"
      ]
     },
     "execution_count": 6,
     "metadata": {},
     "output_type": "execute_result"
    }
   ],
   "source": [
    "os.listdir(f'dataset/sort/dataset_{alg_dict[\"sort\"][0]}')[2][-2:]"
   ]
  },
  {
   "cell_type": "code",
   "execution_count": 31,
   "id": "bd0a2765",
   "metadata": {},
   "outputs": [
    {
     "data": {
      "text/html": [
       "<div>\n",
       "<style scoped>\n",
       "    .dataframe tbody tr th:only-of-type {\n",
       "        vertical-align: middle;\n",
       "    }\n",
       "\n",
       "    .dataframe tbody tr th {\n",
       "        vertical-align: top;\n",
       "    }\n",
       "\n",
       "    .dataframe thead th {\n",
       "        text-align: right;\n",
       "    }\n",
       "</style>\n",
       "<table border=\"1\" class=\"dataframe\">\n",
       "  <thead>\n",
       "    <tr style=\"text-align: right;\">\n",
       "      <th></th>\n",
       "      <th>filename</th>\n",
       "      <th>language</th>\n",
       "      <th>algorithm</th>\n",
       "      <th>algorithm_name</th>\n",
       "    </tr>\n",
       "  </thead>\n",
       "  <tbody>\n",
       "    <tr>\n",
       "      <th>0</th>\n",
       "      <td>bubble_sort (2).py</td>\n",
       "      <td>py</td>\n",
       "      <td>sort</td>\n",
       "      <td>bubble_sort</td>\n",
       "    </tr>\n",
       "    <tr>\n",
       "      <th>1</th>\n",
       "      <td>bubble_sort (3).py</td>\n",
       "      <td>py</td>\n",
       "      <td>sort</td>\n",
       "      <td>bubble_sort</td>\n",
       "    </tr>\n",
       "    <tr>\n",
       "      <th>2</th>\n",
       "      <td>bubble_sort (4).py</td>\n",
       "      <td>py</td>\n",
       "      <td>sort</td>\n",
       "      <td>bubble_sort</td>\n",
       "    </tr>\n",
       "    <tr>\n",
       "      <th>3</th>\n",
       "      <td>bubble_sort (5).py</td>\n",
       "      <td>py</td>\n",
       "      <td>sort</td>\n",
       "      <td>bubble_sort</td>\n",
       "    </tr>\n",
       "    <tr>\n",
       "      <th>4</th>\n",
       "      <td>bubble_sort (6).py</td>\n",
       "      <td>py</td>\n",
       "      <td>sort</td>\n",
       "      <td>bubble_sort</td>\n",
       "    </tr>\n",
       "    <tr>\n",
       "      <th>5</th>\n",
       "      <td>bubble_sort (7).py</td>\n",
       "      <td>py</td>\n",
       "      <td>sort</td>\n",
       "      <td>bubble_sort</td>\n",
       "    </tr>\n",
       "    <tr>\n",
       "      <th>6</th>\n",
       "      <td>bubble_sort (8).py</td>\n",
       "      <td>py</td>\n",
       "      <td>sort</td>\n",
       "      <td>bubble_sort</td>\n",
       "    </tr>\n",
       "    <tr>\n",
       "      <th>7</th>\n",
       "      <td>bubble_sort.py</td>\n",
       "      <td>py</td>\n",
       "      <td>sort</td>\n",
       "      <td>bubble_sort</td>\n",
       "    </tr>\n",
       "  </tbody>\n",
       "</table>\n",
       "</div>"
      ],
      "text/plain": [
       "             filename language algorithm algorithm_name\n",
       "0  bubble_sort (2).py       py      sort    bubble_sort\n",
       "1  bubble_sort (3).py       py      sort    bubble_sort\n",
       "2  bubble_sort (4).py       py      sort    bubble_sort\n",
       "3  bubble_sort (5).py       py      sort    bubble_sort\n",
       "4  bubble_sort (6).py       py      sort    bubble_sort\n",
       "5  bubble_sort (7).py       py      sort    bubble_sort\n",
       "6  bubble_sort (8).py       py      sort    bubble_sort\n",
       "7      bubble_sort.py       py      sort    bubble_sort"
      ]
     },
     "execution_count": 31,
     "metadata": {},
     "output_type": "execute_result"
    }
   ],
   "source": [
    "df"
   ]
  },
  {
   "cell_type": "code",
   "execution_count": 7,
   "id": "6f0c5c0f",
   "metadata": {},
   "outputs": [],
   "source": [
    "df.to_csv('csv/sort/buble_sort.csv', encoding='utf-8')"
   ]
  }
 ],
 "metadata": {
  "kernelspec": {
   "display_name": "Python 3 (ipykernel)",
   "language": "python",
   "name": "python3"
  },
  "language_info": {
   "codemirror_mode": {
    "name": "ipython",
    "version": 3
   },
   "file_extension": ".py",
   "mimetype": "text/x-python",
   "name": "python",
   "nbconvert_exporter": "python",
   "pygments_lexer": "ipython3",
   "version": "3.9.18"
  }
 },
 "nbformat": 4,
 "nbformat_minor": 5
}
