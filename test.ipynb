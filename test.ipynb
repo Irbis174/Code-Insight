{
 "cells": [
  {
   "cell_type": "code",
   "execution_count": 27,
   "id": "d40a7204",
   "metadata": {},
   "outputs": [],
   "source": [
    "code = \"aegdgsa fgasd fsdfaaa start asdfgdasg asdadsfa w4er fads stop dsgahrfd asdf adsgf\""
   ]
  },
  {
   "cell_type": "code",
   "execution_count": 10,
   "id": "cdd6479d",
   "metadata": {},
   "outputs": [],
   "source": [
    "code = \"\"\"class Griff:\n",
    "    def __init__(self, max_load):\n",
    "        self.max_load = max_load\n",
    "        self.left_weight = 0\n",
    "        self.right_weight = 0\n",
    "\n",
    "    def add_left_blin(self, weight):\n",
    "        if self.left_weight + weight - self.right_weight >= 20:\n",
    "            print(\"Невозможно добавить блин. Стороны слишком разбалансированы.\")\n",
    "        else:\n",
    "            self.left_weight += weight\n",
    "\n",
    "    def add_right_blin(self, weight):\n",
    "        if self.right_weight + weight - self.left_weight >= 20:\n",
    "            print(\"Невозможно добавить блин. Стороны слишком разбалансированы.\")\n",
    "        else:\n",
    "            self.right_weight += weight\n",
    "\n",
    "    def get_total_weight(self):\n",
    "        return self.left_weight + self.right_weight\n",
    "\n",
    "    def get_balance_difference(self):\n",
    "        return abs(self.left_weight - self.right_weight)\n",
    "\n",
    "\n",
    "class Blin:\n",
    "    def __init__(self, weight):\n",
    "        self.weight = weight\n",
    "\n",
    "    def __str__(self):\n",
    "        return f\"Блин весом {self.weight} кг\"\n",
    "\"\"\""
   ]
  },
  {
   "cell_type": "code",
   "execution_count": 28,
   "id": "06a57467",
   "metadata": {},
   "outputs": [],
   "source": [
    "stopword = \"start\"\n",
    "endword = \"stop\""
   ]
  },
  {
   "cell_type": "code",
   "execution_count": 33,
   "id": "f8dc491f",
   "metadata": {},
   "outputs": [],
   "source": [
    "start_index = code.find(stopword) + len(stopword)\n",
    "end_index = code.find(endword)\n",
    "fragment = code[start_index:end_index]"
   ]
  },
  {
   "cell_type": "code",
   "execution_count": 34,
   "id": "7381bf98",
   "metadata": {},
   "outputs": [
    {
     "data": {
      "text/plain": [
       "' asdfgdasg asdadsfa w4er fads '"
      ]
     },
     "execution_count": 34,
     "metadata": {},
     "output_type": "execute_result"
    }
   ],
   "source": [
    "fragment"
   ]
  }
 ],
 "metadata": {
  "kernelspec": {
   "display_name": "tfod",
   "language": "python",
   "name": "myenv"
  },
  "language_info": {
   "codemirror_mode": {
    "name": "ipython",
    "version": 3
   },
   "file_extension": ".py",
   "mimetype": "text/x-python",
   "name": "python",
   "nbconvert_exporter": "python",
   "pygments_lexer": "ipython3",
   "version": "3.9.18"
  }
 },
 "nbformat": 4,
 "nbformat_minor": 5
}
