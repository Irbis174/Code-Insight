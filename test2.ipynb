{
 "cells": [
  {
   "cell_type": "code",
   "execution_count": 1,
   "id": "6bd45216",
   "metadata": {},
   "outputs": [],
   "source": [
    "import pandas as pd\n",
    "from time import time\n",
    "from random import randint, seed, choice\n",
    "from os import chdir"
   ]
  },
  {
   "cell_type": "code",
   "execution_count": 2,
   "id": "233d76f5",
   "metadata": {},
   "outputs": [],
   "source": [
    "def test(sd,cnt,f):\n",
    "    seed(sd)\n",
    "    arr = [randint(1,100000000) for i in range(cnt)]\n",
    "    time_start = time()\n",
    "    f(arr,cnt)\n",
    "    print(time() - time_start)"
   ]
  },
  {
   "cell_type": "code",
   "execution_count": 3,
   "id": "f296437b",
   "metadata": {},
   "outputs": [],
   "source": [
    "#создание датафрейма\n",
    "def make_df():\n",
    "    df = pd.read_csv(f'csv/dataset.csv')\n",
    "    df = df.set_index('filename')\n",
    "    del df['Unnamed: 0']\n",
    "    return df\n",
    "df = make_df()"
   ]
  },
  {
   "cell_type": "code",
   "execution_count": 4,
   "id": "3104d92f",
   "metadata": {},
   "outputs": [],
   "source": [
    "def file_read(df):\n",
    "    new_lines = []\n",
    "    for index, row in df.iterrows():\n",
    "        chdir(f'dataset/{row[1]}/{row[2]}')\n",
    "        with open(str(index),'r', encoding = 'utf-8') as f:\n",
    "            lines = f.readlines()\n",
    "            lines = [line for line in lines if line.strip() != \"\"]\n",
    "        %cd ../../..\n",
    "        new_lines.append(lines)\n",
    "    new_lines = [''.join(new_lines[i]) for i in range(len(new_lines))]\n",
    "    return new_lines"
   ]
  },
  {
   "cell_type": "code",
   "execution_count": 6,
   "id": "c6ca6bf6",
   "metadata": {
    "scrolled": true
   },
   "outputs": [
    {
     "name": "stdout",
     "output_type": "stream",
     "text": [
      "C:\\Users\\Matvey\\Анализ кода\\Code-Insight\n",
      "C:\\Users\\Matvey\\Анализ кода\\Code-Insight\n",
      "C:\\Users\\Matvey\\Анализ кода\\Code-Insight\n",
      "C:\\Users\\Matvey\\Анализ кода\\Code-Insight\n",
      "C:\\Users\\Matvey\\Анализ кода\\Code-Insight\n",
      "C:\\Users\\Matvey\\Анализ кода\\Code-Insight\n",
      "C:\\Users\\Matvey\\Анализ кода\\Code-Insight\n",
      "C:\\Users\\Matvey\\Анализ кода\\Code-Insight\n",
      "C:\\Users\\Matvey\\Анализ кода\\Code-Insight\n",
      "C:\\Users\\Matvey\\Анализ кода\\Code-Insight\n",
      "C:\\Users\\Matvey\\Анализ кода\\Code-Insight\n",
      "C:\\Users\\Matvey\\Анализ кода\\Code-Insight\n",
      "C:\\Users\\Matvey\\Анализ кода\\Code-Insight\n",
      "C:\\Users\\Matvey\\Анализ кода\\Code-Insight\n",
      "C:\\Users\\Matvey\\Анализ кода\\Code-Insight\n",
      "C:\\Users\\Matvey\\Анализ кода\\Code-Insight\n",
      "C:\\Users\\Matvey\\Анализ кода\\Code-Insight\n",
      "C:\\Users\\Matvey\\Анализ кода\\Code-Insight\n",
      "C:\\Users\\Matvey\\Анализ кода\\Code-Insight\n",
      "C:\\Users\\Matvey\\Анализ кода\\Code-Insight\n",
      "C:\\Users\\Matvey\\Анализ кода\\Code-Insight\n",
      "C:\\Users\\Matvey\\Анализ кода\\Code-Insight\n",
      "C:\\Users\\Matvey\\Анализ кода\\Code-Insight\n",
      "C:\\Users\\Matvey\\Анализ кода\\Code-Insight\n",
      "C:\\Users\\Matvey\\Анализ кода\\Code-Insight\n",
      "C:\\Users\\Matvey\\Анализ кода\\Code-Insight\n",
      "C:\\Users\\Matvey\\Анализ кода\\Code-Insight\n",
      "C:\\Users\\Matvey\\Анализ кода\\Code-Insight\n",
      "C:\\Users\\Matvey\\Анализ кода\\Code-Insight\n",
      "C:\\Users\\Matvey\\Анализ кода\\Code-Insight\n",
      "C:\\Users\\Matvey\\Анализ кода\\Code-Insight\n",
      "C:\\Users\\Matvey\\Анализ кода\\Code-Insight\n",
      "C:\\Users\\Matvey\\Анализ кода\\Code-Insight\n",
      "C:\\Users\\Matvey\\Анализ кода\\Code-Insight\n",
      "C:\\Users\\Matvey\\Анализ кода\\Code-Insight\n"
     ]
    }
   ],
   "source": [
    "file = file_read(df)"
   ]
  },
  {
   "cell_type": "code",
   "execution_count": 11,
   "id": "77f8f78c",
   "metadata": {},
   "outputs": [
    {
     "name": "stdout",
     "output_type": "stream",
     "text": [
      "[1, 2, 3, 4]\n"
     ]
    }
   ],
   "source": [
    "def process_array(func_string, arr):\n",
    "    # Выполнение строки func_string как кода\n",
    "    exec(func_string, globals())\n",
    "    # Вызов функции bubble_sort, результат которой будет установлен в result\n",
    "    result = bubble_sort(arr)\n",
    "    # Ваш код\n",
    "    return result\n",
    "\n",
    "# Определение строки с кодом функции bubble_sort\n",
    "bubble_sort_code = \"\"\"\n",
    "def bubble_sort(arr):\n",
    "    has_swapped = True\n",
    "    total_iteration = 0\n",
    "    while has_swapped:\n",
    "        has_swapped = False\n",
    "        for i in range(len(arr) - total_iteration - 1):\n",
    "            if arr[i] > arr[i + 1]:\n",
    "                arr[i], arr[i + 1] = arr[i + 1], arr[i]\n",
    "                has_swapped = True\n",
    "        total_iteration += 1\n",
    "    return arr\n",
    "\"\"\"\n",
    "\n",
    "# Вызов функции process_array, передавая в нее строку с кодом функции bubble_sort\n",
    "result = process_array(bubble_sort_code, [4, 2, 1, 3])\n",
    "print(result)"
   ]
  }
 ],
 "metadata": {
  "kernelspec": {
   "display_name": "tfod",
   "language": "python",
   "name": "myenv"
  },
  "language_info": {
   "codemirror_mode": {
    "name": "ipython",
    "version": 3
   },
   "file_extension": ".py",
   "mimetype": "text/x-python",
   "name": "python",
   "nbconvert_exporter": "python",
   "pygments_lexer": "ipython3",
   "version": "3.9.18"
  }
 },
 "nbformat": 4,
 "nbformat_minor": 5
}
