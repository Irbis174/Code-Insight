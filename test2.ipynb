{
 "cells": [
  {
   "cell_type": "code",
   "execution_count": 1,
   "id": "649096b4",
   "metadata": {},
   "outputs": [],
   "source": [
    "import pandas as pd\n",
    "from time import time\n",
    "from random import randint, seed, choice\n",
    "from os import chdir"
   ]
  },
  {
   "cell_type": "code",
   "execution_count": 2,
   "id": "601f0bf0",
   "metadata": {},
   "outputs": [],
   "source": [
    "def test(sd,cnt,f):\n",
    "    seed(sd)\n",
    "    arr = [randint(1,100000000) for i in range(cnt)]\n",
    "    time_start = time()\n",
    "    f(arr,cnt)\n",
    "    print(time() - time_start)"
   ]
  },
  {
   "cell_type": "code",
   "execution_count": 3,
   "id": "6148f2c0",
   "metadata": {},
   "outputs": [],
   "source": [
    "#создание датафрейма\n",
    "def make_df():\n",
    "    df = pd.read_csv(f'csv/dataset.csv')\n",
    "    df = df.set_index('filename')\n",
    "    del df['Unnamed: 0']\n",
    "    return df\n",
    "df = make_df()"
   ]
  },
  {
   "cell_type": "code",
   "execution_count": 4,
   "id": "229f7822",
   "metadata": {},
   "outputs": [],
   "source": [
    "def file_read(df):\n",
    "    new_lines = []\n",
    "    for index, row in df.iterrows():\n",
    "        chdir(f'dataset/{row[1]}/{row[2]}')\n",
    "        with open(str(index),'r', encoding = 'utf-8') as f:\n",
    "            lines = f.readlines()\n",
    "            lines = [line for line in lines if line.strip() != \"\"]\n",
    "        %cd ../../..\n",
    "        new_lines.append(lines)\n",
    "    new_lines = [''.join(new_lines[i]) for i in range(len(new_lines))]\n",
    "    return new_lines"
   ]
  },
  {
   "cell_type": "code",
   "execution_count": 6,
   "id": "436f96b8",
   "metadata": {
    "scrolled": true
   },
   "outputs": [
    {
     "name": "stdout",
     "output_type": "stream",
     "text": [
      "C:\\Users\\Matvey\\Анализ кода\\Code-Insight\n",
      "C:\\Users\\Matvey\\Анализ кода\\Code-Insight\n",
      "C:\\Users\\Matvey\\Анализ кода\\Code-Insight\n",
      "C:\\Users\\Matvey\\Анализ кода\\Code-Insight\n",
      "C:\\Users\\Matvey\\Анализ кода\\Code-Insight\n",
      "C:\\Users\\Matvey\\Анализ кода\\Code-Insight\n",
      "C:\\Users\\Matvey\\Анализ кода\\Code-Insight\n",
      "C:\\Users\\Matvey\\Анализ кода\\Code-Insight\n",
      "C:\\Users\\Matvey\\Анализ кода\\Code-Insight\n",
      "C:\\Users\\Matvey\\Анализ кода\\Code-Insight\n",
      "C:\\Users\\Matvey\\Анализ кода\\Code-Insight\n",
      "C:\\Users\\Matvey\\Анализ кода\\Code-Insight\n",
      "C:\\Users\\Matvey\\Анализ кода\\Code-Insight\n",
      "C:\\Users\\Matvey\\Анализ кода\\Code-Insight\n",
      "C:\\Users\\Matvey\\Анализ кода\\Code-Insight\n",
      "C:\\Users\\Matvey\\Анализ кода\\Code-Insight\n",
      "C:\\Users\\Matvey\\Анализ кода\\Code-Insight\n",
      "C:\\Users\\Matvey\\Анализ кода\\Code-Insight\n",
      "C:\\Users\\Matvey\\Анализ кода\\Code-Insight\n",
      "C:\\Users\\Matvey\\Анализ кода\\Code-Insight\n",
      "C:\\Users\\Matvey\\Анализ кода\\Code-Insight\n",
      "C:\\Users\\Matvey\\Анализ кода\\Code-Insight\n",
      "C:\\Users\\Matvey\\Анализ кода\\Code-Insight\n",
      "C:\\Users\\Matvey\\Анализ кода\\Code-Insight\n",
      "C:\\Users\\Matvey\\Анализ кода\\Code-Insight\n",
      "C:\\Users\\Matvey\\Анализ кода\\Code-Insight\n",
      "C:\\Users\\Matvey\\Анализ кода\\Code-Insight\n",
      "C:\\Users\\Matvey\\Анализ кода\\Code-Insight\n",
      "C:\\Users\\Matvey\\Анализ кода\\Code-Insight\n",
      "C:\\Users\\Matvey\\Анализ кода\\Code-Insight\n",
      "C:\\Users\\Matvey\\Анализ кода\\Code-Insight\n",
      "C:\\Users\\Matvey\\Анализ кода\\Code-Insight\n",
      "C:\\Users\\Matvey\\Анализ кода\\Code-Insight\n",
      "C:\\Users\\Matvey\\Анализ кода\\Code-Insight\n",
      "C:\\Users\\Matvey\\Анализ кода\\Code-Insight\n"
     ]
    }
   ],
   "source": [
    "file = file_read(df)"
   ]
  },
  {
   "cell_type": "code",
   "execution_count": 10,
   "id": "19e22e10",
   "metadata": {},
   "outputs": [
    {
     "ename": "NameError",
     "evalue": "name 'bubble_sort' is not defined",
     "output_type": "error",
     "traceback": [
      "\u001b[1;31m---------------------------------------------------------------------------\u001b[0m",
      "\u001b[1;31mNameError\u001b[0m                                 Traceback (most recent call last)",
      "Cell \u001b[1;32mIn[10], line 25\u001b[0m\n\u001b[0;32m     10\u001b[0m bubble_sort_code \u001b[38;5;241m=\u001b[39m \u001b[38;5;124m\"\"\"\u001b[39m\n\u001b[0;32m     11\u001b[0m \u001b[38;5;124mdef bubble_sort(arr):\u001b[39m\n\u001b[0;32m     12\u001b[0m \u001b[38;5;124m    has_swapped = True\u001b[39m\n\u001b[1;32m   (...)\u001b[0m\n\u001b[0;32m     21\u001b[0m \u001b[38;5;124m    return arr\u001b[39m\n\u001b[0;32m     22\u001b[0m \u001b[38;5;124m\"\"\"\u001b[39m\n\u001b[0;32m     24\u001b[0m \u001b[38;5;66;03m# Вызов функции process_array, передавая в нее строку с кодом функции bubble_sort\u001b[39;00m\n\u001b[1;32m---> 25\u001b[0m result \u001b[38;5;241m=\u001b[39m \u001b[43mprocess_array\u001b[49m\u001b[43m(\u001b[49m\u001b[43mbubble_sort_code\u001b[49m\u001b[43m,\u001b[49m\u001b[43m \u001b[49m\u001b[43m[\u001b[49m\u001b[38;5;241;43m4\u001b[39;49m\u001b[43m,\u001b[49m\u001b[43m \u001b[49m\u001b[38;5;241;43m2\u001b[39;49m\u001b[43m,\u001b[49m\u001b[43m \u001b[49m\u001b[38;5;241;43m1\u001b[39;49m\u001b[43m,\u001b[49m\u001b[43m \u001b[49m\u001b[38;5;241;43m3\u001b[39;49m\u001b[43m]\u001b[49m\u001b[43m)\u001b[49m\n\u001b[0;32m     26\u001b[0m \u001b[38;5;28mprint\u001b[39m(result)\n",
      "Cell \u001b[1;32mIn[10], line 5\u001b[0m, in \u001b[0;36mprocess_array\u001b[1;34m(func_string, arr)\u001b[0m\n\u001b[0;32m      3\u001b[0m exec(func_string)\n\u001b[0;32m      4\u001b[0m \u001b[38;5;66;03m# Вызов функции bubble_sort, результат которой будет установлен в result\u001b[39;00m\n\u001b[1;32m----> 5\u001b[0m result \u001b[38;5;241m=\u001b[39m \u001b[43mbubble_sort\u001b[49m(arr)\n\u001b[0;32m      6\u001b[0m \u001b[38;5;66;03m# Ваш код\u001b[39;00m\n\u001b[0;32m      7\u001b[0m \u001b[38;5;28;01mreturn\u001b[39;00m result\n",
      "\u001b[1;31mNameError\u001b[0m: name 'bubble_sort' is not defined"
     ]
    }
   ],
   "source": [
    "def process_array(func_string, arr):\n",
    "    # Выполнение строки func_string как кода\n",
    "    exec(func_string)\n",
    "    # Вызов функции bubble_sort, результат которой будет установлен в result\n",
    "    result = bubble_sort(arr)\n",
    "    # Ваш код\n",
    "    return result\n",
    "\n",
    "# Определение строки с кодом функции bubble_sort\n",
    "bubble_sort_code = \"\"\"\n",
    "def bubble_sort(arr):\n",
    "    has_swapped = True\n",
    "    total_iteration = 0\n",
    "    while has_swapped:\n",
    "        has_swapped = False\n",
    "        for i in range(len(arr) - total_iteration - 1):\n",
    "            if arr[i] > arr[i + 1]:\n",
    "                arr[i], arr[i + 1] = arr[i + 1], arr[i]\n",
    "                has_swapped = True\n",
    "        total_iteration += 1\n",
    "    return arr\n",
    "\"\"\"\n",
    "\n",
    "# Вызов функции process_array, передавая в нее строку с кодом функции bubble_sort\n",
    "result = process_array(bubble_sort_code, [4, 2, 1, 3])\n",
    "print(result)"
   ]
  }
 ],
 "metadata": {
  "kernelspec": {
   "display_name": "tfod",
   "language": "python",
   "name": "myenv"
  },
  "language_info": {
   "codemirror_mode": {
    "name": "ipython",
    "version": 3
   },
   "file_extension": ".py",
   "mimetype": "text/x-python",
   "name": "python",
   "nbconvert_exporter": "python",
   "pygments_lexer": "ipython3",
   "version": "3.9.18"
  }
 },
 "nbformat": 4,
 "nbformat_minor": 5
}
