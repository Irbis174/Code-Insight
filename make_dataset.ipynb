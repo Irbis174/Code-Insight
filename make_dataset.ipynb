{
 "cells": [
  {
   "cell_type": "code",
   "execution_count": 6,
   "id": "2bc30362",
   "metadata": {},
   "outputs": [],
   "source": [
    "import os\n",
    "import re"
   ]
  },
  {
   "cell_type": "code",
   "execution_count": 11,
   "id": "99db5a72",
   "metadata": {},
   "outputs": [],
   "source": [
    "def natural_sort_key(s):\n",
    "    return [int(t) if t.isdigit() else t for t in re.split(r'(\\d+)', s)]\n",
    "\n",
    "def write_file(alg_type, alg_name, file, text):\n",
    "    file = open(f'dataset\\{alg_type}\\{alg_name}\\{file}', \"w\")\n",
    "    file.write(text)\n",
    "\n",
    "def make_file(alg_type, alg_name):\n",
    "    while True:\n",
    "        text = str(input())\n",
    "        file = sorted(os.listdir(f'dataset/{alg_type}/{alg_name}'), key=natural_sort_key)[-2]\n",
    "        new_file = re.sub(r'\\d+', lambda x: str(int(x.group()) + 1), file)\n",
    "        if text == 'break': \n",
    "            break\n",
    "        else:\n",
    "            write_file(alg_type,alg_name,new_file,text)\n",
    "            print(new_file)"
   ]
  },
  {
   "cell_type": "code",
   "execution_count": 12,
   "id": "0685a0bc",
   "metadata": {},
   "outputs": [
    {
     "name": "stdout",
     "output_type": "stream",
     "text": [
      "a\n",
      "bubble_sort (101).py\n",
      "break\n"
     ]
    }
   ],
   "source": [
    "make_file('sort','bubble_sort')"
   ]
  },
  {
   "cell_type": "code",
   "execution_count": null,
   "id": "86aec3af",
   "metadata": {},
   "outputs": [],
   "source": []
  }
 ],
 "metadata": {
  "kernelspec": {
   "display_name": "tfod",
   "language": "python",
   "name": "myenv"
  },
  "language_info": {
   "codemirror_mode": {
    "name": "ipython",
    "version": 3
   },
   "file_extension": ".py",
   "mimetype": "text/x-python",
   "name": "python",
   "nbconvert_exporter": "python",
   "pygments_lexer": "ipython3",
   "version": "3.9.18"
  }
 },
 "nbformat": 4,
 "nbformat_minor": 5
}
