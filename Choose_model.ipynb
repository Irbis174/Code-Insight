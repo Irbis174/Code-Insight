{
 "cells": [
  {
   "cell_type": "code",
   "execution_count": 1,
   "id": "a78ef26c",
   "metadata": {},
   "outputs": [],
   "source": [
    "import numpy as np\n",
    "from keras.models import load_model\n",
    "import tensorflow as tf\n",
    "from tensorflow.keras.preprocessing.text import Tokenizer\n",
    "from tensorflow.keras.preprocessing.sequence import pad_sequences\n",
    "\n",
    "import pickle"
   ]
  },
  {
   "cell_type": "code",
   "execution_count": 2,
   "id": "b445180a",
   "metadata": {},
   "outputs": [],
   "source": [
    "alg_dict = {'sort': ['bubble_sort', 'quick_sort','selection_sort', 'merge_sort', 'insertion_sort'], 'find': ['binary_search']}\n",
    "info_dict = {'sort': ['test_5_sort.h5','5_sort.pickle',[25,400]]}\n",
    "max_text_len = None\n",
    "model = None\n",
    "tokenizer = None"
   ]
  },
  {
   "cell_type": "code",
   "execution_count": 3,
   "id": "85b5b04c",
   "metadata": {},
   "outputs": [],
   "source": [
    "def alg_selection():\n",
    "    alg_type = str(input())\n",
    "    if alg_type not in alg_dict: \n",
    "        raise ValueError(\"Нет такого вида алгоритма\")\n",
    "    alg_name = str(input())\n",
    "    if alg_name not in alg_dict[alg_type]:\n",
    "        raise ValueError(\"Нет такого алгоритма\")\n",
    "    return alg_type, alg_name"
   ]
  },
  {
   "cell_type": "code",
   "execution_count": 4,
   "id": "ea4e4d5f",
   "metadata": {},
   "outputs": [],
   "source": [
    "def info_selection(alg_type):\n",
    "    model = load_model(f'models\\\\{info_dict[alg_type][0]}')\n",
    "    with open(f'files\\\\{info_dict[alg_type][1]}', 'rb') as file:\n",
    "        pre_files = pickle.load(file)\n",
    "    max_text_len, tokenizer = settings(alg_type,pre_files)\n",
    "    return model, max_text_len, tokenizer"
   ]
  },
  {
   "cell_type": "code",
   "execution_count": 5,
   "id": "f099858d",
   "metadata": {},
   "outputs": [],
   "source": [
    "def settings(alg_type,pre_files):\n",
    "    maxWord = info_dict[alg_type][2][0]\n",
    "    max_text_len = info_dict[alg_type][2][1]\n",
    "    tokenizer = Tokenizer(num_words=maxWord, lower = True, split = ' ', char_level=False)\n",
    "    tokenizer.fit_on_texts(pre_files)\n",
    "    return max_text_len, tokenizer"
   ]
  },
  {
   "cell_type": "code",
   "execution_count": 6,
   "id": "a57b601c",
   "metadata": {},
   "outputs": [
    {
     "name": "stdout",
     "output_type": "stream",
     "text": [
      "sort\n",
      "bubble_sort\n"
     ]
    }
   ],
   "source": [
    "if __name__ == '__main__':\n",
    "    alg_type, alg_name = alg_selection()\n",
    "    model, max_text_len, tokenizer = info_selection(alg_type)"
   ]
  },
  {
   "cell_type": "code",
   "execution_count": 7,
   "id": "4df48506",
   "metadata": {},
   "outputs": [],
   "source": [
    "def test_model(text,max_text_len = max_text_len, model = model,tokenizer = tokenizer):\n",
    "    test_text = text.lower()\n",
    "    data_test = tokenizer.texts_to_sequences([test_text])\n",
    "    data_pad_test = pad_sequences(data_test, maxlen = max_text_len)\n",
    "    res = model.predict(data_pad_test)\n",
    "    return res, np.argmax(res)"
   ]
  },
  {
   "cell_type": "code",
   "execution_count": null,
   "id": "31aa5f23",
   "metadata": {},
   "outputs": [],
   "source": [
    "def sort(pred):\n",
    "    if pred == 0: print('Реализована сортировка пузырьком')\n",
    "    elif pred == 1: print('Реализована быстрая сортировка')\n",
    "    elif pred == 2:"
   ]
  },
  {
   "cell_type": "code",
   "execution_count": 9,
   "id": "f5b40040",
   "metadata": {},
   "outputs": [
    {
     "data": {
      "text/plain": [
       "(array([[0.2326386 , 0.14755422, 0.3655972 , 0.14605904, 0.10815097]],\n",
       "       dtype=float32),\n",
       " 2)"
      ]
     },
     "execution_count": 9,
     "metadata": {},
     "output_type": "execute_result"
    }
   ],
   "source": [
    "test_model(\"\"\"\n",
    "def select_sort(A):\n",
    "    for i in range(len(A) - 1):\n",
    "        min_index = i\n",
    "        for k in range(i + 1, len(A)):\n",
    "            if A[k] < A[min_index]:\n",
    "                min_index = k\n",
    "        A[i], A[min_index] = A[min_index], A[i]\n",
    "    return A\n",
    "            \"\"\")"
   ]
  },
  {
   "cell_type": "code",
   "execution_count": null,
   "id": "e2cbff41",
   "metadata": {},
   "outputs": [],
   "source": []
  }
 ],
 "metadata": {
  "kernelspec": {
   "display_name": "tfod",
   "language": "python",
   "name": "myenv"
  },
  "language_info": {
   "codemirror_mode": {
    "name": "ipython",
    "version": 3
   },
   "file_extension": ".py",
   "mimetype": "text/x-python",
   "name": "python",
   "nbconvert_exporter": "python",
   "pygments_lexer": "ipython3",
   "version": "3.9.18"
  }
 },
 "nbformat": 4,
 "nbformat_minor": 5
}
