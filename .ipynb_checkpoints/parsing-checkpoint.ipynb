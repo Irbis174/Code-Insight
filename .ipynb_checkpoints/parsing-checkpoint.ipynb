{
 "cells": [
  {
   "cell_type": "code",
   "execution_count": 42,
   "id": "ace49613",
   "metadata": {},
   "outputs": [],
   "source": [
    "import pandas as pd\n",
    "import numpy as np\n",
    "import tensorflow as tf\n",
    "import os"
   ]
  },
  {
   "cell_type": "code",
   "execution_count": 73,
   "id": "b8516c72",
   "metadata": {},
   "outputs": [],
   "source": [
    "df = pd.DataFrame({'filename': os.listdir('dataset'), 'language': os.listdir('dataset')[2][-2:], 'algorithm': 'bubble_sort',})"
   ]
  },
  {
   "cell_type": "code",
   "execution_count": 72,
   "id": "3d2a0280",
   "metadata": {},
   "outputs": [
    {
     "data": {
      "text/plain": [
       "'py'"
      ]
     },
     "execution_count": 72,
     "metadata": {},
     "output_type": "execute_result"
    }
   ],
   "source": [
    "os.listdir('dataset')[2][-2:]"
   ]
  },
  {
   "cell_type": "code",
   "execution_count": 74,
   "id": "bd0a2765",
   "metadata": {},
   "outputs": [
    {
     "data": {
      "text/html": [
       "<div>\n",
       "<style scoped>\n",
       "    .dataframe tbody tr th:only-of-type {\n",
       "        vertical-align: middle;\n",
       "    }\n",
       "\n",
       "    .dataframe tbody tr th {\n",
       "        vertical-align: top;\n",
       "    }\n",
       "\n",
       "    .dataframe thead th {\n",
       "        text-align: right;\n",
       "    }\n",
       "</style>\n",
       "<table border=\"1\" class=\"dataframe\">\n",
       "  <thead>\n",
       "    <tr style=\"text-align: right;\">\n",
       "      <th></th>\n",
       "      <th>filename</th>\n",
       "      <th>language</th>\n",
       "      <th>algorithm</th>\n",
       "    </tr>\n",
       "  </thead>\n",
       "  <tbody>\n",
       "    <tr>\n",
       "      <th>0</th>\n",
       "      <td>bubble_sort (2).py</td>\n",
       "      <td>py</td>\n",
       "      <td>bubble_sort</td>\n",
       "    </tr>\n",
       "    <tr>\n",
       "      <th>1</th>\n",
       "      <td>bubble_sort (3).py</td>\n",
       "      <td>py</td>\n",
       "      <td>bubble_sort</td>\n",
       "    </tr>\n",
       "    <tr>\n",
       "      <th>2</th>\n",
       "      <td>bubble_sort (4).py</td>\n",
       "      <td>py</td>\n",
       "      <td>bubble_sort</td>\n",
       "    </tr>\n",
       "    <tr>\n",
       "      <th>3</th>\n",
       "      <td>bubble_sort (5).py</td>\n",
       "      <td>py</td>\n",
       "      <td>bubble_sort</td>\n",
       "    </tr>\n",
       "    <tr>\n",
       "      <th>4</th>\n",
       "      <td>bubble_sort (6).py</td>\n",
       "      <td>py</td>\n",
       "      <td>bubble_sort</td>\n",
       "    </tr>\n",
       "    <tr>\n",
       "      <th>5</th>\n",
       "      <td>bubble_sort (7).py</td>\n",
       "      <td>py</td>\n",
       "      <td>bubble_sort</td>\n",
       "    </tr>\n",
       "    <tr>\n",
       "      <th>6</th>\n",
       "      <td>bubble_sort (8).py</td>\n",
       "      <td>py</td>\n",
       "      <td>bubble_sort</td>\n",
       "    </tr>\n",
       "    <tr>\n",
       "      <th>7</th>\n",
       "      <td>bubble_sort.py</td>\n",
       "      <td>py</td>\n",
       "      <td>bubble_sort</td>\n",
       "    </tr>\n",
       "  </tbody>\n",
       "</table>\n",
       "</div>"
      ],
      "text/plain": [
       "             filename language    algorithm\n",
       "0  bubble_sort (2).py       py  bubble_sort\n",
       "1  bubble_sort (3).py       py  bubble_sort\n",
       "2  bubble_sort (4).py       py  bubble_sort\n",
       "3  bubble_sort (5).py       py  bubble_sort\n",
       "4  bubble_sort (6).py       py  bubble_sort\n",
       "5  bubble_sort (7).py       py  bubble_sort\n",
       "6  bubble_sort (8).py       py  bubble_sort\n",
       "7      bubble_sort.py       py  bubble_sort"
      ]
     },
     "execution_count": 74,
     "metadata": {},
     "output_type": "execute_result"
    }
   ],
   "source": [
    "df"
   ]
  },
  {
   "cell_type": "code",
   "execution_count": 75,
   "id": "6f0c5c0f",
   "metadata": {},
   "outputs": [],
   "source": [
    "df.to_csv('buble_sort.csv', encoding='utf-8')"
   ]
  }
 ],
 "metadata": {
  "kernelspec": {
   "display_name": "Python 3 (ipykernel)",
   "language": "python",
   "name": "python3"
  },
  "language_info": {
   "codemirror_mode": {
    "name": "ipython",
    "version": 3
   },
   "file_extension": ".py",
   "mimetype": "text/x-python",
   "name": "python",
   "nbconvert_exporter": "python",
   "pygments_lexer": "ipython3",
   "version": "3.9.18"
  }
 },
 "nbformat": 4,
 "nbformat_minor": 5
}
