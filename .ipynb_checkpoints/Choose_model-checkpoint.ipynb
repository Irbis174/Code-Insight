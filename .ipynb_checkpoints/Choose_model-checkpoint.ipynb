{
 "cells": [
  {
   "cell_type": "code",
   "execution_count": 1,
   "id": "a78ef26c",
   "metadata": {},
   "outputs": [],
   "source": [
    "import numpy as np\n",
    "from keras.models import load_model\n",
    "import tensorflow as tf\n",
    "from tensorflow.keras.preprocessing.text import Tokenizer\n",
    "from tensorflow.keras.preprocessing.sequence import pad_sequences\n",
    "\n",
    "import pickle"
   ]
  },
  {
   "cell_type": "code",
   "execution_count": 2,
   "id": "b445180a",
   "metadata": {},
   "outputs": [],
   "source": [
    "alg_dict = {'sort': ['bubble_sort', 'quick_sort','selection_sort', 'merge_sort', 'insertion_sort'], 'find': ['binary_search']}\n",
    "info_dict = {'sort': ['test_5_sort.h5','5_sort.pickle',[25,400]]}"
   ]
  },
  {
   "cell_type": "code",
   "execution_count": 3,
   "id": "85b5b04c",
   "metadata": {},
   "outputs": [],
   "source": [
    "def alg_selection():\n",
    "    alg_type = str(input())\n",
    "    if alg_type not in alg_dict: \n",
    "        raise ValueError(\"Нет такого типа\")\n",
    "    alg_name = str(input())\n",
    "    if alg_name not in alg_dict[alg_type]:\n",
    "        raise ValueError(\"Нет такого алгоритма\")\n",
    "    return alg_type, alg_name"
   ]
  },
  {
   "cell_type": "code",
   "execution_count": 4,
   "id": "ea4e4d5f",
   "metadata": {},
   "outputs": [],
   "source": [
    "def info_selection(alg_type):\n",
    "    model = load_model(f'models\\\\{info_dict[alg_type][0]}')\n",
    "    with open(f'files\\\\{info_dict[alg_type][1]}', 'rb') as file:\n",
    "        pre_files = pickle.load(file)\n",
    "    tokenizer = settings(alg_type,pre_files)\n",
    "    return model, tokenizer"
   ]
  },
  {
   "cell_type": "code",
   "execution_count": 5,
   "id": "f099858d",
   "metadata": {},
   "outputs": [],
   "source": [
    "def settings(alg_type,pre_files):\n",
    "    maxWord = info_dict[alg_type][2][0]\n",
    "    max_text_len = info_dict[alg_type][2][1]\n",
    "    tokenizer = Tokenizer(num_words=maxWord, lower = True, split = ' ', char_level=False)\n",
    "    tokenizer.fit_on_texts(pre_files)\n",
    "    return tokenizer"
   ]
  },
  {
   "cell_type": "code",
   "execution_count": 6,
   "id": "185416ed",
   "metadata": {},
   "outputs": [],
   "source": [
    "def test_model(text,max_text_len,model,tokenizer):\n",
    "    test_text = text.lower()\n",
    "    data_test = tokenizer.texts_to_sequences([test_text])\n",
    "    data_pad_test = pad_sequences(data_test, maxlen = max_text_len)\n",
    "    res = model.predict(data_pad_test)\n",
    "    return res, np.argmax(res)"
   ]
  },
  {
   "cell_type": "code",
   "execution_count": null,
   "id": "15692f2c",
   "metadata": {},
   "outputs": [],
   "source": [
    "def take_alg(text):\n",
    "    test_model"
   ]
  },
  {
   "cell_type": "code",
   "execution_count": 38,
   "id": "2cc705b9",
   "metadata": {},
   "outputs": [
    {
     "name": "stdout",
     "output_type": "stream",
     "text": [
      "sort\n",
      "bubble_sort\n"
     ]
    }
   ],
   "source": [
    "if __name__ == '__main__':\n",
    "    alg_type, alg_name = alg_selection()\n",
    "    model,tokenizer = info_selection(alg_type)\n",
    "    "
   ]
  },
  {
   "cell_type": "code",
   "execution_count": null,
   "id": "f5b40040",
   "metadata": {},
   "outputs": [],
   "source": []
  }
 ],
 "metadata": {
  "kernelspec": {
   "display_name": "tfod",
   "language": "python",
   "name": "myenv"
  },
  "language_info": {
   "codemirror_mode": {
    "name": "ipython",
    "version": 3
   },
   "file_extension": ".py",
   "mimetype": "text/x-python",
   "name": "python",
   "nbconvert_exporter": "python",
   "pygments_lexer": "ipython3",
   "version": "3.9.18"
  }
 },
 "nbformat": 4,
 "nbformat_minor": 5
}
