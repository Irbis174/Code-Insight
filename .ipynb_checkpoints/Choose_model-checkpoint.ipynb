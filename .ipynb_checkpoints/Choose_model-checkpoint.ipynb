{
 "cells": [
  {
   "cell_type": "code",
   "execution_count": 1,
   "id": "a78ef26c",
   "metadata": {},
   "outputs": [],
   "source": [
    "import numpy as np\n",
    "from keras.models import load_model\n",
    "import tensorflow as tf\n",
    "from tensorflow.keras.preprocessing.text import Tokenizer\n",
    "from tensorflow.keras.preprocessing.sequence import pad_sequences\n",
    "\n",
    "import os\n",
    "from os import chdir\n",
    "import re\n",
    "\n",
    "import pickle"
   ]
  },
  {
   "cell_type": "code",
   "execution_count": 3,
   "id": "b445180a",
   "metadata": {},
   "outputs": [],
   "source": [
    "alg_dict = {'sort': ['bubble_sort', 'quick_sort','selection_sort', 'merge_sort', 'insertion_sort'], 'find': ['binary_search']}\n",
    "info_dict = {'sort': ['test_5_sort.h5','5_sort.pickle',[25,400]], 'find': ['find_test', '', [20,20]]}\n",
    "max_text_len = None\n",
    "model = None\n",
    "tokenizer = None"
   ]
  },
  {
   "cell_type": "code",
   "execution_count": null,
   "id": "85b5b04c",
   "metadata": {},
   "outputs": [],
   "source": [
    "def alg_selection():\n",
    "    alg_type = str(input(\"Введите тип алгоритма: \"))\n",
    "    if alg_type not in alg_dict: \n",
    "        raise ValueError(\"Нет такого вида алгоритма\")\n",
    "    alg_name = str(input(\"Введите название алгоритма: \"))\n",
    "    if alg_name not in alg_dict[alg_type]:\n",
    "        raise ValueError(\"Нет такого алгоритма\")\n",
    "    return alg_type, alg_name"
   ]
  },
  {
   "cell_type": "code",
   "execution_count": null,
   "id": "ea4e4d5f",
   "metadata": {},
   "outputs": [],
   "source": [
    "def info_selection(alg_type):\n",
    "    model = load_model(f'models\\\\{info_dict[alg_type][0]}')\n",
    "    with open(f'files\\\\{info_dict[alg_type][1]}', 'rb') as file:\n",
    "        pre_files = pickle.load(file)\n",
    "    max_text_len, tokenizer = settings(alg_type,pre_files)\n",
    "    return model, max_text_len, tokenizer"
   ]
  },
  {
   "cell_type": "code",
   "execution_count": null,
   "id": "f099858d",
   "metadata": {},
   "outputs": [],
   "source": [
    "def settings(alg_type,pre_files):\n",
    "    maxWord = info_dict[alg_type][2][0]\n",
    "    max_text_len = info_dict[alg_type][2][1]\n",
    "    tokenizer = Tokenizer(num_words=maxWord, lower = True, split = ' ', char_level=False)\n",
    "    tokenizer.fit_on_texts(pre_files)\n",
    "    return max_text_len, tokenizer"
   ]
  },
  {
   "cell_type": "code",
   "execution_count": null,
   "id": "a57b601c",
   "metadata": {},
   "outputs": [],
   "source": [
    "if __name__ == '__main__':\n",
    "    alg_type, alg_name = alg_selection()\n",
    "    model, max_text_len, tokenizer = info_selection(alg_type)"
   ]
  },
  {
   "cell_type": "code",
   "execution_count": 19,
   "id": "4df48506",
   "metadata": {},
   "outputs": [],
   "source": [
    "def test_model(text,max_text_len = max_text_len, model = model,tokenizer = tokenizer):\n",
    "    test_text = text.lower()\n",
    "    data_test = tokenizer.texts_to_sequences([test_text])\n",
    "    data_pad_test = pad_sequences(data_test, maxlen = max_text_len)\n",
    "    res = model.predict(data_pad_test)\n",
    "    print(res, np.argmax(res))\n",
    "    feedback(text)\n",
    "    return res, np.argmax(res)"
   ]
  },
  {
   "cell_type": "code",
   "execution_count": 20,
   "id": "4337cae5",
   "metadata": {},
   "outputs": [],
   "source": [
    "def natural_sort_key(s):\n",
    "    return [int(t) if t.isdigit() else t for t in re.split(r'(\\d+)', s)]\n",
    "\n",
    "def make_file(alg_type, alg_name, file, text):\n",
    "    file = open(f'dataset\\{alg_type}\\{alg_name}\\{file}', \"w\")\n",
    "    file.write(text)\n",
    "\n",
    "def feedback(text):\n",
    "    while True:\n",
    "        user_input = input(\"Правильно ли нейросеть определила алгоритм? True или False? \\n\").lower()\n",
    "        if user_input == \"true\":\n",
    "            recall = True\n",
    "            break\n",
    "        elif user_input == \"false\":\n",
    "            recall = False\n",
    "            break\n",
    "        else:\n",
    "            print(\"Некорректный ввод. Пожалуйста, введите True или False.\")\n",
    "\n",
    "    if not(recall):\n",
    "        alg_type, alg_name = alg_selection()\n",
    "        file = sorted(os.listdir(f'dataset/{alg_type}/{alg_name}'), key=natural_sort_key)[-2]\n",
    "        new_file = re.sub(r'\\d+', lambda x: str(int(x.group()) + 1), file)\n",
    "        make_file(alg_type, alg_name, new_file, text)\n",
    "        print(\"Спасибо за обратную связь\")\n",
    "    else:\n",
    "        print(\"Спасибо за обратную связь\")"
   ]
  },
  {
   "cell_type": "code",
   "execution_count": 21,
   "id": "f5b40040",
   "metadata": {},
   "outputs": [
    {
     "name": "stdout",
     "output_type": "stream",
     "text": [
      "[[0.2326386  0.14755422 0.3655972  0.14605904 0.10815097]] 2\n",
      "Правильно ли нейросеть определила алгоритм? True или False? \n",
      "true\n",
      "Спасибо за обратную связь\n"
     ]
    },
    {
     "data": {
      "text/plain": [
       "(array([[0.2326386 , 0.14755422, 0.3655972 , 0.14605904, 0.10815097]],\n",
       "       dtype=float32),\n",
       " 2)"
      ]
     },
     "execution_count": 21,
     "metadata": {},
     "output_type": "execute_result"
    }
   ],
   "source": [
    "test_model(\"\"\"\n",
    "def select_sort(A):\n",
    "    for i in range(len(A) - 1):\n",
    "        min_index = i\n",
    "        for k in range(i + 1, len(A)):\n",
    "            if A[k] < A[min_index]:\n",
    "                min_index = k\n",
    "        A[i], A[min_index] = A[min_index], A[i]\n",
    "    return A\n",
    "            \"\"\")"
   ]
  },
  {
   "cell_type": "code",
   "execution_count": 23,
   "id": "cf2e2734",
   "metadata": {},
   "outputs": [
    {
     "name": "stdout",
     "output_type": "stream",
     "text": [
      "[[0.27039877 0.13588218 0.28787076 0.19170475 0.11414352]] 2\n",
      "Правильно ли нейросеть определила алгоритм? True или False? \n",
      "false\n",
      "Введите тип алгоритма: sort\n",
      "Введите название алгоритма: bubble_sort\n",
      "Спасибо за обратную связь\n"
     ]
    },
    {
     "data": {
      "text/plain": [
       "(array([[0.27039877, 0.13588218, 0.28787076, 0.19170475, 0.11414352]],\n",
       "       dtype=float32),\n",
       " 2)"
      ]
     },
     "execution_count": 23,
     "metadata": {},
     "output_type": "execute_result"
    }
   ],
   "source": [
    "test_model(\"\"\"\n",
    "    def bubble_sort(array):\n",
    "        len = len(array)\n",
    "        for n in range(len):\n",
    "            for k in range(0, len - n - 1):\n",
    "                if array[k] > array[k + 1]:\n",
    "                    array[k], array[k + 1] = array[k + 1], array[k]\n",
    "            \"\"\")"
   ]
  },
  {
   "cell_type": "code",
   "execution_count": 52,
   "id": "e2cbff41",
   "metadata": {},
   "outputs": [
    {
     "data": {
      "text/plain": [
       "'C:\\\\Users\\\\Matvey\\\\Анализ кода\\\\Code-Insight\\\\dataset\\\\sort\\\\bubble_sort'"
      ]
     },
     "execution_count": 52,
     "metadata": {},
     "output_type": "execute_result"
    }
   ],
   "source": [
    "pwd"
   ]
  },
  {
   "cell_type": "code",
   "execution_count": 58,
   "id": "5c8b065b",
   "metadata": {},
   "outputs": [
    {
     "name": "stdout",
     "output_type": "stream",
     "text": [
      "C:\\Users\\Matvey\\Анализ кода\\Code-Insight\n"
     ]
    }
   ],
   "source": []
  },
  {
   "cell_type": "code",
   "execution_count": null,
   "id": "8e1a8d51",
   "metadata": {},
   "outputs": [],
   "source": []
  }
 ],
 "metadata": {
  "kernelspec": {
   "display_name": "tfod",
   "language": "python",
   "name": "myenv"
  },
  "language_info": {
   "codemirror_mode": {
    "name": "ipython",
    "version": 3
   },
   "file_extension": ".py",
   "mimetype": "text/x-python",
   "name": "python",
   "nbconvert_exporter": "python",
   "pygments_lexer": "ipython3",
   "version": "3.9.18"
  }
 },
 "nbformat": 4,
 "nbformat_minor": 5
}
