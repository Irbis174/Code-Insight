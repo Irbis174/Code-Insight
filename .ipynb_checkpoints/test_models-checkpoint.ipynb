{
 "cells": [
  {
   "cell_type": "code",
   "execution_count": 1,
   "id": "7e8d9dd7",
   "metadata": {},
   "outputs": [],
   "source": [
    "import numpy as np\n",
    "from keras.models import load_model\n",
    "import tensorflow as tf\n",
    "from tensorflow.keras.preprocessing.text import Tokenizer\n",
    "from tensorflow.keras.preprocessing.sequence import pad_sequences\n",
    "\n",
    "import pickle"
   ]
  },
  {
   "cell_type": "code",
   "execution_count": 2,
   "id": "7a9b6fd1",
   "metadata": {},
   "outputs": [],
   "source": [
    "model = load_model(\"models\\\\test_4_sort(6).h5\")"
   ]
  },
  {
   "cell_type": "code",
   "execution_count": 4,
   "id": "1a634995",
   "metadata": {},
   "outputs": [],
   "source": [
    "with open('files\\\\4_sort.pickle', 'rb') as file:\n",
    "    pre_files_sort = pickle.load(file)"
   ]
  },
  {
   "cell_type": "code",
   "execution_count": 196,
   "id": "72f3b653",
   "metadata": {},
   "outputs": [],
   "source": [
    "maxWord = 80\n",
    "max_text_len = 27\n",
    "tokenizer = Tokenizer(num_words=maxWord, lower = True, split = ' ', char_level=False)\n",
    "tokenizer.fit_on_texts(pre_files_sort)\n",
    "dist = list(tokenizer.word_counts.items())\n",
    "data = tokenizer.texts_to_sequences(pre_files_sort)\n",
    "data_pad = pad_sequences(data,maxlen = max_text_len)"
   ]
  },
  {
   "cell_type": "code",
   "execution_count": 197,
   "id": "6edf8099",
   "metadata": {},
   "outputs": [],
   "source": [
    "def test_model(text,max_text_len = max_text_len,model=model):\n",
    "    test_text = text.lower()\n",
    "    data_test = tokenizer.texts_to_sequences([test_text])\n",
    "    data_pad_test = pad_sequences(data_test, maxlen = max_text_len)\n",
    "    res = model.predict(data_pad_test)\n",
    "    return res, np.argmax(res)"
   ]
  },
  {
   "cell_type": "code",
   "execution_count": 198,
   "id": "8a7e54c6",
   "metadata": {},
   "outputs": [
    {
     "data": {
      "text/plain": [
       "(array([[0.82811314, 0.03100561, 0.06204055, 0.07884069]], dtype=float32), 0)"
      ]
     },
     "execution_count": 198,
     "metadata": {},
     "output_type": "execute_result"
    }
   ],
   "source": [
    "test_model(\"\"\"\n",
    "    def bubble_sort(arr):\n",
    "        n = len(arr)\n",
    "        for i in range(n):\n",
    "            for j in range(0, n - i - 1):\n",
    "                if arr[j] > arr[j + 1]:\n",
    "                    arr[j], arr[j + 1] = arr[j + 1], arr[j]\n",
    "            \"\"\")"
   ]
  },
  {
   "cell_type": "code",
   "execution_count": 199,
   "id": "ef278d0f",
   "metadata": {},
   "outputs": [
    {
     "data": {
      "text/plain": [
       "(array([[0.1466176 , 0.52406913, 0.15699892, 0.17231435]], dtype=float32), 1)"
      ]
     },
     "execution_count": 199,
     "metadata": {},
     "output_type": "execute_result"
    }
   ],
   "source": [
    "test_model(\"\"\"\n",
    "    def quicksort(arr):\n",
    "        if len(arr) <= 1:\n",
    "            return arr\n",
    "        else:\n",
    "            pivot = arr[0]\n",
    "            less = [x for x in arr[1:] if x <= pivot]\n",
    "            greater = [x for x in arr[1:] if x > pivot]\n",
    "            return quicksort(less) + [pivot] + quicksort(greater)\n",
    "            \"\"\")"
   ]
  },
  {
   "cell_type": "code",
   "execution_count": 200,
   "id": "0eac299a",
   "metadata": {},
   "outputs": [
    {
     "data": {
      "text/plain": [
       "(array([[0.09840494, 0.10950741, 0.6876107 , 0.10447691]], dtype=float32), 2)"
      ]
     },
     "execution_count": 200,
     "metadata": {},
     "output_type": "execute_result"
    }
   ],
   "source": [
    "test_model(\"\"\"\n",
    "    def selection_sort(arr):        \n",
    "        for i in range(len(arr)):\n",
    "            minimum = i\n",
    "            for j in range(i + 1, len(arr)):\n",
    "                if arr[j] < arr[minimum]:\n",
    "                    minimum = j\n",
    "            arr[minimum], arr[i] = arr[i], arr[minimum]\n",
    "        return arr\n",
    "            \"\"\")"
   ]
  },
  {
   "cell_type": "code",
   "execution_count": 201,
   "id": "58079e88",
   "metadata": {},
   "outputs": [
    {
     "data": {
      "text/plain": [
       "(array([[0.15196231, 0.19823535, 0.07429934, 0.575503  ]], dtype=float32), 3)"
      ]
     },
     "execution_count": 201,
     "metadata": {},
     "output_type": "execute_result"
    }
   ],
   "source": [
    "test_model(\"\"\"\n",
    "    import operator\n",
    "    def merge_sort(L, compare=operator.lt):\n",
    "        if len(L) < 2:\n",
    "            return L[:]\n",
    "        else:\n",
    "            middle = int(len(L) / 2)\n",
    "            left = merge_sort(L[:middle], compare)\n",
    "            right = merge_sort(L[middle:], compare)\n",
    "            return merge(left, right, compare)\n",
    "\n",
    "            def merge(left, right, compare):\n",
    "        result = []\n",
    "        i, j = 0, 0\n",
    "        while i < len(left) and j < len(right):\n",
    "            if compare(left[i], right[j]):\n",
    "                result.append(left[i])\n",
    "                i += 1\n",
    "            else:\n",
    "                result.append(right[j])\n",
    "                j += 1\n",
    "        while i < len(left):\n",
    "            result.append(left[i])\n",
    "            i += 1\n",
    "        while j < len(right):\n",
    "            result.append(right[j])\n",
    "            j += 1\n",
    "        return result\n",
    "            \"\"\")"
   ]
  },
  {
   "cell_type": "code",
   "execution_count": 202,
   "id": "130a1231",
   "metadata": {},
   "outputs": [
    {
     "data": {
      "text/plain": [
       "(array([[0.32161233, 0.12725638, 0.41532412, 0.13580719]], dtype=float32), 2)"
      ]
     },
     "execution_count": 202,
     "metadata": {},
     "output_type": "execute_result"
    }
   ],
   "source": [
    "test_model(\"\"\"\n",
    "def partition(arr, low, high):\n",
    "    pivot = arr[high]\n",
    "    i = low - 1\n",
    "    \n",
    "    for j in range(low, high):\n",
    "        if arr[j] <= pivot:\n",
    "            i += 1\n",
    "            arr[i], arr[j] = arr[j], arr[i]\n",
    "\n",
    "    arr[i + 1], arr[high] = arr[high], arr[i + 1]\n",
    "    return i + 1\n",
    "\n",
    "def quicksort(arr, low=0, high=None):\n",
    "    if high is None:\n",
    "        high = len(arr) - 1\n",
    "\n",
    "    if low < high:\n",
    "        pivot_index = partition(arr, low, high)\n",
    "\n",
    "        quicksort(arr, low, pivot_index - 1)\n",
    "        quicksort(arr, pivot_index + 1, high)\n",
    "\n",
    "    return arr\n",
    "\n",
    "    \"\"\")"
   ]
  },
  {
   "cell_type": "code",
   "execution_count": null,
   "id": "a92eeea6",
   "metadata": {},
   "outputs": [],
   "source": []
  }
 ],
 "metadata": {
  "kernelspec": {
   "display_name": "tfod",
   "language": "python",
   "name": "myenv"
  },
  "language_info": {
   "codemirror_mode": {
    "name": "ipython",
    "version": 3
   },
   "file_extension": ".py",
   "mimetype": "text/x-python",
   "name": "python",
   "nbconvert_exporter": "python",
   "pygments_lexer": "ipython3",
   "version": "3.9.18"
  }
 },
 "nbformat": 4,
 "nbformat_minor": 5
}
