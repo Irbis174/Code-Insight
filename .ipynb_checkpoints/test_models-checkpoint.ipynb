{
 "cells": [
  {
   "cell_type": "code",
   "execution_count": 1,
   "id": "7e8d9dd7",
   "metadata": {},
   "outputs": [],
   "source": [
    "import numpy as np\n",
    "from keras.models import load_model\n",
    "import tensorflow as tf\n",
    "from tensorflow.keras.preprocessing.text import Tokenizer\n",
    "from tensorflow.keras.preprocessing.sequence import pad_sequences\n",
    "\n",
    "import pickle"
   ]
  },
  {
   "cell_type": "code",
   "execution_count": 2,
   "id": "1a634995",
   "metadata": {},
   "outputs": [],
   "source": [
    "with open('files\\\\pre_files.pickle', 'rb') as file:\n",
    "    # загружаем данные из файла\n",
    "    pre_files = pickle.load(file)"
   ]
  },
  {
   "cell_type": "code",
   "execution_count": 29,
   "id": "1b7d6bce",
   "metadata": {},
   "outputs": [],
   "source": [
    "tokenizer = Tokenizer(num_words=maxWord, lower = True, split = ' ', char_level=False)\n",
    "tokenizer.fit_on_texts(pre_files)\n",
    "dist = list(tokenizer.word_counts.items())\n",
    "data = tokenizer.texts_to_sequences(pre_files)\n",
    "data_pad = pad_sequences(data,maxlen = max_text_len)"
   ]
  },
  {
   "cell_type": "code",
   "execution_count": 35,
   "id": "58eb0279",
   "metadata": {},
   "outputs": [],
   "source": [
    "test_text = \"\"\"\n",
    "def bubble_sort(arr):\n",
    "    swapped = True\n",
    "    while swapped:\n",
    "        swapped = False\n",
    "        for i in range(len(arr) - 1):\n",
    "            if arr[i] > arr[i + 1]:\n",
    "                arr[i], arr[i + 1] = arr[i + 1], arr[i]\n",
    "                swapped = True\n",
    "            \"\"\".lower()\n",
    "data_test = tokenizer.texts_to_sequences([test_text])\n",
    "data_pad_test = pad_sequences(data_test, maxlen = max_text_len)"
   ]
  },
  {
   "cell_type": "code",
   "execution_count": 11,
   "id": "02cc6104",
   "metadata": {},
   "outputs": [],
   "source": [
    "model = load_model('models\\Первая_адекватная_модель.h5')"
   ]
  },
  {
   "cell_type": "code",
   "execution_count": 36,
   "id": "22793bc9",
   "metadata": {},
   "outputs": [
    {
     "name": "stdout",
     "output_type": "stream",
     "text": [
      "[[0.9786064  0.02139361]] 0\n"
     ]
    }
   ],
   "source": [
    "res = model.predict(data_pad_test)\n",
    "print(res, np.argmax(res))"
   ]
  }
 ],
 "metadata": {
  "kernelspec": {
   "display_name": "tfod",
   "language": "python",
   "name": "myenv"
  },
  "language_info": {
   "codemirror_mode": {
    "name": "ipython",
    "version": 3
   },
   "file_extension": ".py",
   "mimetype": "text/x-python",
   "name": "python",
   "nbconvert_exporter": "python",
   "pygments_lexer": "ipython3",
   "version": "3.9.18"
  }
 },
 "nbformat": 4,
 "nbformat_minor": 5
}
