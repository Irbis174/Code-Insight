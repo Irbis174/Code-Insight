{
 "cells": [
  {
   "cell_type": "code",
   "execution_count": 102,
   "id": "7e8d9dd7",
   "metadata": {},
   "outputs": [],
   "source": [
    "import numpy as np\n",
    "from keras.models import load_model\n",
    "import tensorflow as tf\n",
    "from tensorflow.keras.preprocessing.text import Tokenizer\n",
    "from tensorflow.keras.preprocessing.sequence import pad_sequences\n",
    "\n",
    "import pickle"
   ]
  },
  {
   "cell_type": "code",
   "execution_count": 103,
   "id": "7a9b6fd1",
   "metadata": {},
   "outputs": [],
   "source": [
    "model = load_model(\"models\\\\5_sort_bug.h5\")"
   ]
  },
  {
   "cell_type": "code",
   "execution_count": 104,
   "id": "1a634995",
   "metadata": {},
   "outputs": [],
   "source": [
    "with open('files\\\\new_sort_5.pickle', 'rb') as file:\n",
    "    pre_files_sort = pickle.load(file)"
   ]
  },
  {
   "cell_type": "code",
   "execution_count": 105,
   "id": "72f3b653",
   "metadata": {},
   "outputs": [],
   "source": [
    "maxWord = 50\n",
    "max_text_len = 50\n",
    "tokenizer = Tokenizer(num_words=maxWord, lower = True, split = ' ', char_level=False)\n",
    "tokenizer.fit_on_texts(pre_files_sort)\n",
    "\n",
    "def test_model(text,max_text_len = max_text_len,model=model):\n",
    "    test_text = text.lower()\n",
    "    data_test = tokenizer.texts_to_sequences([test_text])\n",
    "    data_pad_test = pad_sequences(data_test, maxlen = max_text_len)\n",
    "    res = model.predict(data_pad_test)\n",
    "    return res, np.argmax(res)"
   ]
  },
  {
   "cell_type": "code",
   "execution_count": 108,
   "id": "8a7e54c6",
   "metadata": {},
   "outputs": [
    {
     "data": {
      "text/plain": [
       "(array([[0.7303263 , 0.13760057, 0.01794833, 0.03906905, 0.07505581]],\n",
       "       dtype=float32),\n",
       " 0)"
      ]
     },
     "execution_count": 108,
     "metadata": {},
     "output_type": "execute_result"
    }
   ],
   "source": [
    "test_model(\"\"\"\n",
    "    def bubble_sort(arr):\n",
    "        n = len(arr)\n",
    "        for i in range(n):\n",
    "            for j in range(0, n - i - 1):\n",
    "                if arr[j] > arr[j + 1]:\n",
    "                    arr[j], arr[j + 1] = arr[j + 1], arr[j]\n",
    "            \"\"\")"
   ]
  },
  {
   "cell_type": "code",
   "execution_count": 107,
   "id": "7383b265",
   "metadata": {},
   "outputs": [
    {
     "data": {
      "text/plain": [
       "(array([[0.7429699 , 0.1643642 , 0.00989662, 0.0376676 , 0.04510168]],\n",
       "       dtype=float32),\n",
       " 0)"
      ]
     },
     "execution_count": 107,
     "metadata": {},
     "output_type": "execute_result"
    }
   ],
   "source": [
    "test_model(\"\"\"\n",
    "    def bubble_sort(array):\n",
    "        len = len(array)\n",
    "        for n in range(len):\n",
    "            for k in range(0, len - n - 1):\n",
    "                if array[k] > array[k + 1]:\n",
    "                    array[k], array[k + 1] = array[k + 1], array[k]\n",
    "            \"\"\")"
   ]
  },
  {
   "cell_type": "code",
   "execution_count": 121,
   "id": "ef278d0f",
   "metadata": {},
   "outputs": [
    {
     "data": {
      "text/plain": [
       "(array([[0.16505702, 0.78498065, 0.00862841, 0.03018214, 0.01115172]],\n",
       "       dtype=float32),\n",
       " 1)"
      ]
     },
     "execution_count": 121,
     "metadata": {},
     "output_type": "execute_result"
    }
   ],
   "source": [
    "test_model(\"\"\"\n",
    "def QuickSort(A):\n",
    "    if len(A) <= 1:\n",
    "        return A\n",
    "    else:\n",
    "        q = random.choice(A)\n",
    "        L = []\n",
    "        M = []\n",
    "        R = []\n",
    "        for elem in A:\n",
    "            if elem < q:\n",
    "                L.append(elem) \n",
    "            elif elem > q: \n",
    "                R.append(elem) \n",
    "            else: \n",
    "                M.append(elem)\n",
    "        return QuickSort(L) + M + QuickSort(R)\n",
    "            \"\"\")"
   ]
  },
  {
   "cell_type": "code",
   "execution_count": 122,
   "id": "0eac299a",
   "metadata": {},
   "outputs": [
    {
     "data": {
      "text/plain": [
       "(array([[0.30060494, 0.02491053, 0.1114829 , 0.05009313, 0.5129085 ]],\n",
       "       dtype=float32),\n",
       " 4)"
      ]
     },
     "execution_count": 122,
     "metadata": {},
     "output_type": "execute_result"
    }
   ],
   "source": [
    "test_model(\"\"\"\n",
    "    def selection_sort(arr):        \n",
    "        for i in range(len(arr)):\n",
    "            minimum = i\n",
    "            for j in range(i + 1, len(arr)):\n",
    "                if arr[j] < arr[minimum]:\n",
    "                    minimum = j\n",
    "            arr[minimum], arr[i] = arr[i], arr[minimum]\n",
    "        return arr\n",
    "            \"\"\")"
   ]
  },
  {
   "cell_type": "code",
   "execution_count": 120,
   "id": "58079e88",
   "metadata": {},
   "outputs": [
    {
     "data": {
      "text/plain": [
       "(array([[0.02931589, 0.03772069, 0.04269855, 0.8607615 , 0.02950334]],\n",
       "       dtype=float32),\n",
       " 3)"
      ]
     },
     "execution_count": 120,
     "metadata": {},
     "output_type": "execute_result"
    }
   ],
   "source": [
    "test_model(\"\"\"\n",
    "    import operator\n",
    "    def merge_sort(L, compare=operator.lt):\n",
    "        if len(L) < 2:\n",
    "            return L[:]\n",
    "        else:\n",
    "            middle = int(len(L) / 2)\n",
    "            left = merge_sort(L[:middle], compare)\n",
    "            right = merge_sort(L[middle:], compare)\n",
    "            return merge(left, right, compare)\n",
    "\n",
    "            def merge(left, right, compare):\n",
    "        result = []\n",
    "        i, j = 0, 0\n",
    "        while i < len(left) and j < len(right):\n",
    "            if compare(left[i], right[j]):\n",
    "                result.append(left[i])\n",
    "                i += 1\n",
    "            else:\n",
    "                result.append(right[j])\n",
    "                j += 1\n",
    "        while i < len(left):\n",
    "            result.append(left[i])\n",
    "            i += 1\n",
    "        while j < len(right):\n",
    "            result.append(right[j])\n",
    "            j += 1\n",
    "        return result\n",
    "            \"\"\")"
   ]
  },
  {
   "cell_type": "code",
   "execution_count": 119,
   "id": "130a1231",
   "metadata": {},
   "outputs": [
    {
     "data": {
      "text/plain": [
       "(array([[0.16127342, 0.7869367 , 0.00925862, 0.03166679, 0.01086446]],\n",
       "       dtype=float32),\n",
       " 1)"
      ]
     },
     "execution_count": 119,
     "metadata": {},
     "output_type": "execute_result"
    }
   ],
   "source": [
    "test_model(\"\"\"\n",
    "def partition(arr, low, high):\n",
    "    pivot = arr[high]\n",
    "    i = low - 1\n",
    "    \n",
    "    for j in range(low, high):\n",
    "        if arr[j] <= pivot:\n",
    "            i += 1\n",
    "            arr[i], arr[j] = arr[j], arr[i]\n",
    "\n",
    "    arr[i + 1], arr[high] = arr[high], arr[i + 1]\n",
    "    return i + 1\n",
    "\n",
    "def quicksort(arr, low=0, high=None):\n",
    "    if high is None:\n",
    "        high = len(arr) - 1\n",
    "\n",
    "    if low < high:\n",
    "        pivot_index = partition(arr, low, high)\n",
    "\n",
    "        quicksort(arr, low, pivot_index - 1)\n",
    "        quicksort(arr, pivot_index + 1, high)\n",
    "\n",
    "    return arr\n",
    "\n",
    "    \"\"\")"
   ]
  },
  {
   "cell_type": "code",
   "execution_count": 118,
   "id": "a92eeea6",
   "metadata": {},
   "outputs": [
    {
     "data": {
      "text/plain": [
       "(array([[0.30060494, 0.02491053, 0.1114829 , 0.05009313, 0.5129085 ]],\n",
       "       dtype=float32),\n",
       " 4)"
      ]
     },
     "execution_count": 118,
     "metadata": {},
     "output_type": "execute_result"
    }
   ],
   "source": [
    "test_model(\"\"\"def selection_sort(arr):        \n",
    "    for i in range(len(arr)):\n",
    "        minimum = i\n",
    "        for j in range(i + 1, len(arr)):\n",
    "            if arr[j] < arr[minimum]:\n",
    "                minimum = j\n",
    "        arr[minimum], arr[i] = arr[i], arr[minimum]\n",
    "    return arr\"\"\")"
   ]
  },
  {
   "cell_type": "code",
   "execution_count": 117,
   "id": "b97c39f1",
   "metadata": {},
   "outputs": [
    {
     "data": {
      "text/plain": [
       "(array([[0.16403522, 0.7862317 , 0.00864909, 0.02997981, 0.0111041 ]],\n",
       "       dtype=float32),\n",
       " 1)"
      ]
     },
     "execution_count": 117,
     "metadata": {},
     "output_type": "execute_result"
    }
   ],
   "source": [
    "test_model(\"\"\"def quicksort(arr):\n",
    "        if len(arr) <= 1:\n",
    "            return arr\n",
    "        else:\n",
    "            pivot = arr[0]\n",
    "            less = [x for x in arr[1:] if x <= pivot]\n",
    "            greater = [x for x in arr[1:] if x > pivot]\n",
    "            return quicksort(less) + [pivot] + quicksort(greater)\n",
    "            \"\"\")"
   ]
  },
  {
   "cell_type": "code",
   "execution_count": 116,
   "id": "21f8fc0d",
   "metadata": {},
   "outputs": [
    {
     "data": {
      "text/plain": [
       "(array([[0.03063708, 0.03869577, 0.0438677 , 0.85691077, 0.02988865]],\n",
       "       dtype=float32),\n",
       " 3)"
      ]
     },
     "execution_count": 116,
     "metadata": {},
     "output_type": "execute_result"
    }
   ],
   "source": [
    "test_model(\"\"\"import operator\n",
    "def mergeSort(alist):\n",
    "    print(\"Splitting \",alist)\n",
    "    if len(alist)>1:\n",
    "        mid = len(alist)//2\n",
    "        lefthalf = alist[:mid]\n",
    "        righthalf = alist[mid:]\n",
    "\n",
    "        mergeSort(lefthalf)\n",
    "        mergeSort(righthalf)\n",
    "\n",
    "        i=0\n",
    "        j=0\n",
    "        k=0\n",
    "        while i<len(lefthalf) and j<len(righthalf):\n",
    "            if lefthalf[i]<righthalf[j]:\n",
    "                alist[k]=lefthalf[i]\n",
    "                i=i+1\n",
    "            else:\n",
    "                alist[k]=righthalf[j]\n",
    "                j=j+1\n",
    "            k=k+1\n",
    "\n",
    "        while i<len(lefthalf):\n",
    "            alist[k]=lefthalf[i]\n",
    "            i=i+1\n",
    "            k=k+1\n",
    "\n",
    "        while j<len(righthalf):\n",
    "            alist[k]=righthalf[j]\n",
    "            j=j+1\n",
    "            k=k+1\n",
    "            \"\"\")"
   ]
  },
  {
   "cell_type": "code",
   "execution_count": 114,
   "id": "866672e4",
   "metadata": {},
   "outputs": [
    {
     "data": {
      "text/plain": [
       "(array([[0.16127342, 0.7869367 , 0.00925862, 0.03166679, 0.01086446]],\n",
       "       dtype=float32),\n",
       " 1)"
      ]
     },
     "execution_count": 114,
     "metadata": {},
     "output_type": "execute_result"
    }
   ],
   "source": [
    "test_model(\"\"\"\n",
    "def partition(arr, low, high):\n",
    "    pivot = arr[high]\n",
    "    i = low - 1\n",
    "    \n",
    "    for j in range(low, high):\n",
    "        if arr[j] <= pivot:\n",
    "            i += 1\n",
    "            arr[i], arr[j] = arr[j], arr[i]\n",
    "\n",
    "    arr[i + 1], arr[high] = arr[high], arr[i + 1]\n",
    "    return i + 1\n",
    "\n",
    "def quicksort(arr, low=0, high=None):\n",
    "    if high is None:\n",
    "        high = len(arr) - 1\n",
    "\n",
    "    if low < high:\n",
    "        pivot_index = partition(arr, low, high)\n",
    "\n",
    "        quicksort(arr, low, pivot_index - 1)\n",
    "        quicksort(arr, pivot_index + 1, high)\n",
    "\n",
    "    return arr\n",
    "\n",
    "    \"\"\")"
   ]
  },
  {
   "cell_type": "code",
   "execution_count": 113,
   "id": "c6df21e4",
   "metadata": {},
   "outputs": [
    {
     "data": {
      "text/plain": [
       "(array([[0.04099272, 0.00964699, 0.03846159, 0.02377558, 0.8871231 ]],\n",
       "       dtype=float32),\n",
       " 4)"
      ]
     },
     "execution_count": 113,
     "metadata": {},
     "output_type": "execute_result"
    }
   ],
   "source": [
    "test_model(\"\"\"\n",
    "    def asdfg(hasf):\n",
    "        jsdfa = len(hasf)\n",
    "        for pqrf in range(jsdfa):\n",
    "            for mvba in range(0, jsdfa - pqrf - 1):\n",
    "                if hasf[mvba] > hasf[mvba + 1]:\n",
    "                    hasf[mvba], hasf[mvba + 1] = hasf[mvba + 1], hasf[mvba]\n",
    "            \"\"\")"
   ]
  },
  {
   "cell_type": "code",
   "execution_count": null,
   "id": "9ff3f992",
   "metadata": {},
   "outputs": [],
   "source": []
  }
 ],
 "metadata": {
  "kernelspec": {
   "display_name": "tfod",
   "language": "python",
   "name": "myenv"
  },
  "language_info": {
   "codemirror_mode": {
    "name": "ipython",
    "version": 3
   },
   "file_extension": ".py",
   "mimetype": "text/x-python",
   "name": "python",
   "nbconvert_exporter": "python",
   "pygments_lexer": "ipython3",
   "version": "3.9.18"
  }
 },
 "nbformat": 4,
 "nbformat_minor": 5
}
