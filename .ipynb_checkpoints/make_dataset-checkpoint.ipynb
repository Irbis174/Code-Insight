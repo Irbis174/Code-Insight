{
 "cells": [
  {
   "cell_type": "code",
   "execution_count": 1,
   "id": "2bc30362",
   "metadata": {},
   "outputs": [],
   "source": [
    "import os\n",
    "import re"
   ]
  },
  {
   "cell_type": "code",
   "execution_count": 2,
   "id": "99db5a72",
   "metadata": {},
   "outputs": [],
   "source": [
    "def natural_sort_key(s):\n",
    "    return [int(t) if t.isdigit() else t for t in re.split(r'(\\d+)', s)]\n",
    "\n",
    "def write_file(alg_type, alg_name, file, text):\n",
    "    file = open(f'dataset\\{alg_type}\\{alg_name}\\{file}', \"w\")\n",
    "    file.write(text)\n",
    "\n",
    "def make_file(alg_type, alg_name):\n",
    "    while True:\n",
    "        text = str(input())\n",
    "        file = sorted(os.listdir(f'dataset/{alg_type}/{alg_name}'), key=natural_sort_key)[-2]\n",
    "        new_file = re.sub(r'\\d+', lambda x: str(int(x.group()) + 1), file)\n",
    "        if text == 'break': \n",
    "            break\n",
    "        else:\n",
    "            write_file(alg_type,alg_name,new_file,text)\n",
    "            print(new_file)"
   ]
  },
  {
   "cell_type": "code",
   "execution_count": 7,
   "id": "0685a0bc",
   "metadata": {},
   "outputs": [
    {
     "name": "stdout",
     "output_type": "stream",
     "text": [
      "def linear_search(ynqt, qbpe):     for i in range(len(ynqt)):         if ynqt[i] == qbpe:             return i     return -1\n",
      "linear_search (35).py\n",
      "def linear_search(rvwx, ydtz):     for jlko in range(len(rvwx)):         if rvwx[jlko] == ydtz:             return jlko     return -1\n",
      "linear_search (36).py\n",
      "def linear_search(asnm, bqrw):     for xzpd in range(len(asnm)):         if asnm[xzpd] == bqrw:             return xzpd     return -1\n",
      "linear_search (37).py\n",
      "def linear_search(fghi, jklm):     for nopq in range(len(fghi)):         if fghi[nopq] == jklm:             return nopq     return -1\n",
      "linear_search (38).py\n",
      "def linear_search(rstu, vwxy):     for zabc in range(len(rstu)):         if rstu[zabc] == vwxy:             return zabc     return -1\n",
      "linear_search (39).py\n",
      "def linear_search(defg, hijk):     for lmno in range(len(defg)):         if defg[lmno] == hijk:             return lmno     return -1\n",
      "linear_search (40).py\n",
      "def linear_search(pqrs, tuvw):     for xyzA in range(len(pqrs)):         if pqrs[xyzA] == tuvw:             return xyzA     return -1\n",
      "linear_search (41).py\n",
      "def linear_search(bcde, fghi):     for jklm in range(len(bcde)):         if bcde[jklm] == fghi:             return jklm     return -1\n",
      "linear_search (42).py\n",
      "def linear_search(nopq, rstu):     for vwxy in range(len(nopq)):         if nopq[vwxy] == rstu:             return vwxy     return -1\n",
      "linear_search (43).py\n",
      "def linear_search(zAbc, dEfg):     for hIjk in range(len(zAbc)):         if zAbc[hIjk] == dEfg:             return hIjk     return -1\n",
      "linear_search (44).py\n",
      "def linear_search_sentinel(arr, target):     last = arr[-1]     arr[-1] = target     i = 0     while arr[i] != target:         i += 1     arr[-1] = last     if i < len(arr) - 1 or last == target:         return i     return -1\n",
      "linear_search (45).py\n",
      "def linear_search_early_break(arr, target):     for i in range(len(arr)):         if arr[i] == target:             return i         elif arr[i] > target:             break     return -1\n",
      "linear_search (46).py\n",
      "def linear_search_transpose(arr, target):     for i in range(len(arr)):         if arr[i] == target:             arr[i], arr[0] = arr[0], arr[i]             return 0     return -1\n",
      "linear_search (47).py\n",
      "def linear_search_pointers(arr, target):     left, right = 0, len(arr) - 1     while left <= right:         if arr[left] == target:             return left         left += 1     return -1\n",
      "linear_search (48).py\n",
      "def linear_search_min_max(arr, target):     min_val, max_val = min(arr), max(arr)     if target < min_val or target > max_val:         return -1     for i in range(len(arr)):         if arr[i] == target:             return i     return -1\n",
      "linear_search (49).py\n",
      "def linear_search_frequency(arr, target):     freq = {}     for i in range(len(arr)):         freq[arr[i]] = freq.get(arr[i], 0) + 1         if arr[i] == target:             return i, freq[target]     return -1, freq.get(target, 0)\n",
      "linear_search (50).py\n",
      "break\n"
     ]
    }
   ],
   "source": [
    "make_file('find','linear_search')"
   ]
  },
  {
   "cell_type": "code",
   "execution_count": null,
   "id": "7246812d",
   "metadata": {},
   "outputs": [],
   "source": []
  }
 ],
 "metadata": {
  "kernelspec": {
   "display_name": "tfod",
   "language": "python",
   "name": "myenv"
  },
  "language_info": {
   "codemirror_mode": {
    "name": "ipython",
    "version": 3
   },
   "file_extension": ".py",
   "mimetype": "text/x-python",
   "name": "python",
   "nbconvert_exporter": "python",
   "pygments_lexer": "ipython3",
   "version": "3.9.18"
  }
 },
 "nbformat": 4,
 "nbformat_minor": 5
}
