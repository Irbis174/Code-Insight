{
 "cells": [
  {
   "cell_type": "code",
   "execution_count": 12,
   "id": "b300b27b",
   "metadata": {},
   "outputs": [],
   "source": [
    "import pandas as pd\n",
    "from time import time\n",
    "from random import randint, seed, choice\n",
    "from os import chdir"
   ]
  },
  {
   "cell_type": "code",
   "execution_count": 100,
   "id": "eb603953",
   "metadata": {},
   "outputs": [],
   "source": [
    "def test(sd,cnt,f):\n",
    "    seed(sd)\n",
    "    arr = [randint(1,100000000) for i in range(cnt)]\n",
    "    time_start = time()\n",
    "    f(arr,cnt)\n",
    "    print(time() - time_start)"
   ]
  },
  {
   "cell_type": "code",
   "execution_count": 8,
   "id": "fbcc5945",
   "metadata": {},
   "outputs": [],
   "source": [
    "#создание датафрейма\n",
    "def make_df():\n",
    "    df = pd.read_csv(f'csv/dataset.csv')\n",
    "    df = df.set_index('filename')\n",
    "    del df['Unnamed: 0']\n",
    "    return df"
   ]
  },
  {
   "cell_type": "code",
   "execution_count": 9,
   "id": "bc6bb14f",
   "metadata": {},
   "outputs": [],
   "source": [
    "df = make_df()"
   ]
  },
  {
   "cell_type": "code",
   "execution_count": 10,
   "id": "8aace975",
   "metadata": {},
   "outputs": [],
   "source": [
    "def file_read(df):\n",
    "    new_lines = []\n",
    "    #df = df.sort_values(by='filename')\n",
    "    for index, row in df.iterrows():\n",
    "        chdir(f'dataset/{row[1]}/{row[2]}')\n",
    "        with open(str(index),'r', encoding = 'utf-8') as f:\n",
    "            lines = f.readlines()\n",
    "            lines = [line for line in lines if line.strip() != \"\"]\n",
    "        %cd ../../..\n",
    "        new_lines.append(lines)\n",
    "    #%cd ../..\n",
    "    return new_lines"
   ]
  },
  {
   "cell_type": "code",
   "execution_count": 61,
   "id": "45cbbfb3",
   "metadata": {},
   "outputs": [
    {
     "name": "stdout",
     "output_type": "stream",
     "text": [
      "C:\\Users\\Matvey\\Анализ кода\\Code-Insight\n",
      "C:\\Users\\Matvey\\Анализ кода\\Code-Insight\n",
      "C:\\Users\\Matvey\\Анализ кода\\Code-Insight\n",
      "C:\\Users\\Matvey\\Анализ кода\\Code-Insight\n",
      "C:\\Users\\Matvey\\Анализ кода\\Code-Insight\n",
      "C:\\Users\\Matvey\\Анализ кода\\Code-Insight\n",
      "C:\\Users\\Matvey\\Анализ кода\\Code-Insight\n",
      "C:\\Users\\Matvey\\Анализ кода\\Code-Insight\n",
      "C:\\Users\\Matvey\\Анализ кода\\Code-Insight\n",
      "C:\\Users\\Matvey\\Анализ кода\\Code-Insight\n",
      "C:\\Users\\Matvey\\Анализ кода\\Code-Insight\n",
      "C:\\Users\\Matvey\\Анализ кода\\Code-Insight\n",
      "C:\\Users\\Matvey\\Анализ кода\\Code-Insight\n",
      "C:\\Users\\Matvey\\Анализ кода\\Code-Insight\n",
      "C:\\Users\\Matvey\\Анализ кода\\Code-Insight\n",
      "C:\\Users\\Matvey\\Анализ кода\\Code-Insight\n",
      "C:\\Users\\Matvey\\Анализ кода\\Code-Insight\n",
      "C:\\Users\\Matvey\\Анализ кода\\Code-Insight\n",
      "C:\\Users\\Matvey\\Анализ кода\\Code-Insight\n",
      "C:\\Users\\Matvey\\Анализ кода\\Code-Insight\n",
      "C:\\Users\\Matvey\\Анализ кода\\Code-Insight\n",
      "C:\\Users\\Matvey\\Анализ кода\\Code-Insight\n",
      "C:\\Users\\Matvey\\Анализ кода\\Code-Insight\n",
      "C:\\Users\\Matvey\\Анализ кода\\Code-Insight\n",
      "C:\\Users\\Matvey\\Анализ кода\\Code-Insight\n",
      "C:\\Users\\Matvey\\Анализ кода\\Code-Insight\n",
      "C:\\Users\\Matvey\\Анализ кода\\Code-Insight\n",
      "C:\\Users\\Matvey\\Анализ кода\\Code-Insight\n",
      "C:\\Users\\Matvey\\Анализ кода\\Code-Insight\n",
      "C:\\Users\\Matvey\\Анализ кода\\Code-Insight\n",
      "C:\\Users\\Matvey\\Анализ кода\\Code-Insight\n",
      "C:\\Users\\Matvey\\Анализ кода\\Code-Insight\n",
      "C:\\Users\\Matvey\\Анализ кода\\Code-Insight\n",
      "C:\\Users\\Matvey\\Анализ кода\\Code-Insight\n",
      "C:\\Users\\Matvey\\Анализ кода\\Code-Insight\n"
     ]
    }
   ],
   "source": [
    "file = file_read(df)"
   ]
  },
  {
   "cell_type": "code",
   "execution_count": 71,
   "id": "3582b90b",
   "metadata": {},
   "outputs": [],
   "source": [
    "def pre_file(arr):\n",
    "    new_arr = [''.join(arr[i]) for i in range(len(arr))]\n",
    "    return new_arr"
   ]
  },
  {
   "cell_type": "code",
   "execution_count": 111,
   "id": "a8cbc9cb",
   "metadata": {},
   "outputs": [],
   "source": [
    "def take_speed(arr):\n",
    "    for i in arr:\n",
    "        print(i)\n",
    "        print(exec(i))\n",
    "        print(func)\n",
    "        test(123,10000,func)"
   ]
  },
  {
   "cell_type": "code",
   "execution_count": 108,
   "id": "a2c869a9",
   "metadata": {},
   "outputs": [],
   "source": [
    "file = pre_file(file)"
   ]
  },
  {
   "cell_type": "code",
   "execution_count": 112,
   "id": "a178b197",
   "metadata": {},
   "outputs": [
    {
     "name": "stdout",
     "output_type": "stream",
     "text": [
      "def bubble_sort(arr):\n",
      "    has_swapped = True\n",
      "    total_iteration = 0\n",
      "    while (has_swapped):\n",
      "        has_swapped = False\n",
      "        for i in range(len(arr) - total_iteration - 1):\n",
      "            if arr[i] > arr[i + 1]:\n",
      "                arr[i], arr[i + 1] = arr[i + 1], arr[i]\n",
      "                has_swapped = True\n",
      "        total_iteration += 1\n",
      "    print(\"The number of iteraton: \", total_iteration)\n",
      "    return arr\n",
      "\n",
      "None\n"
     ]
    },
    {
     "ename": "NameError",
     "evalue": "name 'func' is not defined",
     "output_type": "error",
     "traceback": [
      "\u001b[1;31m---------------------------------------------------------------------------\u001b[0m",
      "\u001b[1;31mNameError\u001b[0m                                 Traceback (most recent call last)",
      "Cell \u001b[1;32mIn[112], line 1\u001b[0m\n\u001b[1;32m----> 1\u001b[0m \u001b[43mtake_speed\u001b[49m\u001b[43m(\u001b[49m\u001b[43mfile\u001b[49m\u001b[43m)\u001b[49m\n",
      "Cell \u001b[1;32mIn[111], line 5\u001b[0m, in \u001b[0;36mtake_speed\u001b[1;34m(arr)\u001b[0m\n\u001b[0;32m      3\u001b[0m \u001b[38;5;28mprint\u001b[39m(i)\n\u001b[0;32m      4\u001b[0m \u001b[38;5;28mprint\u001b[39m(exec(i))\n\u001b[1;32m----> 5\u001b[0m \u001b[38;5;28mprint\u001b[39m(\u001b[43mfunc\u001b[49m)\n\u001b[0;32m      6\u001b[0m test(\u001b[38;5;241m123\u001b[39m,\u001b[38;5;241m10000\u001b[39m,func)\n",
      "\u001b[1;31mNameError\u001b[0m: name 'func' is not defined"
     ]
    }
   ],
   "source": [
    "take_speed(file)"
   ]
  }
 ],
 "metadata": {
  "kernelspec": {
   "display_name": "tfod",
   "language": "python",
   "name": "myenv"
  },
  "language_info": {
   "codemirror_mode": {
    "name": "ipython",
    "version": 3
   },
   "file_extension": ".py",
   "mimetype": "text/x-python",
   "name": "python",
   "nbconvert_exporter": "python",
   "pygments_lexer": "ipython3",
   "version": "3.9.18"
  }
 },
 "nbformat": 4,
 "nbformat_minor": 5
}
